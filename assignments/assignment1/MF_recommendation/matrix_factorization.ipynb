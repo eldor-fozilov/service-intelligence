{
 "cells": [
  {
   "cell_type": "markdown",
   "metadata": {
    "id": "vfyK7m0-pWqz"
   },
   "source": [
    "## Install surprise (A python scikit for recommender systems)"
   ]
  },
  {
   "cell_type": "code",
   "execution_count": null,
   "metadata": {
    "colab": {
     "base_uri": "https://localhost:8080/"
    },
    "executionInfo": {
     "elapsed": 23868,
     "status": "ok",
     "timestamp": 1662514173535,
     "user": {
      "displayName": "서현우",
      "userId": "02833306202101090536"
     },
     "user_tz": -540
    },
    "id": "XxpzDWYLpYWz",
    "outputId": "9a9636c3-6f72-4d21-f20d-e3438e5b3d09"
   },
   "outputs": [
    {
     "name": "stdout",
     "output_type": "stream",
     "text": [
      "Mounted at /content/drive\n"
     ]
    }
   ],
   "source": [
    "from google.colab import drive\n",
    "drive.mount('/content/drive')"
   ]
  },
  {
   "cell_type": "code",
   "execution_count": null,
   "metadata": {
    "colab": {
     "base_uri": "https://localhost:8080/"
    },
    "executionInfo": {
     "elapsed": 5,
     "status": "ok",
     "timestamp": 1662514173535,
     "user": {
      "displayName": "서현우",
      "userId": "02833306202101090536"
     },
     "user_tz": -540
    },
    "id": "2cTOOw2OpasD",
    "outputId": "bd789623-9b42-443a-f058-22cb954578fa"
   },
   "outputs": [
    {
     "name": "stdout",
     "output_type": "stream",
     "text": [
      "/content/drive/MyDrive/recommender_system\n"
     ]
    }
   ],
   "source": [
    "cd /content/drive/MyDrive/recommender_system"
   ]
  },
  {
   "cell_type": "code",
   "execution_count": null,
   "metadata": {
    "colab": {
     "base_uri": "https://localhost:8080/"
    },
    "executionInfo": {
     "elapsed": 34591,
     "status": "ok",
     "timestamp": 1662514208122,
     "user": {
      "displayName": "서현우",
      "userId": "02833306202101090536"
     },
     "user_tz": -540
    },
    "id": "1YPJbi49pcf0",
    "outputId": "e1e0d647-c817-4d05-fc2f-0fed4087aaa7"
   },
   "outputs": [
    {
     "name": "stdout",
     "output_type": "stream",
     "text": [
      "Looking in indexes: https://pypi.org/simple, https://us-python.pkg.dev/colab-wheels/public/simple/\n",
      "Collecting surprise\n",
      "  Downloading surprise-0.1-py2.py3-none-any.whl (1.8 kB)\n",
      "Collecting scikit-surprise\n",
      "  Downloading scikit-surprise-1.1.1.tar.gz (11.8 MB)\n",
      "\u001b[K     |████████████████████████████████| 11.8 MB 33.8 MB/s \n",
      "\u001b[?25hRequirement already satisfied: joblib>=0.11 in /usr/local/lib/python3.7/dist-packages (from scikit-surprise->surprise) (1.1.0)\n",
      "Requirement already satisfied: numpy>=1.11.2 in /usr/local/lib/python3.7/dist-packages (from scikit-surprise->surprise) (1.21.6)\n",
      "Requirement already satisfied: scipy>=1.0.0 in /usr/local/lib/python3.7/dist-packages (from scikit-surprise->surprise) (1.7.3)\n",
      "Requirement already satisfied: six>=1.10.0 in /usr/local/lib/python3.7/dist-packages (from scikit-surprise->surprise) (1.15.0)\n",
      "Building wheels for collected packages: scikit-surprise\n",
      "  Building wheel for scikit-surprise (setup.py) ... \u001b[?25l\u001b[?25hdone\n",
      "  Created wheel for scikit-surprise: filename=scikit_surprise-1.1.1-cp37-cp37m-linux_x86_64.whl size=1633962 sha256=80f6c1d49c92d5d0d0b4cfa846742f361c9a969cebe6ad8303a4ba5e574966ac\n",
      "  Stored in directory: /root/.cache/pip/wheels/76/44/74/b498c42be47b2406bd27994e16c5188e337c657025ab400c1c\n",
      "Successfully built scikit-surprise\n",
      "Installing collected packages: scikit-surprise, surprise\n",
      "Successfully installed scikit-surprise-1.1.1 surprise-0.1\n"
     ]
    }
   ],
   "source": [
    "!pip install surprise"
   ]
  },
  {
   "cell_type": "markdown",
   "metadata": {
    "id": "E5O_B7Bhpgk8"
   },
   "source": [
    "## Load packages"
   ]
  },
  {
   "cell_type": "code",
   "execution_count": null,
   "metadata": {
    "id": "17D0cIG9pfnA"
   },
   "outputs": [],
   "source": [
    "import numpy as np\n",
    "import pandas as pd\n",
    "import matplotlib.pyplot as plt\n",
    "import warnings\n",
    "import random\n",
    "\n",
    "from IPython.display import display\n",
    "from tqdm import tqdm\n",
    "from collections import defaultdict\n",
    "\n",
    "seed = 0\n",
    "np.random.seed(seed)\n",
    "random.seed(seed)\n",
    "warnings.filterwarnings(action='ignore')"
   ]
  },
  {
   "cell_type": "markdown",
   "metadata": {
    "id": "DFR-KEDopkZ-"
   },
   "source": [
    "## Load dataset\n",
    "\n",
    "#### Netflix held the Netflix Prize open competition for the best algorithm to predict user ratings for films.   \n",
    "#### This is the dataset that was used in that competition. It consists of user id and ratings (1~5) that a user rated to a movie."
   ]
  },
  {
   "cell_type": "code",
   "execution_count": null,
   "metadata": {
    "colab": {
     "base_uri": "https://localhost:8080/",
     "height": 261
    },
    "executionInfo": {
     "elapsed": 26948,
     "status": "ok",
     "timestamp": 1662514235598,
     "user": {
      "displayName": "서현우",
      "userId": "02833306202101090536"
     },
     "user_tz": -540
    },
    "id": "bmERBJu5pixg",
    "outputId": "25057c40-b305-45dd-a75a-d5a99643dac7"
   },
   "outputs": [
    {
     "name": "stdout",
     "output_type": "stream",
     "text": [
      "shape: (24058263, 2)\n",
      "\n",
      "-Dataset examples-\n"
     ]
    },
    {
     "data": {
      "text/html": [
       "\n",
       "  <div id=\"df-cf123bb9-c70b-49cd-a239-0e1fcce107c9\">\n",
       "    <div class=\"colab-df-container\">\n",
       "      <div>\n",
       "<style scoped>\n",
       "    .dataframe tbody tr th:only-of-type {\n",
       "        vertical-align: middle;\n",
       "    }\n",
       "\n",
       "    .dataframe tbody tr th {\n",
       "        vertical-align: top;\n",
       "    }\n",
       "\n",
       "    .dataframe thead th {\n",
       "        text-align: right;\n",
       "    }\n",
       "</style>\n",
       "<table border=\"1\" class=\"dataframe\">\n",
       "  <thead>\n",
       "    <tr style=\"text-align: right;\">\n",
       "      <th></th>\n",
       "      <th>Cust_Id</th>\n",
       "      <th>Rating</th>\n",
       "    </tr>\n",
       "  </thead>\n",
       "  <tbody>\n",
       "    <tr>\n",
       "      <th>0</th>\n",
       "      <td>1:</td>\n",
       "      <td>NaN</td>\n",
       "    </tr>\n",
       "    <tr>\n",
       "      <th>5000000</th>\n",
       "      <td>2560324</td>\n",
       "      <td>4.0</td>\n",
       "    </tr>\n",
       "    <tr>\n",
       "      <th>10000000</th>\n",
       "      <td>2271935</td>\n",
       "      <td>2.0</td>\n",
       "    </tr>\n",
       "    <tr>\n",
       "      <th>15000000</th>\n",
       "      <td>1921803</td>\n",
       "      <td>2.0</td>\n",
       "    </tr>\n",
       "    <tr>\n",
       "      <th>20000000</th>\n",
       "      <td>1933327</td>\n",
       "      <td>3.0</td>\n",
       "    </tr>\n",
       "  </tbody>\n",
       "</table>\n",
       "</div>\n",
       "      <button class=\"colab-df-convert\" onclick=\"convertToInteractive('df-cf123bb9-c70b-49cd-a239-0e1fcce107c9')\"\n",
       "              title=\"Convert this dataframe to an interactive table.\"\n",
       "              style=\"display:none;\">\n",
       "        \n",
       "  <svg xmlns=\"http://www.w3.org/2000/svg\" height=\"24px\"viewBox=\"0 0 24 24\"\n",
       "       width=\"24px\">\n",
       "    <path d=\"M0 0h24v24H0V0z\" fill=\"none\"/>\n",
       "    <path d=\"M18.56 5.44l.94 2.06.94-2.06 2.06-.94-2.06-.94-.94-2.06-.94 2.06-2.06.94zm-11 1L8.5 8.5l.94-2.06 2.06-.94-2.06-.94L8.5 2.5l-.94 2.06-2.06.94zm10 10l.94 2.06.94-2.06 2.06-.94-2.06-.94-.94-2.06-.94 2.06-2.06.94z\"/><path d=\"M17.41 7.96l-1.37-1.37c-.4-.4-.92-.59-1.43-.59-.52 0-1.04.2-1.43.59L10.3 9.45l-7.72 7.72c-.78.78-.78 2.05 0 2.83L4 21.41c.39.39.9.59 1.41.59.51 0 1.02-.2 1.41-.59l7.78-7.78 2.81-2.81c.8-.78.8-2.07 0-2.86zM5.41 20L4 18.59l7.72-7.72 1.47 1.35L5.41 20z\"/>\n",
       "  </svg>\n",
       "      </button>\n",
       "      \n",
       "  <style>\n",
       "    .colab-df-container {\n",
       "      display:flex;\n",
       "      flex-wrap:wrap;\n",
       "      gap: 12px;\n",
       "    }\n",
       "\n",
       "    .colab-df-convert {\n",
       "      background-color: #E8F0FE;\n",
       "      border: none;\n",
       "      border-radius: 50%;\n",
       "      cursor: pointer;\n",
       "      display: none;\n",
       "      fill: #1967D2;\n",
       "      height: 32px;\n",
       "      padding: 0 0 0 0;\n",
       "      width: 32px;\n",
       "    }\n",
       "\n",
       "    .colab-df-convert:hover {\n",
       "      background-color: #E2EBFA;\n",
       "      box-shadow: 0px 1px 2px rgba(60, 64, 67, 0.3), 0px 1px 3px 1px rgba(60, 64, 67, 0.15);\n",
       "      fill: #174EA6;\n",
       "    }\n",
       "\n",
       "    [theme=dark] .colab-df-convert {\n",
       "      background-color: #3B4455;\n",
       "      fill: #D2E3FC;\n",
       "    }\n",
       "\n",
       "    [theme=dark] .colab-df-convert:hover {\n",
       "      background-color: #434B5C;\n",
       "      box-shadow: 0px 1px 3px 1px rgba(0, 0, 0, 0.15);\n",
       "      filter: drop-shadow(0px 1px 2px rgba(0, 0, 0, 0.3));\n",
       "      fill: #FFFFFF;\n",
       "    }\n",
       "  </style>\n",
       "\n",
       "      <script>\n",
       "        const buttonEl =\n",
       "          document.querySelector('#df-cf123bb9-c70b-49cd-a239-0e1fcce107c9 button.colab-df-convert');\n",
       "        buttonEl.style.display =\n",
       "          google.colab.kernel.accessAllowed ? 'block' : 'none';\n",
       "\n",
       "        async function convertToInteractive(key) {\n",
       "          const element = document.querySelector('#df-cf123bb9-c70b-49cd-a239-0e1fcce107c9');\n",
       "          const dataTable =\n",
       "            await google.colab.kernel.invokeFunction('convertToInteractive',\n",
       "                                                     [key], {});\n",
       "          if (!dataTable) return;\n",
       "\n",
       "          const docLinkHtml = 'Like what you see? Visit the ' +\n",
       "            '<a target=\"_blank\" href=https://colab.research.google.com/notebooks/data_table.ipynb>data table notebook</a>'\n",
       "            + ' to learn more about interactive tables.';\n",
       "          element.innerHTML = '';\n",
       "          dataTable['output_type'] = 'display_data';\n",
       "          await google.colab.output.renderOutput(dataTable, element);\n",
       "          const docLink = document.createElement('div');\n",
       "          docLink.innerHTML = docLinkHtml;\n",
       "          element.appendChild(docLink);\n",
       "        }\n",
       "      </script>\n",
       "    </div>\n",
       "  </div>\n",
       "  "
      ],
      "text/plain": [
       "          Cust_Id  Rating\n",
       "0              1:     NaN\n",
       "5000000   2560324     4.0\n",
       "10000000  2271935     2.0\n",
       "15000000  1921803     2.0\n",
       "20000000  1933327     3.0"
      ]
     },
     "execution_count": 5,
     "metadata": {},
     "output_type": "execute_result"
    }
   ],
   "source": [
    "# Skip date\n",
    "df = pd.read_csv('combined_data_1.txt', header = None, names = ['Cust_Id', 'Rating'], usecols = [0,1])\n",
    "df['Rating'] = df['Rating'].astype(float)\n",
    "\n",
    "print('shape: {}\\n'.format(df.shape))\n",
    "print('-Dataset examples-')\n",
    "df.iloc[::5000000, :]"
   ]
  },
  {
   "cell_type": "markdown",
   "metadata": {
    "id": "kMZ7P2XYppgc"
   },
   "source": [
    "## The shape of the dataset\n",
    "\n",
    "#### - The dataset has two columns, Cust_Id and Rating. \n",
    "#### - Each row indicates the rating that a user (Cust_Id) gave to a movie.  \n",
    "#### - The row with the rating 'NaN' indicates the Movie_Id (Item_Id). \n"
   ]
  },
  {
   "cell_type": "code",
   "execution_count": null,
   "metadata": {
    "colab": {
     "base_uri": "https://localhost:8080/",
     "height": 428
    },
    "executionInfo": {
     "elapsed": 9,
     "status": "ok",
     "timestamp": 1662514235599,
     "user": {
      "displayName": "서현우",
      "userId": "02833306202101090536"
     },
     "user_tz": -540
    },
    "id": "7Wac8L8apopm",
    "outputId": "02af5680-56d8-4a69-dd74-2a6bd9ddb775"
   },
   "outputs": [
    {
     "data": {
      "text/html": [
       "\n",
       "  <div id=\"df-0d10ebcc-3773-4d94-b447-b5e21bdc05d6\">\n",
       "    <div class=\"colab-df-container\">\n",
       "      <div>\n",
       "<style scoped>\n",
       "    .dataframe tbody tr th:only-of-type {\n",
       "        vertical-align: middle;\n",
       "    }\n",
       "\n",
       "    .dataframe tbody tr th {\n",
       "        vertical-align: top;\n",
       "    }\n",
       "\n",
       "    .dataframe thead th {\n",
       "        text-align: right;\n",
       "    }\n",
       "</style>\n",
       "<table border=\"1\" class=\"dataframe\">\n",
       "  <thead>\n",
       "    <tr style=\"text-align: right;\">\n",
       "      <th></th>\n",
       "      <th>Cust_Id</th>\n",
       "      <th>Rating</th>\n",
       "    </tr>\n",
       "  </thead>\n",
       "  <tbody>\n",
       "    <tr>\n",
       "      <th>0</th>\n",
       "      <td>1:</td>\n",
       "      <td>NaN</td>\n",
       "    </tr>\n",
       "    <tr>\n",
       "      <th>1</th>\n",
       "      <td>1488844</td>\n",
       "      <td>3.0</td>\n",
       "    </tr>\n",
       "    <tr>\n",
       "      <th>2</th>\n",
       "      <td>822109</td>\n",
       "      <td>5.0</td>\n",
       "    </tr>\n",
       "  </tbody>\n",
       "</table>\n",
       "</div>\n",
       "      <button class=\"colab-df-convert\" onclick=\"convertToInteractive('df-0d10ebcc-3773-4d94-b447-b5e21bdc05d6')\"\n",
       "              title=\"Convert this dataframe to an interactive table.\"\n",
       "              style=\"display:none;\">\n",
       "        \n",
       "  <svg xmlns=\"http://www.w3.org/2000/svg\" height=\"24px\"viewBox=\"0 0 24 24\"\n",
       "       width=\"24px\">\n",
       "    <path d=\"M0 0h24v24H0V0z\" fill=\"none\"/>\n",
       "    <path d=\"M18.56 5.44l.94 2.06.94-2.06 2.06-.94-2.06-.94-.94-2.06-.94 2.06-2.06.94zm-11 1L8.5 8.5l.94-2.06 2.06-.94-2.06-.94L8.5 2.5l-.94 2.06-2.06.94zm10 10l.94 2.06.94-2.06 2.06-.94-2.06-.94-.94-2.06-.94 2.06-2.06.94z\"/><path d=\"M17.41 7.96l-1.37-1.37c-.4-.4-.92-.59-1.43-.59-.52 0-1.04.2-1.43.59L10.3 9.45l-7.72 7.72c-.78.78-.78 2.05 0 2.83L4 21.41c.39.39.9.59 1.41.59.51 0 1.02-.2 1.41-.59l7.78-7.78 2.81-2.81c.8-.78.8-2.07 0-2.86zM5.41 20L4 18.59l7.72-7.72 1.47 1.35L5.41 20z\"/>\n",
       "  </svg>\n",
       "      </button>\n",
       "      \n",
       "  <style>\n",
       "    .colab-df-container {\n",
       "      display:flex;\n",
       "      flex-wrap:wrap;\n",
       "      gap: 12px;\n",
       "    }\n",
       "\n",
       "    .colab-df-convert {\n",
       "      background-color: #E8F0FE;\n",
       "      border: none;\n",
       "      border-radius: 50%;\n",
       "      cursor: pointer;\n",
       "      display: none;\n",
       "      fill: #1967D2;\n",
       "      height: 32px;\n",
       "      padding: 0 0 0 0;\n",
       "      width: 32px;\n",
       "    }\n",
       "\n",
       "    .colab-df-convert:hover {\n",
       "      background-color: #E2EBFA;\n",
       "      box-shadow: 0px 1px 2px rgba(60, 64, 67, 0.3), 0px 1px 3px 1px rgba(60, 64, 67, 0.15);\n",
       "      fill: #174EA6;\n",
       "    }\n",
       "\n",
       "    [theme=dark] .colab-df-convert {\n",
       "      background-color: #3B4455;\n",
       "      fill: #D2E3FC;\n",
       "    }\n",
       "\n",
       "    [theme=dark] .colab-df-convert:hover {\n",
       "      background-color: #434B5C;\n",
       "      box-shadow: 0px 1px 3px 1px rgba(0, 0, 0, 0.15);\n",
       "      filter: drop-shadow(0px 1px 2px rgba(0, 0, 0, 0.3));\n",
       "      fill: #FFFFFF;\n",
       "    }\n",
       "  </style>\n",
       "\n",
       "      <script>\n",
       "        const buttonEl =\n",
       "          document.querySelector('#df-0d10ebcc-3773-4d94-b447-b5e21bdc05d6 button.colab-df-convert');\n",
       "        buttonEl.style.display =\n",
       "          google.colab.kernel.accessAllowed ? 'block' : 'none';\n",
       "\n",
       "        async function convertToInteractive(key) {\n",
       "          const element = document.querySelector('#df-0d10ebcc-3773-4d94-b447-b5e21bdc05d6');\n",
       "          const dataTable =\n",
       "            await google.colab.kernel.invokeFunction('convertToInteractive',\n",
       "                                                     [key], {});\n",
       "          if (!dataTable) return;\n",
       "\n",
       "          const docLinkHtml = 'Like what you see? Visit the ' +\n",
       "            '<a target=\"_blank\" href=https://colab.research.google.com/notebooks/data_table.ipynb>data table notebook</a>'\n",
       "            + ' to learn more about interactive tables.';\n",
       "          element.innerHTML = '';\n",
       "          dataTable['output_type'] = 'display_data';\n",
       "          await google.colab.output.renderOutput(dataTable, element);\n",
       "          const docLink = document.createElement('div');\n",
       "          docLink.innerHTML = docLinkHtml;\n",
       "          element.appendChild(docLink);\n",
       "        }\n",
       "      </script>\n",
       "    </div>\n",
       "  </div>\n",
       "  "
      ],
      "text/plain": [
       "   Cust_Id  Rating\n",
       "0       1:     NaN\n",
       "1  1488844     3.0\n",
       "2   822109     5.0"
      ]
     },
     "metadata": {},
     "output_type": "display_data"
    },
    {
     "data": {
      "text/html": [
       "\n",
       "  <div id=\"df-f5e4533a-7787-4644-bc9c-60a0af7b78c6\">\n",
       "    <div class=\"colab-df-container\">\n",
       "      <div>\n",
       "<style scoped>\n",
       "    .dataframe tbody tr th:only-of-type {\n",
       "        vertical-align: middle;\n",
       "    }\n",
       "\n",
       "    .dataframe tbody tr th {\n",
       "        vertical-align: top;\n",
       "    }\n",
       "\n",
       "    .dataframe thead th {\n",
       "        text-align: right;\n",
       "    }\n",
       "</style>\n",
       "<table border=\"1\" class=\"dataframe\">\n",
       "  <thead>\n",
       "    <tr style=\"text-align: right;\">\n",
       "      <th></th>\n",
       "      <th>Cust_Id</th>\n",
       "      <th>Rating</th>\n",
       "    </tr>\n",
       "  </thead>\n",
       "  <tbody>\n",
       "    <tr>\n",
       "      <th>548</th>\n",
       "      <td>2:</td>\n",
       "      <td>NaN</td>\n",
       "    </tr>\n",
       "    <tr>\n",
       "      <th>549</th>\n",
       "      <td>2059652</td>\n",
       "      <td>4.0</td>\n",
       "    </tr>\n",
       "    <tr>\n",
       "      <th>550</th>\n",
       "      <td>1666394</td>\n",
       "      <td>3.0</td>\n",
       "    </tr>\n",
       "    <tr>\n",
       "      <th>551</th>\n",
       "      <td>1759415</td>\n",
       "      <td>4.0</td>\n",
       "    </tr>\n",
       "  </tbody>\n",
       "</table>\n",
       "</div>\n",
       "      <button class=\"colab-df-convert\" onclick=\"convertToInteractive('df-f5e4533a-7787-4644-bc9c-60a0af7b78c6')\"\n",
       "              title=\"Convert this dataframe to an interactive table.\"\n",
       "              style=\"display:none;\">\n",
       "        \n",
       "  <svg xmlns=\"http://www.w3.org/2000/svg\" height=\"24px\"viewBox=\"0 0 24 24\"\n",
       "       width=\"24px\">\n",
       "    <path d=\"M0 0h24v24H0V0z\" fill=\"none\"/>\n",
       "    <path d=\"M18.56 5.44l.94 2.06.94-2.06 2.06-.94-2.06-.94-.94-2.06-.94 2.06-2.06.94zm-11 1L8.5 8.5l.94-2.06 2.06-.94-2.06-.94L8.5 2.5l-.94 2.06-2.06.94zm10 10l.94 2.06.94-2.06 2.06-.94-2.06-.94-.94-2.06-.94 2.06-2.06.94z\"/><path d=\"M17.41 7.96l-1.37-1.37c-.4-.4-.92-.59-1.43-.59-.52 0-1.04.2-1.43.59L10.3 9.45l-7.72 7.72c-.78.78-.78 2.05 0 2.83L4 21.41c.39.39.9.59 1.41.59.51 0 1.02-.2 1.41-.59l7.78-7.78 2.81-2.81c.8-.78.8-2.07 0-2.86zM5.41 20L4 18.59l7.72-7.72 1.47 1.35L5.41 20z\"/>\n",
       "  </svg>\n",
       "      </button>\n",
       "      \n",
       "  <style>\n",
       "    .colab-df-container {\n",
       "      display:flex;\n",
       "      flex-wrap:wrap;\n",
       "      gap: 12px;\n",
       "    }\n",
       "\n",
       "    .colab-df-convert {\n",
       "      background-color: #E8F0FE;\n",
       "      border: none;\n",
       "      border-radius: 50%;\n",
       "      cursor: pointer;\n",
       "      display: none;\n",
       "      fill: #1967D2;\n",
       "      height: 32px;\n",
       "      padding: 0 0 0 0;\n",
       "      width: 32px;\n",
       "    }\n",
       "\n",
       "    .colab-df-convert:hover {\n",
       "      background-color: #E2EBFA;\n",
       "      box-shadow: 0px 1px 2px rgba(60, 64, 67, 0.3), 0px 1px 3px 1px rgba(60, 64, 67, 0.15);\n",
       "      fill: #174EA6;\n",
       "    }\n",
       "\n",
       "    [theme=dark] .colab-df-convert {\n",
       "      background-color: #3B4455;\n",
       "      fill: #D2E3FC;\n",
       "    }\n",
       "\n",
       "    [theme=dark] .colab-df-convert:hover {\n",
       "      background-color: #434B5C;\n",
       "      box-shadow: 0px 1px 3px 1px rgba(0, 0, 0, 0.15);\n",
       "      filter: drop-shadow(0px 1px 2px rgba(0, 0, 0, 0.3));\n",
       "      fill: #FFFFFF;\n",
       "    }\n",
       "  </style>\n",
       "\n",
       "      <script>\n",
       "        const buttonEl =\n",
       "          document.querySelector('#df-f5e4533a-7787-4644-bc9c-60a0af7b78c6 button.colab-df-convert');\n",
       "        buttonEl.style.display =\n",
       "          google.colab.kernel.accessAllowed ? 'block' : 'none';\n",
       "\n",
       "        async function convertToInteractive(key) {\n",
       "          const element = document.querySelector('#df-f5e4533a-7787-4644-bc9c-60a0af7b78c6');\n",
       "          const dataTable =\n",
       "            await google.colab.kernel.invokeFunction('convertToInteractive',\n",
       "                                                     [key], {});\n",
       "          if (!dataTable) return;\n",
       "\n",
       "          const docLinkHtml = 'Like what you see? Visit the ' +\n",
       "            '<a target=\"_blank\" href=https://colab.research.google.com/notebooks/data_table.ipynb>data table notebook</a>'\n",
       "            + ' to learn more about interactive tables.';\n",
       "          element.innerHTML = '';\n",
       "          dataTable['output_type'] = 'display_data';\n",
       "          await google.colab.output.renderOutput(dataTable, element);\n",
       "          const docLink = document.createElement('div');\n",
       "          docLink.innerHTML = docLinkHtml;\n",
       "          element.appendChild(docLink);\n",
       "        }\n",
       "      </script>\n",
       "    </div>\n",
       "  </div>\n",
       "  "
      ],
      "text/plain": [
       "     Cust_Id  Rating\n",
       "548       2:     NaN\n",
       "549  2059652     4.0\n",
       "550  1666394     3.0\n",
       "551  1759415     4.0"
      ]
     },
     "metadata": {},
     "output_type": "display_data"
    },
    {
     "data": {
      "text/html": [
       "\n",
       "  <div id=\"df-a36c2bc9-3162-4c87-abb1-2a12a3e067a7\">\n",
       "    <div class=\"colab-df-container\">\n",
       "      <div>\n",
       "<style scoped>\n",
       "    .dataframe tbody tr th:only-of-type {\n",
       "        vertical-align: middle;\n",
       "    }\n",
       "\n",
       "    .dataframe tbody tr th {\n",
       "        vertical-align: top;\n",
       "    }\n",
       "\n",
       "    .dataframe thead th {\n",
       "        text-align: right;\n",
       "    }\n",
       "</style>\n",
       "<table border=\"1\" class=\"dataframe\">\n",
       "  <thead>\n",
       "    <tr style=\"text-align: right;\">\n",
       "      <th></th>\n",
       "      <th>Cust_Id</th>\n",
       "      <th>Rating</th>\n",
       "    </tr>\n",
       "  </thead>\n",
       "  <tbody>\n",
       "    <tr>\n",
       "      <th>694</th>\n",
       "      <td>3:</td>\n",
       "      <td>NaN</td>\n",
       "    </tr>\n",
       "    <tr>\n",
       "      <th>695</th>\n",
       "      <td>1025579</td>\n",
       "      <td>4.0</td>\n",
       "    </tr>\n",
       "    <tr>\n",
       "      <th>696</th>\n",
       "      <td>712664</td>\n",
       "      <td>5.0</td>\n",
       "    </tr>\n",
       "  </tbody>\n",
       "</table>\n",
       "</div>\n",
       "      <button class=\"colab-df-convert\" onclick=\"convertToInteractive('df-a36c2bc9-3162-4c87-abb1-2a12a3e067a7')\"\n",
       "              title=\"Convert this dataframe to an interactive table.\"\n",
       "              style=\"display:none;\">\n",
       "        \n",
       "  <svg xmlns=\"http://www.w3.org/2000/svg\" height=\"24px\"viewBox=\"0 0 24 24\"\n",
       "       width=\"24px\">\n",
       "    <path d=\"M0 0h24v24H0V0z\" fill=\"none\"/>\n",
       "    <path d=\"M18.56 5.44l.94 2.06.94-2.06 2.06-.94-2.06-.94-.94-2.06-.94 2.06-2.06.94zm-11 1L8.5 8.5l.94-2.06 2.06-.94-2.06-.94L8.5 2.5l-.94 2.06-2.06.94zm10 10l.94 2.06.94-2.06 2.06-.94-2.06-.94-.94-2.06-.94 2.06-2.06.94z\"/><path d=\"M17.41 7.96l-1.37-1.37c-.4-.4-.92-.59-1.43-.59-.52 0-1.04.2-1.43.59L10.3 9.45l-7.72 7.72c-.78.78-.78 2.05 0 2.83L4 21.41c.39.39.9.59 1.41.59.51 0 1.02-.2 1.41-.59l7.78-7.78 2.81-2.81c.8-.78.8-2.07 0-2.86zM5.41 20L4 18.59l7.72-7.72 1.47 1.35L5.41 20z\"/>\n",
       "  </svg>\n",
       "      </button>\n",
       "      \n",
       "  <style>\n",
       "    .colab-df-container {\n",
       "      display:flex;\n",
       "      flex-wrap:wrap;\n",
       "      gap: 12px;\n",
       "    }\n",
       "\n",
       "    .colab-df-convert {\n",
       "      background-color: #E8F0FE;\n",
       "      border: none;\n",
       "      border-radius: 50%;\n",
       "      cursor: pointer;\n",
       "      display: none;\n",
       "      fill: #1967D2;\n",
       "      height: 32px;\n",
       "      padding: 0 0 0 0;\n",
       "      width: 32px;\n",
       "    }\n",
       "\n",
       "    .colab-df-convert:hover {\n",
       "      background-color: #E2EBFA;\n",
       "      box-shadow: 0px 1px 2px rgba(60, 64, 67, 0.3), 0px 1px 3px 1px rgba(60, 64, 67, 0.15);\n",
       "      fill: #174EA6;\n",
       "    }\n",
       "\n",
       "    [theme=dark] .colab-df-convert {\n",
       "      background-color: #3B4455;\n",
       "      fill: #D2E3FC;\n",
       "    }\n",
       "\n",
       "    [theme=dark] .colab-df-convert:hover {\n",
       "      background-color: #434B5C;\n",
       "      box-shadow: 0px 1px 3px 1px rgba(0, 0, 0, 0.15);\n",
       "      filter: drop-shadow(0px 1px 2px rgba(0, 0, 0, 0.3));\n",
       "      fill: #FFFFFF;\n",
       "    }\n",
       "  </style>\n",
       "\n",
       "      <script>\n",
       "        const buttonEl =\n",
       "          document.querySelector('#df-a36c2bc9-3162-4c87-abb1-2a12a3e067a7 button.colab-df-convert');\n",
       "        buttonEl.style.display =\n",
       "          google.colab.kernel.accessAllowed ? 'block' : 'none';\n",
       "\n",
       "        async function convertToInteractive(key) {\n",
       "          const element = document.querySelector('#df-a36c2bc9-3162-4c87-abb1-2a12a3e067a7');\n",
       "          const dataTable =\n",
       "            await google.colab.kernel.invokeFunction('convertToInteractive',\n",
       "                                                     [key], {});\n",
       "          if (!dataTable) return;\n",
       "\n",
       "          const docLinkHtml = 'Like what you see? Visit the ' +\n",
       "            '<a target=\"_blank\" href=https://colab.research.google.com/notebooks/data_table.ipynb>data table notebook</a>'\n",
       "            + ' to learn more about interactive tables.';\n",
       "          element.innerHTML = '';\n",
       "          dataTable['output_type'] = 'display_data';\n",
       "          await google.colab.output.renderOutput(dataTable, element);\n",
       "          const docLink = document.createElement('div');\n",
       "          docLink.innerHTML = docLinkHtml;\n",
       "          element.appendChild(docLink);\n",
       "        }\n",
       "      </script>\n",
       "    </div>\n",
       "  </div>\n",
       "  "
      ],
      "text/plain": [
       "     Cust_Id  Rating\n",
       "694       3:     NaN\n",
       "695  1025579     4.0\n",
       "696   712664     5.0"
      ]
     },
     "metadata": {},
     "output_type": "display_data"
    }
   ],
   "source": [
    "display(df.loc[0:2, :])\n",
    "display(df.loc[548:551, :])\n",
    "display(df.loc[694:696, :])"
   ]
  },
  {
   "cell_type": "markdown",
   "metadata": {
    "id": "WTIS38Xupupo"
   },
   "source": [
    "## Add movie ID column"
   ]
  },
  {
   "cell_type": "code",
   "execution_count": null,
   "metadata": {
    "colab": {
     "base_uri": "https://localhost:8080/",
     "height": 442
    },
    "executionInfo": {
     "elapsed": 10042,
     "status": "ok",
     "timestamp": 1662514245634,
     "user": {
      "displayName": "서현우",
      "userId": "02833306202101090536"
     },
     "user_tz": -540
    },
    "id": "pFZs62qAprOU",
    "outputId": "fe8f358d-788c-4696-f04b-9eaa5ca0380e"
   },
   "outputs": [
    {
     "name": "stdout",
     "output_type": "stream",
     "text": [
      "총 rating 수 : 24053764\n"
     ]
    },
    {
     "data": {
      "text/html": [
       "\n",
       "  <div id=\"df-f3f4c111-d67b-44b2-8dad-8dd4f85adefc\">\n",
       "    <div class=\"colab-df-container\">\n",
       "      <div>\n",
       "<style scoped>\n",
       "    .dataframe tbody tr th:only-of-type {\n",
       "        vertical-align: middle;\n",
       "    }\n",
       "\n",
       "    .dataframe tbody tr th {\n",
       "        vertical-align: top;\n",
       "    }\n",
       "\n",
       "    .dataframe thead th {\n",
       "        text-align: right;\n",
       "    }\n",
       "</style>\n",
       "<table border=\"1\" class=\"dataframe\">\n",
       "  <thead>\n",
       "    <tr style=\"text-align: right;\">\n",
       "      <th></th>\n",
       "      <th>Cust_Id</th>\n",
       "      <th>Rating</th>\n",
       "      <th>Movie_Id</th>\n",
       "    </tr>\n",
       "  </thead>\n",
       "  <tbody>\n",
       "    <tr>\n",
       "      <th>1</th>\n",
       "      <td>1488844</td>\n",
       "      <td>3.0</td>\n",
       "      <td>1</td>\n",
       "    </tr>\n",
       "    <tr>\n",
       "      <th>5006</th>\n",
       "      <td>1189445</td>\n",
       "      <td>1.0</td>\n",
       "      <td>6</td>\n",
       "    </tr>\n",
       "    <tr>\n",
       "      <th>10008</th>\n",
       "      <td>2421394</td>\n",
       "      <td>3.0</td>\n",
       "      <td>8</td>\n",
       "    </tr>\n",
       "    <tr>\n",
       "      <th>15008</th>\n",
       "      <td>2342811</td>\n",
       "      <td>3.0</td>\n",
       "      <td>8</td>\n",
       "    </tr>\n",
       "    <tr>\n",
       "      <th>20008</th>\n",
       "      <td>1834737</td>\n",
       "      <td>3.0</td>\n",
       "      <td>8</td>\n",
       "    </tr>\n",
       "    <tr>\n",
       "      <th>...</th>\n",
       "      <td>...</td>\n",
       "      <td>...</td>\n",
       "      <td>...</td>\n",
       "    </tr>\n",
       "    <tr>\n",
       "      <th>24034492</th>\n",
       "      <td>819546</td>\n",
       "      <td>2.0</td>\n",
       "      <td>4492</td>\n",
       "    </tr>\n",
       "    <tr>\n",
       "      <th>24039492</th>\n",
       "      <td>2570403</td>\n",
       "      <td>1.0</td>\n",
       "      <td>4492</td>\n",
       "    </tr>\n",
       "    <tr>\n",
       "      <th>24044493</th>\n",
       "      <td>1042113</td>\n",
       "      <td>4.0</td>\n",
       "      <td>4493</td>\n",
       "    </tr>\n",
       "    <tr>\n",
       "      <th>24049496</th>\n",
       "      <td>1059719</td>\n",
       "      <td>3.0</td>\n",
       "      <td>4496</td>\n",
       "    </tr>\n",
       "    <tr>\n",
       "      <th>24054496</th>\n",
       "      <td>520014</td>\n",
       "      <td>4.0</td>\n",
       "      <td>4496</td>\n",
       "    </tr>\n",
       "  </tbody>\n",
       "</table>\n",
       "<p>4811 rows × 3 columns</p>\n",
       "</div>\n",
       "      <button class=\"colab-df-convert\" onclick=\"convertToInteractive('df-f3f4c111-d67b-44b2-8dad-8dd4f85adefc')\"\n",
       "              title=\"Convert this dataframe to an interactive table.\"\n",
       "              style=\"display:none;\">\n",
       "        \n",
       "  <svg xmlns=\"http://www.w3.org/2000/svg\" height=\"24px\"viewBox=\"0 0 24 24\"\n",
       "       width=\"24px\">\n",
       "    <path d=\"M0 0h24v24H0V0z\" fill=\"none\"/>\n",
       "    <path d=\"M18.56 5.44l.94 2.06.94-2.06 2.06-.94-2.06-.94-.94-2.06-.94 2.06-2.06.94zm-11 1L8.5 8.5l.94-2.06 2.06-.94-2.06-.94L8.5 2.5l-.94 2.06-2.06.94zm10 10l.94 2.06.94-2.06 2.06-.94-2.06-.94-.94-2.06-.94 2.06-2.06.94z\"/><path d=\"M17.41 7.96l-1.37-1.37c-.4-.4-.92-.59-1.43-.59-.52 0-1.04.2-1.43.59L10.3 9.45l-7.72 7.72c-.78.78-.78 2.05 0 2.83L4 21.41c.39.39.9.59 1.41.59.51 0 1.02-.2 1.41-.59l7.78-7.78 2.81-2.81c.8-.78.8-2.07 0-2.86zM5.41 20L4 18.59l7.72-7.72 1.47 1.35L5.41 20z\"/>\n",
       "  </svg>\n",
       "      </button>\n",
       "      \n",
       "  <style>\n",
       "    .colab-df-container {\n",
       "      display:flex;\n",
       "      flex-wrap:wrap;\n",
       "      gap: 12px;\n",
       "    }\n",
       "\n",
       "    .colab-df-convert {\n",
       "      background-color: #E8F0FE;\n",
       "      border: none;\n",
       "      border-radius: 50%;\n",
       "      cursor: pointer;\n",
       "      display: none;\n",
       "      fill: #1967D2;\n",
       "      height: 32px;\n",
       "      padding: 0 0 0 0;\n",
       "      width: 32px;\n",
       "    }\n",
       "\n",
       "    .colab-df-convert:hover {\n",
       "      background-color: #E2EBFA;\n",
       "      box-shadow: 0px 1px 2px rgba(60, 64, 67, 0.3), 0px 1px 3px 1px rgba(60, 64, 67, 0.15);\n",
       "      fill: #174EA6;\n",
       "    }\n",
       "\n",
       "    [theme=dark] .colab-df-convert {\n",
       "      background-color: #3B4455;\n",
       "      fill: #D2E3FC;\n",
       "    }\n",
       "\n",
       "    [theme=dark] .colab-df-convert:hover {\n",
       "      background-color: #434B5C;\n",
       "      box-shadow: 0px 1px 3px 1px rgba(0, 0, 0, 0.15);\n",
       "      filter: drop-shadow(0px 1px 2px rgba(0, 0, 0, 0.3));\n",
       "      fill: #FFFFFF;\n",
       "    }\n",
       "  </style>\n",
       "\n",
       "      <script>\n",
       "        const buttonEl =\n",
       "          document.querySelector('#df-f3f4c111-d67b-44b2-8dad-8dd4f85adefc button.colab-df-convert');\n",
       "        buttonEl.style.display =\n",
       "          google.colab.kernel.accessAllowed ? 'block' : 'none';\n",
       "\n",
       "        async function convertToInteractive(key) {\n",
       "          const element = document.querySelector('#df-f3f4c111-d67b-44b2-8dad-8dd4f85adefc');\n",
       "          const dataTable =\n",
       "            await google.colab.kernel.invokeFunction('convertToInteractive',\n",
       "                                                     [key], {});\n",
       "          if (!dataTable) return;\n",
       "\n",
       "          const docLinkHtml = 'Like what you see? Visit the ' +\n",
       "            '<a target=\"_blank\" href=https://colab.research.google.com/notebooks/data_table.ipynb>data table notebook</a>'\n",
       "            + ' to learn more about interactive tables.';\n",
       "          element.innerHTML = '';\n",
       "          dataTable['output_type'] = 'display_data';\n",
       "          await google.colab.output.renderOutput(dataTable, element);\n",
       "          const docLink = document.createElement('div');\n",
       "          docLink.innerHTML = docLinkHtml;\n",
       "          element.appendChild(docLink);\n",
       "        }\n",
       "      </script>\n",
       "    </div>\n",
       "  </div>\n",
       "  "
      ],
      "text/plain": [
       "          Cust_Id  Rating  Movie_Id\n",
       "1         1488844     3.0         1\n",
       "5006      1189445     1.0         6\n",
       "10008     2421394     3.0         8\n",
       "15008     2342811     3.0         8\n",
       "20008     1834737     3.0         8\n",
       "...           ...     ...       ...\n",
       "24034492   819546     2.0      4492\n",
       "24039492  2570403     1.0      4492\n",
       "24044493  1042113     4.0      4493\n",
       "24049496  1059719     3.0      4496\n",
       "24054496   520014     4.0      4496\n",
       "\n",
       "[4811 rows x 3 columns]"
      ]
     },
     "metadata": {},
     "output_type": "display_data"
    }
   ],
   "source": [
    "ratings = df.Rating.values\n",
    "movie_id_arr = np.cumsum(np.isnan(ratings))\n",
    "df['Movie_Id'] = movie_id_arr\n",
    "df = df.dropna(axis=0)\n",
    "df.Cust_Id = df.Cust_Id.astype(int)\n",
    "\n",
    "print(f'총 rating 수 : {len(df)}')\n",
    "display(df.loc[::5000,:])"
   ]
  },
  {
   "cell_type": "code",
   "execution_count": null,
   "metadata": {
    "colab": {
     "base_uri": "https://localhost:8080/",
     "height": 484
    },
    "executionInfo": {
     "elapsed": 3146,
     "status": "ok",
     "timestamp": 1662514248769,
     "user": {
      "displayName": "서현우",
      "userId": "02833306202101090536"
     },
     "user_tz": -540
    },
    "id": "lhIsUc-Spske",
    "outputId": "6cef761b-3243-4f47-efcd-a75ee95a5f06"
   },
   "outputs": [
    {
     "data": {
      "image/png": "[encoded data removed]",
      "text/plain": [
       "<Figure size 864x576 with 1 Axes>"
      ]
     },
     "metadata": {},
     "output_type": "display_data"
    }
   ],
   "source": [
    "p = df.groupby('Rating')['Rating'].agg(['count'])\n",
    "\n",
    "# get movie count\n",
    "movie_count = df.Movie_Id.nunique()\n",
    "\n",
    "# get customer count\n",
    "cust_count = df['Cust_Id'].nunique() - movie_count\n",
    "\n",
    "# get rating count\n",
    "rating_count = df['Cust_Id'].count() - movie_count\n",
    "\n",
    "ax = p.plot(kind = 'barh', legend = False, figsize = (12,8))\n",
    "plt.title('Total pool: {:,} Movies, {:,} customers, {:,} ratings given'.format(movie_count, cust_count, rating_count), fontsize=16)\n",
    "plt.axis('off')\n",
    "\n",
    "for i in range(1, 6):\n",
    "    ax.text(p.iloc[i-1][0]/10, i-1, 'Rating {}: {:.0f}%'.format(i, p.iloc[i-1][0]*100 / p.sum()[0]), color = 'white', weight = 'bold')"
   ]
  },
  {
   "cell_type": "markdown",
   "metadata": {
    "id": "YOs71SBHp0O0"
   },
   "source": [
    "## Movie ID-Title dataset"
   ]
  },
  {
   "cell_type": "code",
   "execution_count": null,
   "metadata": {
    "colab": {
     "base_uri": "https://localhost:8080/",
     "height": 394
    },
    "executionInfo": {
     "elapsed": 537,
     "status": "ok",
     "timestamp": 1662514249290,
     "user": {
      "displayName": "서현우",
      "userId": "02833306202101090536"
     },
     "user_tz": -540
    },
    "id": "2aP3aXa_pyhW",
    "outputId": "2956ed74-339e-4bdc-b4b4-b08e81a59480"
   },
   "outputs": [
    {
     "data": {
      "text/html": [
       "\n",
       "  <div id=\"df-089e4dc3-526f-4a08-aa56-7d22408ee222\">\n",
       "    <div class=\"colab-df-container\">\n",
       "      <div>\n",
       "<style scoped>\n",
       "    .dataframe tbody tr th:only-of-type {\n",
       "        vertical-align: middle;\n",
       "    }\n",
       "\n",
       "    .dataframe tbody tr th {\n",
       "        vertical-align: top;\n",
       "    }\n",
       "\n",
       "    .dataframe thead th {\n",
       "        text-align: right;\n",
       "    }\n",
       "</style>\n",
       "<table border=\"1\" class=\"dataframe\">\n",
       "  <thead>\n",
       "    <tr style=\"text-align: right;\">\n",
       "      <th></th>\n",
       "      <th>Year</th>\n",
       "      <th>Name</th>\n",
       "    </tr>\n",
       "    <tr>\n",
       "      <th>Movie_Id</th>\n",
       "      <th></th>\n",
       "      <th></th>\n",
       "    </tr>\n",
       "  </thead>\n",
       "  <tbody>\n",
       "    <tr>\n",
       "      <th>1</th>\n",
       "      <td>2003.0</td>\n",
       "      <td>Dinosaur Planet</td>\n",
       "    </tr>\n",
       "    <tr>\n",
       "      <th>2</th>\n",
       "      <td>2004.0</td>\n",
       "      <td>Isle of Man TT 2004 Review</td>\n",
       "    </tr>\n",
       "    <tr>\n",
       "      <th>3</th>\n",
       "      <td>1997.0</td>\n",
       "      <td>Character</td>\n",
       "    </tr>\n",
       "    <tr>\n",
       "      <th>4</th>\n",
       "      <td>1994.0</td>\n",
       "      <td>Paula Abdul's Get Up &amp; Dance</td>\n",
       "    </tr>\n",
       "    <tr>\n",
       "      <th>5</th>\n",
       "      <td>2004.0</td>\n",
       "      <td>The Rise and Fall of ECW</td>\n",
       "    </tr>\n",
       "    <tr>\n",
       "      <th>6</th>\n",
       "      <td>1997.0</td>\n",
       "      <td>Sick</td>\n",
       "    </tr>\n",
       "    <tr>\n",
       "      <th>7</th>\n",
       "      <td>1992.0</td>\n",
       "      <td>8 Man</td>\n",
       "    </tr>\n",
       "    <tr>\n",
       "      <th>8</th>\n",
       "      <td>2004.0</td>\n",
       "      <td>What the #$*! Do We Know!?</td>\n",
       "    </tr>\n",
       "    <tr>\n",
       "      <th>9</th>\n",
       "      <td>1991.0</td>\n",
       "      <td>Class of Nuke 'Em High 2</td>\n",
       "    </tr>\n",
       "    <tr>\n",
       "      <th>10</th>\n",
       "      <td>2001.0</td>\n",
       "      <td>Fighter</td>\n",
       "    </tr>\n",
       "  </tbody>\n",
       "</table>\n",
       "</div>\n",
       "      <button class=\"colab-df-convert\" onclick=\"convertToInteractive('df-089e4dc3-526f-4a08-aa56-7d22408ee222')\"\n",
       "              title=\"Convert this dataframe to an interactive table.\"\n",
       "              style=\"display:none;\">\n",
       "        \n",
       "  <svg xmlns=\"http://www.w3.org/2000/svg\" height=\"24px\"viewBox=\"0 0 24 24\"\n",
       "       width=\"24px\">\n",
       "    <path d=\"M0 0h24v24H0V0z\" fill=\"none\"/>\n",
       "    <path d=\"M18.56 5.44l.94 2.06.94-2.06 2.06-.94-2.06-.94-.94-2.06-.94 2.06-2.06.94zm-11 1L8.5 8.5l.94-2.06 2.06-.94-2.06-.94L8.5 2.5l-.94 2.06-2.06.94zm10 10l.94 2.06.94-2.06 2.06-.94-2.06-.94-.94-2.06-.94 2.06-2.06.94z\"/><path d=\"M17.41 7.96l-1.37-1.37c-.4-.4-.92-.59-1.43-.59-.52 0-1.04.2-1.43.59L10.3 9.45l-7.72 7.72c-.78.78-.78 2.05 0 2.83L4 21.41c.39.39.9.59 1.41.59.51 0 1.02-.2 1.41-.59l7.78-7.78 2.81-2.81c.8-.78.8-2.07 0-2.86zM5.41 20L4 18.59l7.72-7.72 1.47 1.35L5.41 20z\"/>\n",
       "  </svg>\n",
       "      </button>\n",
       "      \n",
       "  <style>\n",
       "    .colab-df-container {\n",
       "      display:flex;\n",
       "      flex-wrap:wrap;\n",
       "      gap: 12px;\n",
       "    }\n",
       "\n",
       "    .colab-df-convert {\n",
       "      background-color: #E8F0FE;\n",
       "      border: none;\n",
       "      border-radius: 50%;\n",
       "      cursor: pointer;\n",
       "      display: none;\n",
       "      fill: #1967D2;\n",
       "      height: 32px;\n",
       "      padding: 0 0 0 0;\n",
       "      width: 32px;\n",
       "    }\n",
       "\n",
       "    .colab-df-convert:hover {\n",
       "      background-color: #E2EBFA;\n",
       "      box-shadow: 0px 1px 2px rgba(60, 64, 67, 0.3), 0px 1px 3px 1px rgba(60, 64, 67, 0.15);\n",
       "      fill: #174EA6;\n",
       "    }\n",
       "\n",
       "    [theme=dark] .colab-df-convert {\n",
       "      background-color: #3B4455;\n",
       "      fill: #D2E3FC;\n",
       "    }\n",
       "\n",
       "    [theme=dark] .colab-df-convert:hover {\n",
       "      background-color: #434B5C;\n",
       "      box-shadow: 0px 1px 3px 1px rgba(0, 0, 0, 0.15);\n",
       "      filter: drop-shadow(0px 1px 2px rgba(0, 0, 0, 0.3));\n",
       "      fill: #FFFFFF;\n",
       "    }\n",
       "  </style>\n",
       "\n",
       "      <script>\n",
       "        const buttonEl =\n",
       "          document.querySelector('#df-089e4dc3-526f-4a08-aa56-7d22408ee222 button.colab-df-convert');\n",
       "        buttonEl.style.display =\n",
       "          google.colab.kernel.accessAllowed ? 'block' : 'none';\n",
       "\n",
       "        async function convertToInteractive(key) {\n",
       "          const element = document.querySelector('#df-089e4dc3-526f-4a08-aa56-7d22408ee222');\n",
       "          const dataTable =\n",
       "            await google.colab.kernel.invokeFunction('convertToInteractive',\n",
       "                                                     [key], {});\n",
       "          if (!dataTable) return;\n",
       "\n",
       "          const docLinkHtml = 'Like what you see? Visit the ' +\n",
       "            '<a target=\"_blank\" href=https://colab.research.google.com/notebooks/data_table.ipynb>data table notebook</a>'\n",
       "            + ' to learn more about interactive tables.';\n",
       "          element.innerHTML = '';\n",
       "          dataTable['output_type'] = 'display_data';\n",
       "          await google.colab.output.renderOutput(dataTable, element);\n",
       "          const docLink = document.createElement('div');\n",
       "          docLink.innerHTML = docLinkHtml;\n",
       "          element.appendChild(docLink);\n",
       "        }\n",
       "      </script>\n",
       "    </div>\n",
       "  </div>\n",
       "  "
      ],
      "text/plain": [
       "            Year                          Name\n",
       "Movie_Id                                      \n",
       "1         2003.0               Dinosaur Planet\n",
       "2         2004.0    Isle of Man TT 2004 Review\n",
       "3         1997.0                     Character\n",
       "4         1994.0  Paula Abdul's Get Up & Dance\n",
       "5         2004.0      The Rise and Fall of ECW\n",
       "6         1997.0                          Sick\n",
       "7         1992.0                         8 Man\n",
       "8         2004.0    What the #$*! Do We Know!?\n",
       "9         1991.0      Class of Nuke 'Em High 2\n",
       "10        2001.0                       Fighter"
      ]
     },
     "execution_count": 9,
     "metadata": {},
     "output_type": "execute_result"
    }
   ],
   "source": [
    "df_title = pd.read_csv('movie_titles.csv', encoding = \"ISO-8859-1\", header = None, names = ['Movie_Id', 'Year', 'Name'])\n",
    "df_title.set_index('Movie_Id', inplace = True)\n",
    "df_title.head(10)"
   ]
  },
  {
   "cell_type": "markdown",
   "metadata": {
    "id": "BAs71Qt8p4Wv"
   },
   "source": [
    "## Build the dataset (user-item matrix)\n",
    "\n",
    "#### For the fast implementation, I randomly select 500 users and their all interactions."
   ]
  },
  {
   "cell_type": "code",
   "execution_count": null,
   "metadata": {
    "id": "_sJMOyiFp3wm"
   },
   "outputs": [],
   "source": [
    "from surprise import Reader, Dataset"
   ]
  },
  {
   "cell_type": "code",
   "execution_count": null,
   "metadata": {
    "colab": {
     "base_uri": "https://localhost:8080/"
    },
    "executionInfo": {
     "elapsed": 5284,
     "status": "ok",
     "timestamp": 1662514255041,
     "user": {
      "displayName": "서현우",
      "userId": "02833306202101090536"
     },
     "user_tz": -540
    },
    "id": "XCe91Arqp7ki",
    "outputId": "664fcc43-7c77-48b0-abf6-1e6bb32a2d50"
   },
   "outputs": [
    {
     "name": "stdout",
     "output_type": "stream",
     "text": [
      "26124 interactions, 500 users, 2191 movies are selected.\n",
      "only 2.38% of possible interactions are observed\n"
     ]
    }
   ],
   "source": [
    "reader = Reader()\n",
    "\n",
    "# just get interactions of 500 users randomly\n",
    "n_users = 500\n",
    "all_users = df.Cust_Id.unique()\n",
    "sampled_users = np.random.choice(all_users, n_users, replace=False)\n",
    "df_sample = df.loc[df['Cust_Id'].isin(sampled_users)]\n",
    "print('{} interactions, {} users, {} movies are selected.'.format(len(df_sample), df_sample.Cust_Id.nunique(), df_sample.Movie_Id.nunique()))\n",
    "print('only {:.2f}% of possible interactions are observed'.format(len(df_sample) / (df_sample.Cust_Id.nunique()*df_sample.Movie_Id.nunique()) *100))\n",
    "\n",
    "data = Dataset.load_from_df(df_sample[['Cust_Id', 'Movie_Id', 'Rating']], reader)\n",
    "unobserved_data = data.build_full_trainset().build_anti_testset()\n"
   ]
  },
  {
   "cell_type": "markdown",
   "metadata": {
    "id": "zMM8HyhbwaVp"
   },
   "source": [
    "![그림3.png](data:image/png;base64,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)"
   ]
  },
  {
   "cell_type": "code",
   "execution_count": null,
   "metadata": {
    "colab": {
     "base_uri": "https://localhost:8080/"
    },
    "executionInfo": {
     "elapsed": 6,
     "status": "ok",
     "timestamp": 1662514255042,
     "user": {
      "displayName": "서현우",
      "userId": "02833306202101090536"
     },
     "user_tz": -540
    },
    "id": "3AB7b03Fp8Z9",
    "outputId": "310124e1-0c70-4a17-9129-68090bf1d19e"
   },
   "outputs": [
    {
     "data": {
      "text/plain": [
       "[(691460, 5, 3.0, None),\n",
       " (107840, 8, 2.0, None),\n",
       " (732873, 8, 3.0, None),\n",
       " (2621026, 8, 4.0, None),\n",
       " (497548, 8, 4.0, None),\n",
       " (230186, 8, 3.0, None),\n",
       " (46716, 8, 4.0, None),\n",
       " (2453978, 8, 2.0, None),\n",
       " (2383529, 8, 3.0, None),\n",
       " (2537651, 8, 2.0, None)]"
      ]
     },
     "execution_count": 12,
     "metadata": {},
     "output_type": "execute_result"
    }
   ],
   "source": [
    "# 리뷰어 ID, 영화 ID, 평점, 시간\n",
    "data.raw_ratings[:10]"
   ]
  },
  {
   "cell_type": "markdown",
   "metadata": {
    "id": "U2-JjpTCp-qs"
   },
   "source": [
    "### Train the model\n",
    "\n",
    "* In this part, we train two matrix factorization models for recommendation, **SVD**(Singular Value Decomposition) and **NMF**(Nonnegative Matrix Factorization)"
   ]
  },
  {
   "cell_type": "code",
   "execution_count": null,
   "metadata": {
    "id": "OXWdYnzEp9bB"
   },
   "outputs": [],
   "source": [
    "from surprise import SVD, NMF, accuracy\n",
    "from surprise.model_selection import cross_validate\n",
    "\n",
    "# hyperparameters for training the model\n",
    "# n_factors = 30\n",
    "# n_epochs = 100\n",
    "# biased = True\n",
    "# lr_all = 0.005\n",
    "# reg_all = 0.02"
   ]
  },
  {
   "cell_type": "code",
   "execution_count": null,
   "metadata": {
    "id": "9Y8o-6g_qAoV"
   },
   "outputs": [],
   "source": [
    "# initialize SVD \n",
    "\n"
   ]
  },
  {
   "cell_type": "code",
   "execution_count": null,
   "metadata": {
    "colab": {
     "base_uri": "https://localhost:8080/"
    },
    "executionInfo": {
     "elapsed": 18726,
     "status": "ok",
     "timestamp": 1662514273765,
     "user": {
      "displayName": "서현우",
      "userId": "02833306202101090536"
     },
     "user_tz": -540
    },
    "id": "TEvFex6PqBye",
    "outputId": "34421e68-583c-4a62-c2b4-d9295cc1799d"
   },
   "outputs": [
    {
     "name": "stdout",
     "output_type": "stream",
     "text": [
      "Evaluating RMSE, MAE of algorithm SVD on 5 split(s).\n",
      "\n",
      "                  Fold 1  Fold 2  Fold 3  Fold 4  Fold 5  Mean    Std     \n",
      "RMSE (testset)    1.0409  1.0461  1.0382  1.0412  1.0218  1.0377  0.0083  \n",
      "MAE (testset)     0.8122  0.8117  0.8084  0.8068  0.8007  0.8079  0.0042  \n",
      "Fit time          5.93    3.06    3.02    3.08    3.01    3.62    1.15    \n",
      "Test time         0.03    0.12    0.03    0.03    0.03    0.05    0.03    \n"
     ]
    }
   ],
   "source": [
    "# cross validation of SVD\n",
    "\n"
   ]
  },
  {
   "cell_type": "code",
   "execution_count": null,
   "metadata": {
    "id": "2CVV8f16aHPZ"
   },
   "outputs": [],
   "source": [
    "# initialize NMF\n",
    "\n"
   ]
  },
  {
   "cell_type": "code",
   "execution_count": null,
   "metadata": {
    "colab": {
     "base_uri": "https://localhost:8080/"
    },
    "executionInfo": {
     "elapsed": 22275,
     "status": "ok",
     "timestamp": 1662514296027,
     "user": {
      "displayName": "서현우",
      "userId": "02833306202101090536"
     },
     "user_tz": -540
    },
    "id": "XoHBvlppqC7_",
    "outputId": "c33b7f2b-5755-437f-8289-93a19ee3bd13"
   },
   "outputs": [
    {
     "name": "stdout",
     "output_type": "stream",
     "text": [
      "Evaluating RMSE, MAE of algorithm NMF on 5 split(s).\n",
      "\n",
      "                  Fold 1  Fold 2  Fold 3  Fold 4  Fold 5  Mean    Std     \n",
      "RMSE (testset)    1.6593  1.5286  1.5485  1.7080  1.5725  1.6034  0.0687  \n",
      "MAE (testset)     1.2756  1.1650  1.1919  1.3456  1.2164  1.2389  0.0647  \n",
      "Fit time          4.10    4.02    4.77    4.71    4.17    4.35    0.32    \n",
      "Test time         0.04    0.06    0.17    0.04    0.09    0.08    0.05    \n"
     ]
    }
   ],
   "source": [
    "# cross validation of NMF\n",
    "\n"
   ]
  },
  {
   "cell_type": "code",
   "execution_count": null,
   "metadata": {
    "colab": {
     "background_save": true
    },
    "id": "TW-mYU73qE5z"
   },
   "outputs": [],
   "source": [
    "# find the best hyperparapmeter of your model by gridsearchCV\n",
    "\n",
    "from surprise.model_selection import GridSearchCV\n",
    "\n",
    "param_grid = {\n",
    "    'n_factors': , \n",
    "    'n_epochs': ,\n",
    "    }\n",
    "gs = GridSearchCV(SVD, param_grid, measures=['RMSE', 'MAE'], cv = 3)\n",
    "gs.fit(data)"
   ]
  },
  {
   "cell_type": "code",
   "execution_count": null,
   "metadata": {
    "colab": {
     "background_save": true
    },
    "id": "DUk4FX4_qGAw",
    "outputId": "388d9cc9-46be-4cde-81dd-d8509801dc0c"
   },
   "outputs": [
    {
     "name": "stdout",
     "output_type": "stream",
     "text": [
      "Best RMSE: 0.98577 | params for the best RMSE: {'n_factors': 30, 'n_epochs': 50}\n",
      "Best MAE: 0.76999 | params for the best MAE: {'n_factors': 30, 'n_epochs': 50}\n"
     ]
    }
   ],
   "source": [
    "print('Best RMSE: {:.5f} | params for the best RMSE: {}'.format(gs.best_score['rmse'], gs.best_params['rmse']))\n",
    "print('Best MAE: {:.5f} | params for the best MAE: {}'.format(gs.best_score['mae'], gs.best_params['mae']))"
   ]
  },
  {
   "cell_type": "markdown",
   "metadata": {
    "id": "vXzbiHE8qHzX"
   },
   "source": [
    "### See how matrix factorization estimates unknown ratings"
   ]
  },
  {
   "cell_type": "code",
   "execution_count": null,
   "metadata": {
    "colab": {
     "background_save": true
    },
    "id": "Ew7zGcA6qHHE"
   },
   "outputs": [],
   "source": [
    "n_factors, n_epochs = gs.best_params['rmse']['n_factors'], gs.best_params['rmse']['n_epochs']\n",
    "\n",
    "# initialize the model\n",
    "algo = SVD(n_factors=n_factors, n_epochs=n_epochs, biased=biased, random_state=seed,)\n",
    "# trainset is the total observed ratings\n",
    "trainset = data.build_full_trainset()\n",
    "# train the model with the trainset\n",
    "algo.fit(trainset)\n",
    "# predict the values of unobserved ratings\n",
    "unobserved_pred = algo.test(unobserved_data)"
   ]
  },
  {
   "cell_type": "code",
   "execution_count": null,
   "metadata": {
    "colab": {
     "background_save": true
    },
    "id": "s58FkprJqJrr"
   },
   "outputs": [],
   "source": [
    "user_dict = {i:trainset.to_raw_uid(i) for i in trainset.all_users()} # raw user id: encoded user id\n",
    "item_dict = {i:trainset.to_raw_iid(i) for i in trainset.all_items()} # raw item id: encoded item id"
   ]
  },
  {
   "cell_type": "code",
   "execution_count": null,
   "metadata": {
    "colab": {
     "background_save": true
    },
    "id": "KIx3ON_xqKjQ",
    "outputId": "6b5438bc-f853-4b62-ec30-aacd51c25de1"
   },
   "outputs": [
    {
     "name": "stdout",
     "output_type": "stream",
     "text": [
      "(encoded id, raw id): [(0, 691460), (1, 107840), (2, 732873), (3, 2621026), (4, 497548)]\n",
      "(encoded id, raw id)    : [(0, 5), (1, 8), (2, 15), (3, 16), (4, 17)]\n"
     ]
    }
   ],
   "source": [
    "print('(encoded id, raw id):', list(user_dict.items())[:5])\n",
    "print('(encoded id, raw id)    :', list(item_dict.items())[:5])"
   ]
  },
  {
   "cell_type": "code",
   "execution_count": null,
   "metadata": {
    "colab": {
     "background_save": true
    },
    "id": "lZgaaQhlqLXk",
    "outputId": "ac3e34ad-8bfc-4e57-d7d2-0a451cfbd35d"
   },
   "outputs": [
    {
     "name": "stdout",
     "output_type": "stream",
     "text": [
      "Shape of user latent vector (p_u) = (n_user, n_latent)=(500, 30): \n",
      "Ex) User factor of user 0 (raw id: 691460)\n",
      "[ 0.35315921 -0.01073576  0.03505258  0.24486072  0.13059466 -0.22968444\n",
      " -0.00175917 -0.18739104  0.05679627 -0.04210498  0.09576017  0.2435732\n",
      "  0.05600179  0.28365225  0.02079692  0.07620831  0.13621075 -0.08856649\n",
      "  0.04722949 -0.08506418 -0.27652387  0.00284802  0.01326324  0.07552191\n",
      "  0.26433375 -0.17148424  0.07012181 -0.05342214  0.43086364  0.35634425]\n",
      "\n",
      "Shape of item latent vector (q_i) = (n_item, n_latent)=(2191, 30): \n",
      "Ex) Item factor of movie 0 (raw id: 5)\n",
      "[ 1.87703171e-01  5.42084675e-02 -5.47302275e-02 -8.56857829e-03\n",
      "  1.37929807e-02  1.59904845e-01 -1.15301616e-01 -2.29806731e-02\n",
      "  4.27807231e-03 -6.49872454e-02  8.33221498e-02 -1.15368149e-01\n",
      " -1.05613862e-01 -1.00468515e-01  1.75965897e-01  9.29405536e-02\n",
      "  2.54643526e-02  4.57304022e-02 -1.64892692e-01 -2.84369756e-01\n",
      " -8.82302082e-02 -6.63163016e-02 -1.68326744e-01 -2.62927015e-02\n",
      " -5.97319793e-02 -1.63544657e-04  3.49273755e-02  1.70266198e-02\n",
      " -2.24116648e-01 -2.97028010e-01]\n",
      "\n",
      "Shape of user bias (b_u) = (n_user, )=(500,): \n",
      "Ex) User bias of user 0 (실제 id: 691460): 0.6804520594497372\n",
      "\n",
      "Shape of item bias (b_i) = (n_item, )=(2191,): \n",
      "Ex) Item bias of movie 0 (실제 id: 5): -0.238395211812731\n"
     ]
    }
   ],
   "source": [
    "uid = 0\n",
    "iid = 0\n",
    "\n",
    "pu = algo.pu[uid]\n",
    "qi = algo.qi[iid]\n",
    "bu = algo.bu[uid]\n",
    "bi = algo.bi[iid]\n",
    "\n",
    "print('Shape of user latent vector (p_u) = (n_user, n_latent)={}: \\nEx) User factor of user {} (raw id: {})\\n{}\\n'.format(algo.pu.shape, uid, user_dict[uid], pu))\n",
    "print('Shape of item latent vector (q_i) = (n_item, n_latent)={}: \\nEx) Item factor of movie {} (raw id: {})\\n{}\\n'.format(algo.qi.shape, iid, item_dict[iid], qi))\n",
    "print('Shape of user bias (b_u) = (n_user, )={}: \\nEx) User bias of user {} (실제 id: {}): {}\\n'.format(algo.bu.shape, uid, user_dict[uid], bu))\n",
    "print('Shape of item bias (b_i) = (n_item, )={}: \\nEx) Item bias of movie {} (실제 id: {}): {}'.format(algo.bi.shape, iid, item_dict[iid], bi))"
   ]
  },
  {
   "cell_type": "code",
   "execution_count": null,
   "metadata": {
    "colab": {
     "background_save": true
    },
    "id": "60-_5cW3qMcA",
    "outputId": "502fb636-254e-463b-cfef-7e547dce4e62"
   },
   "outputs": [
    {
     "data": {
      "text/plain": [
       "Prediction(uid=691460, iid=5, r_ui=None, est=3.879895277038679, details={'was_impossible': False})"
      ]
     },
     "execution_count": 23,
     "metadata": {},
     "output_type": "execute_result"
    }
   ],
   "source": [
    "# prediction by SVD.predict method\n",
    "algo.predict(user_dict[uid], item_dict[iid])"
   ]
  },
  {
   "cell_type": "markdown",
   "metadata": {
    "id": "1Aq35DiU-6dP"
   },
   "source": [
    "![그림4.png](data:image/png;base64,iVBORw0KGgoAAAANSUhEUgAAAV8AAAAtCAMAAAA+9pjNAAAAAXNSR0IArs4c6QAAAARnQU1BAACxjwv8YQUAAADAUExURQAAAAAAAIAAQAAAAAAAAJkATQAAAAAAAAAAAJ4ATwAAAKIATQAAAKAATQAAAKEAUAAAAAAAAKIAUQAAAAAAAAAAAAAAAAAAAAAAAKIAUQAAAAAAAAAAAAAAAAAAAAAAAAAAAAAAAAAAAAAAAAAAAAAAAKIAUAAAAAAAAKQAUgAAAAAAAAAAAAAAAKMAUgAAAAAAAAAAAAAAAAAAAAAAAAAAAKMAUQAAAAAAAAAAAKQAUQAAAAAAAKQAUgAAAKQAUuzHhtIAAAA+dFJOUwAEBAgKChUZHR0hISsrNjY6PDxCR01QUlhYXWJobXN3gISGjI2Skp2ioqarr7Kys7i/wMXMzc3S4e7u9Pn55SUfDwAAAAlwSFlzAAAXEQAAFxEByibzPwAAA+hJREFUaEPtmAtz0zAMxxtaYITxCJQxGh6lZBS2BRgdtIHgfP9vhWzLqx3beWi5lDv8u+NYvWqW5L/kxyQQCAQCgUAgEAgEAocjyhlyiSOBIYmLpfg33S1xJDAkyY/ZJGGnoONTHBmdbJTS4YX6+x5+6AHVTiPj9vfxw+jExQbWdwRWxHWk2imiHDR8MKL8cpKN4kDKaC2Qaqfg7fdwJFA8wzf/tHyMP+3JHGN1CHYuEwPefg9GdMG9i9cDC9gRdJR3aKMEu9b8ivZL4MHHqqo+P8JP/xaOoOOiQxsl2LXll9p+n/2C9FbVn1f4mcL8mm0fT6IzRiyhRG49mdUhHUEnbBm9Lti2rxjb7Fz5jVYFY59efOO/0ddHxnt0xcq3OOLloUwvJPgJjvQnXc9g85heMdaggRhc1TDEILeeKLfMHUGn5dOLE7BoVCPBzmESF+UJeCXOddx9ZSrjna9nR7uGgAV3vmB6q+rnXRyjkLJF/n6WNrSopvxmQvdxYZnbQcMibGBsumvshgQ722Qqs5eavkpSdr6G/+yKq3Ej31sJmE+0oZ8dMJDEDsQVtAgJTXwQ7GwTTJ5T8pm8rLSUEXRfTC7nFh0YisixyF1PNHEhjPUDqlftKHJfnrrZGY75TNQUsrhMIF4xOFZ+3eF2Oalybra3fSDePOEiOHqJoJud4ZjPBMvJsSvweOX0Y/UHVCAR6aVrjVxFKxbB0Ut0CHaWCb6nqNAMzaMilIz9DLS/tdZJg7KUQhLH+4sVtFJTi3AIdo78iq+q0AzNt1SRxhDns73bi6LkCyp8SZgRiz+/sthAC/YaWUFjROI/fbIajXY1xxBPfnFfrIHVIL7S4AZniPuFUke6nO4gSXjVSduKB5HCTc8d7ydW0ChyHpg5mUmTnccxT35XG0feIOn8L4jW0eSGYID78b5OxCOTmNDhsYcUriXRmzW/YH2oWVh/ImVsAdcqqSl9MpNmO6dj1iBv1dFqIZ8dTM1DLUI2nxfyMuh3Yyj2u4bYBSBT/Oeuz5VZec3KxQTuf9sTHFLUg47y9ctrpr6nT2bSbOd0zE76omDfj6c7+WVD8wn7egaXVXzN8rsxPGK1patdV5S/HPuwg9bRJqvRaOd2zGOi8mb82jwS+90YHNGF8CWw63t0pwcxF/pkfej1UK50q2vePBJT3aAgpIEX9q4rSq4sfbI+9JGaSqWhefMRg+oGBa7F+bv8kj+3QxjzLpmT+zQBfbI+dHWMo3ZuQ/PmSZ3qBokV36lStj3m87a/jnLI+dUn60NXxzhwbtjytBmah8OIPifRjYBGH80H+tNH84FAIBAIBAKBwH/DZPIX8Gfg9YHKJA0AAAAASUVORK5CYII=)"
   ]
  },
  {
   "cell_type": "code",
   "execution_count": null,
   "metadata": {
    "colab": {
     "background_save": true
    },
    "id": "aQYVEGioqNxs",
    "outputId": "2c1639aa-7c8f-4bd3-f117-81917028a71a"
   },
   "outputs": [
    {
     "data": {
      "text/plain": [
       "3.879895277038679"
      ]
     },
     "execution_count": 24,
     "metadata": {},
     "output_type": "execute_result"
    }
   ],
   "source": [
    "# manual calculation\n",
    "trainset.global_mean + bu + bi + np.dot(pu, qi)"
   ]
  },
  {
   "cell_type": "markdown",
   "metadata": {
    "id": "xOiNGHPMqPMc"
   },
   "source": [
    "## Top-N recommendation\n",
    "\n",
    "#### Recommend N items that a user is expected to like (items with N highest predicted ratings) to the user who has ever rated."
   ]
  },
  {
   "cell_type": "code",
   "execution_count": null,
   "metadata": {
    "colab": {
     "background_save": true
    },
    "id": "twr8lvKzqOgL"
   },
   "outputs": [],
   "source": [
    "def get_top_n(predictions, user_dict, user, n=10):\n",
    "    \"\"\"\n",
    "    Return the top-N recommendation for each user from a set of predictions.\n",
    "    [(raw item id, rating estimation), ...] of size n.\n",
    "    \"\"\"\n",
    "    \n",
    "\n",
    "\n",
    "\n",
    "\n",
    "\n",
    "\n",
    "\n",
    "    \n",
    "    return top_n"
   ]
  },
  {
   "cell_type": "code",
   "execution_count": null,
   "metadata": {
    "colab": {
     "background_save": true
    },
    "id": "WWxRsb5vqRBu",
    "outputId": "ec34d5e0-c7a3-4b26-ba64-d16b045d88aa"
   },
   "outputs": [
    {
     "name": "stdout",
     "output_type": "stream",
     "text": [
      "Top-10 recommendations for user 0 (raw id: 691460)\n",
      "r_est: 5.00000 | movie ID:  171 | name: Funny Face\n",
      "r_est: 5.00000 | movie ID:  241 | name: North by Northwest\n",
      "r_est: 5.00000 | movie ID:  270 | name: Sex and the City: Season 4\n",
      "r_est: 5.00000 | movie ID:  395 | name: Captain Blood\n",
      "r_est: 5.00000 | movie ID:  422 | name: The Unsinkable Molly Brown\n",
      "r_est: 5.00000 | movie ID:  443 | name: Rabbit-Proof Fence\n",
      "r_est: 5.00000 | movie ID:  463 | name: The Twilight Zone: Vol. 12\n",
      "r_est: 5.00000 | movie ID:  646 | name: Matewan\n",
      "r_est: 5.00000 | movie ID:  752 | name: Star Trek: The Next Generation: Season 7\n",
      "r_est: 5.00000 | movie ID:  872 | name: Seven Samurai\n"
     ]
    }
   ],
   "source": [
    "top_n = get_top_n(unobserved_pred, user_dict, user=0, n=10)"
   ]
  },
  {
   "cell_type": "code",
   "execution_count": null,
   "metadata": {
    "colab": {
     "background_save": true
    },
    "id": "sr7p7bYrqWxa",
    "outputId": "bf1ed3d9-bc5d-4850-e862-143eafd5e313"
   },
   "outputs": [
    {
     "name": "stdout",
     "output_type": "stream",
     "text": [
      "Top-10 recommendations for user 40 (raw id: 1038731)\n",
      "r_est: 5.00000 | movie ID:   57 | name: Richard III\n",
      "r_est: 5.00000 | movie ID:  270 | name: Sex and the City: Season 4\n",
      "r_est: 5.00000 | movie ID:  395 | name: Captain Blood\n",
      "r_est: 5.00000 | movie ID:  422 | name: The Unsinkable Molly Brown\n",
      "r_est: 5.00000 | movie ID:  443 | name: Rabbit-Proof Fence\n",
      "r_est: 5.00000 | movie ID:  494 | name: Monty Python's The Meaning of Life: Special Edition\n",
      "r_est: 5.00000 | movie ID:  646 | name: Matewan\n",
      "r_est: 5.00000 | movie ID:  752 | name: Star Trek: The Next Generation: Season 7\n",
      "r_est: 5.00000 | movie ID:  872 | name: Seven Samurai\n",
      "r_est: 5.00000 | movie ID:  886 | name: Ray\n"
     ]
    }
   ],
   "source": [
    "top_n = get_top_n(unobserved_pred, user_dict, user=40, n=10)"
   ]
  },
  {
   "cell_type": "markdown",
   "metadata": {
    "id": "jG8ZFuY0qZI0"
   },
   "source": [
    "## List of movies with similar preference\n",
    "\n",
    "#### Gives a list of N movies of similar preference of users given a guery movie."
   ]
  },
  {
   "cell_type": "code",
   "execution_count": null,
   "metadata": {
    "colab": {
     "background_save": true
    },
    "id": "P_nXUKF2qXm7"
   },
   "outputs": [],
   "source": [
    "def similar_movies(algo, item_dict, item, n):\n",
    "    \n",
    "    # latent vector of the item \n",
    "    # latent vector of all items\n",
    "    \n",
    "    # cosine similarities b/w the query item and all items\n",
    "    \n",
    "    # the n most similar movies by cosine similarities of latent vectors\n",
    "    # 입력한 영화와 사용자 선호에 대한 유사도가 가장 높은 n개 영화 id \n",
    "\n",
    "\n",
    "\n",
    "\n",
    "\n",
    "\n",
    "\n",
    "    return df_title.loc[most_similar_movies]"
   ]
  },
  {
   "cell_type": "code",
   "execution_count": null,
   "metadata": {
    "colab": {
     "background_save": true
    },
    "id": "7kRKnVJmqaSg",
    "outputId": "cbbdc007-d952-40c3-80df-3cf284649bfe"
   },
   "outputs": [
    {
     "name": "stdout",
     "output_type": "stream",
     "text": [
      "Query movie : Never Die Alone\n",
      "\n"
     ]
    },
    {
     "data": {
      "text/html": [
       "\n",
       "  <div id=\"df-f7aaa733-4161-4bbf-b86a-7a3f86c7a6bd\">\n",
       "    <div class=\"colab-df-container\">\n",
       "      <div>\n",
       "<style scoped>\n",
       "    .dataframe tbody tr th:only-of-type {\n",
       "        vertical-align: middle;\n",
       "    }\n",
       "\n",
       "    .dataframe tbody tr th {\n",
       "        vertical-align: top;\n",
       "    }\n",
       "\n",
       "    .dataframe thead th {\n",
       "        text-align: right;\n",
       "    }\n",
       "</style>\n",
       "<table border=\"1\" class=\"dataframe\">\n",
       "  <thead>\n",
       "    <tr style=\"text-align: right;\">\n",
       "      <th></th>\n",
       "      <th>Year</th>\n",
       "      <th>Name</th>\n",
       "    </tr>\n",
       "    <tr>\n",
       "      <th>Movie_Id</th>\n",
       "      <th></th>\n",
       "      <th></th>\n",
       "    </tr>\n",
       "  </thead>\n",
       "  <tbody>\n",
       "    <tr>\n",
       "      <th>705</th>\n",
       "      <td>1989.0</td>\n",
       "      <td>Major League</td>\n",
       "    </tr>\n",
       "    <tr>\n",
       "      <th>3437</th>\n",
       "      <td>1994.0</td>\n",
       "      <td>The Stand</td>\n",
       "    </tr>\n",
       "    <tr>\n",
       "      <th>2176</th>\n",
       "      <td>2000.0</td>\n",
       "      <td>VeggieTales: Esther</td>\n",
       "    </tr>\n",
       "    <tr>\n",
       "      <th>4366</th>\n",
       "      <td>2000.0</td>\n",
       "      <td>Soul Food: Season 1</td>\n",
       "    </tr>\n",
       "    <tr>\n",
       "      <th>1636</th>\n",
       "      <td>1989.0</td>\n",
       "      <td>The Lady and the Highwayman</td>\n",
       "    </tr>\n",
       "    <tr>\n",
       "      <th>4041</th>\n",
       "      <td>2004.0</td>\n",
       "      <td>Mobile Suit Gundam SEED</td>\n",
       "    </tr>\n",
       "    <tr>\n",
       "      <th>947</th>\n",
       "      <td>1965.0</td>\n",
       "      <td>The Cincinnati Kid</td>\n",
       "    </tr>\n",
       "    <tr>\n",
       "      <th>3263</th>\n",
       "      <td>2004.0</td>\n",
       "      <td>Broadway: The Golden Age</td>\n",
       "    </tr>\n",
       "    <tr>\n",
       "      <th>1163</th>\n",
       "      <td>1984.0</td>\n",
       "      <td>2010: The Year We Make Contact</td>\n",
       "    </tr>\n",
       "    <tr>\n",
       "      <th>2290</th>\n",
       "      <td>1992.0</td>\n",
       "      <td>Aladdin: Platinum Edition</td>\n",
       "    </tr>\n",
       "  </tbody>\n",
       "</table>\n",
       "</div>\n",
       "      <button class=\"colab-df-convert\" onclick=\"convertToInteractive('df-f7aaa733-4161-4bbf-b86a-7a3f86c7a6bd')\"\n",
       "              title=\"Convert this dataframe to an interactive table.\"\n",
       "              style=\"display:none;\">\n",
       "        \n",
       "  <svg xmlns=\"http://www.w3.org/2000/svg\" height=\"24px\"viewBox=\"0 0 24 24\"\n",
       "       width=\"24px\">\n",
       "    <path d=\"M0 0h24v24H0V0z\" fill=\"none\"/>\n",
       "    <path d=\"M18.56 5.44l.94 2.06.94-2.06 2.06-.94-2.06-.94-.94-2.06-.94 2.06-2.06.94zm-11 1L8.5 8.5l.94-2.06 2.06-.94-2.06-.94L8.5 2.5l-.94 2.06-2.06.94zm10 10l.94 2.06.94-2.06 2.06-.94-2.06-.94-.94-2.06-.94 2.06-2.06.94z\"/><path d=\"M17.41 7.96l-1.37-1.37c-.4-.4-.92-.59-1.43-.59-.52 0-1.04.2-1.43.59L10.3 9.45l-7.72 7.72c-.78.78-.78 2.05 0 2.83L4 21.41c.39.39.9.59 1.41.59.51 0 1.02-.2 1.41-.59l7.78-7.78 2.81-2.81c.8-.78.8-2.07 0-2.86zM5.41 20L4 18.59l7.72-7.72 1.47 1.35L5.41 20z\"/>\n",
       "  </svg>\n",
       "      </button>\n",
       "      \n",
       "  <style>\n",
       "    .colab-df-container {\n",
       "      display:flex;\n",
       "      flex-wrap:wrap;\n",
       "      gap: 12px;\n",
       "    }\n",
       "\n",
       "    .colab-df-convert {\n",
       "      background-color: #E8F0FE;\n",
       "      border: none;\n",
       "      border-radius: 50%;\n",
       "      cursor: pointer;\n",
       "      display: none;\n",
       "      fill: #1967D2;\n",
       "      height: 32px;\n",
       "      padding: 0 0 0 0;\n",
       "      width: 32px;\n",
       "    }\n",
       "\n",
       "    .colab-df-convert:hover {\n",
       "      background-color: #E2EBFA;\n",
       "      box-shadow: 0px 1px 2px rgba(60, 64, 67, 0.3), 0px 1px 3px 1px rgba(60, 64, 67, 0.15);\n",
       "      fill: #174EA6;\n",
       "    }\n",
       "\n",
       "    [theme=dark] .colab-df-convert {\n",
       "      background-color: #3B4455;\n",
       "      fill: #D2E3FC;\n",
       "    }\n",
       "\n",
       "    [theme=dark] .colab-df-convert:hover {\n",
       "      background-color: #434B5C;\n",
       "      box-shadow: 0px 1px 3px 1px rgba(0, 0, 0, 0.15);\n",
       "      filter: drop-shadow(0px 1px 2px rgba(0, 0, 0, 0.3));\n",
       "      fill: #FFFFFF;\n",
       "    }\n",
       "  </style>\n",
       "\n",
       "      <script>\n",
       "        const buttonEl =\n",
       "          document.querySelector('#df-f7aaa733-4161-4bbf-b86a-7a3f86c7a6bd button.colab-df-convert');\n",
       "        buttonEl.style.display =\n",
       "          google.colab.kernel.accessAllowed ? 'block' : 'none';\n",
       "\n",
       "        async function convertToInteractive(key) {\n",
       "          const element = document.querySelector('#df-f7aaa733-4161-4bbf-b86a-7a3f86c7a6bd');\n",
       "          const dataTable =\n",
       "            await google.colab.kernel.invokeFunction('convertToInteractive',\n",
       "                                                     [key], {});\n",
       "          if (!dataTable) return;\n",
       "\n",
       "          const docLinkHtml = 'Like what you see? Visit the ' +\n",
       "            '<a target=\"_blank\" href=https://colab.research.google.com/notebooks/data_table.ipynb>data table notebook</a>'\n",
       "            + ' to learn more about interactive tables.';\n",
       "          element.innerHTML = '';\n",
       "          dataTable['output_type'] = 'display_data';\n",
       "          await google.colab.output.renderOutput(dataTable, element);\n",
       "          const docLink = document.createElement('div');\n",
       "          docLink.innerHTML = docLinkHtml;\n",
       "          element.appendChild(docLink);\n",
       "        }\n",
       "      </script>\n",
       "    </div>\n",
       "  </div>\n",
       "  "
      ],
      "text/plain": [
       "            Year                            Name\n",
       "Movie_Id                                        \n",
       "705       1989.0                    Major League\n",
       "3437      1994.0                       The Stand\n",
       "2176      2000.0             VeggieTales: Esther\n",
       "4366      2000.0             Soul Food: Season 1\n",
       "1636      1989.0     The Lady and the Highwayman\n",
       "4041      2004.0         Mobile Suit Gundam SEED\n",
       "947       1965.0              The Cincinnati Kid\n",
       "3263      2004.0        Broadway: The Golden Age\n",
       "1163      1984.0  2010: The Year We Make Contact\n",
       "2290      1992.0       Aladdin: Platinum Edition"
      ]
     },
     "execution_count": 29,
     "metadata": {},
     "output_type": "execute_result"
    }
   ],
   "source": [
    "similar_movies(algo, item_dict, item=10, n=10)"
   ]
  },
  {
   "cell_type": "markdown",
   "metadata": {
    "id": "O8_05BosqfLv"
   },
   "source": [
    "### Visualizing the movie Factors Using t-SNE\n"
   ]
  },
  {
   "cell_type": "code",
   "execution_count": null,
   "metadata": {
    "id": "2ZpvWCtmqgTV"
   },
   "outputs": [],
   "source": [
    "from sklearn.manifold import TSNE\n",
    "\n",
    "tsne = TSNE(n_components=2, perplexity=10, n_iter=1000, verbose=3, random_state=seed)\n",
    "movie_embedding = tsne.fit_transform(algo.qi)"
   ]
  },
  {
   "cell_type": "code",
   "execution_count": null,
   "metadata": {
    "id": "zv6KlHKtqhON"
   },
   "outputs": [],
   "source": [
    "projection = pd.DataFrame(columns=['x', 'y'], data=movie_embedding)\n",
    "movie_names = [df_title.loc[val, 'Name'] for key, val in item_dict.items()]\n",
    "encoded_movie_ids = list(item_dict.keys())\n",
    "projection['Title'] = movie_names\n",
    "projection['Movie_Id_Encoded'] = encoded_movie_ids\n",
    "projection"
   ]
  },
  {
   "cell_type": "code",
   "execution_count": null,
   "metadata": {
    "id": "aJiJgVEwqh-B"
   },
   "outputs": [],
   "source": [
    "n_samples = 100\n",
    "projection_plot = projection.loc[:n_samples]\n",
    "fig, ax = plt.subplots(figsize=(24, 12))\n",
    "ax.scatter(projection_plot.x.values, projection_plot.y.values, alpha=0.5)\n",
    "ax.set_xticks([])\n",
    "ax.set_yticks([])\n",
    "ax.grid(False)\n",
    "ax.set_title('Visualization of the movie factors', size=16)\n",
    "for i, (mid, txt) in enumerate(zip(projection_plot.Movie_Id_Encoded, projection_plot.Title)):\n",
    "    ax.annotate('{}: {}'.format(mid, txt), (projection_plot.x.values[i], projection_plot.y.values[i]), fontsize=11.5)"
   ]
  },
  {
   "cell_type": "code",
   "execution_count": null,
   "metadata": {
    "id": "psFVLi5pkR_v"
   },
   "outputs": [],
   "source": []
  }
 ],
 "metadata": {
  "colab": {
   "authorship_tag": "ABX9TyOiBqKD03YhOYceV6xrQ5qY",
   "collapsed_sections": [],
   "provenance": []
  },
  "kernelspec": {
   "display_name": "Python 3 (ipykernel)",
   "language": "python",
   "name": "python3"
  },
  "language_info": {
   "codemirror_mode": {
    "name": "ipython",
    "version": 3
   },
   "file_extension": ".py",
   "mimetype": "text/x-python",
   "name": "python",
   "nbconvert_exporter": "python",
   "pygments_lexer": "ipython3",
   "version": "3.9.12"
  }
 },
 "nbformat": 4,
 "nbformat_minor": 1
}
