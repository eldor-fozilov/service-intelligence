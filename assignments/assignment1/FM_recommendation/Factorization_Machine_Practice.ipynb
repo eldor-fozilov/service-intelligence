{
 "cells": [
  {
   "cell_type": "markdown",
   "metadata": {
    "id": "ltPOqP1zUCRJ"
   },
   "source": [
    "# Service Intelligence [Recommender Systems for Services]\n",
    "### TA: Jongkyung Shin (AIGS)\n",
    "### contact : shinjk1156@unist.ac.kr (if you have any questions about this session, feel free to ask me)\n",
    "\n"
   ]
  },
  {
   "cell_type": "markdown",
   "metadata": {
    "id": "nGp25fV6keUA"
   },
   "source": [
    "# Factorization Machine (FM)\n"
   ]
  },
  {
   "cell_type": "markdown",
   "metadata": {
    "id": "K4YAG9xpvVLK"
   },
   "source": [
    "![screensh](https://drive.google.com/uc?export=view&id=1EQU3eXDI1GHVbEaYx9pN8FDpzDC1S9Oz)"
   ]
  },
  {
   "cell_type": "markdown",
   "metadata": {
    "id": "Hmv4348nviKv"
   },
   "source": [
    "<img src=\"https://drive.google.com/uc?export=view&id=1a7g5NudnRDJRc8vn4KXNYZDnsmFzBpsy\" width=\"80%\">"
   ]
  },
  {
   "cell_type": "markdown",
   "metadata": {
    "id": "jYj_5rA7yoh0"
   },
   "source": [
    "## Input data format for FM\n",
    "\n",
    "- Combination of one-hot encoding vectors (and continous variables)\n",
    "- Very sparse (most of the elements of matrix are zero)\n",
    "\n",
    "<img src=\"https://drive.google.com/uc?export=view&id=1hpL4zcxGxBtXg_pM_BOfXozpBFaTErR4\" width=\"80%\">\n"
   ]
  },
  {
   "cell_type": "markdown",
   "metadata": {
    "id": "ioLRMs8_kX0D"
   },
   "source": [
    "# Data preparation (DP)"
   ]
  },
  {
   "cell_type": "code",
   "execution_count": 2,
   "metadata": {
    "id": "0I65EiM6zq3K"
   },
   "outputs": [],
   "source": [
    "import numpy as np\n",
    "import pandas as pd\n",
    "#from google.colab import files\n",
    "import io"
   ]
  },
  {
   "cell_type": "code",
   "execution_count": 4,
   "metadata": {
    "id": "Rt96zIUY4ntg"
   },
   "outputs": [
    {
     "data": {
      "text/html": [
       "<div>\n",
       "<style scoped>\n",
       "    .dataframe tbody tr th:only-of-type {\n",
       "        vertical-align: middle;\n",
       "    }\n",
       "\n",
       "    .dataframe tbody tr th {\n",
       "        vertical-align: top;\n",
       "    }\n",
       "\n",
       "    .dataframe thead th {\n",
       "        text-align: right;\n",
       "    }\n",
       "</style>\n",
       "<table border=\"1\" class=\"dataframe\">\n",
       "  <thead>\n",
       "    <tr style=\"text-align: right;\">\n",
       "      <th></th>\n",
       "      <th>user_id</th>\n",
       "      <th>item_id</th>\n",
       "    </tr>\n",
       "  </thead>\n",
       "  <tbody>\n",
       "    <tr>\n",
       "      <th>0</th>\n",
       "      <td>1369335</td>\n",
       "      <td>26615000</td>\n",
       "    </tr>\n",
       "    <tr>\n",
       "      <th>1</th>\n",
       "      <td>1369335</td>\n",
       "      <td>30626000</td>\n",
       "    </tr>\n",
       "    <tr>\n",
       "      <th>2</th>\n",
       "      <td>1369335</td>\n",
       "      <td>23917000</td>\n",
       "    </tr>\n",
       "    <tr>\n",
       "      <th>3</th>\n",
       "      <td>1369335</td>\n",
       "      <td>26563000</td>\n",
       "    </tr>\n",
       "    <tr>\n",
       "      <th>4</th>\n",
       "      <td>1369335</td>\n",
       "      <td>1294201000</td>\n",
       "    </tr>\n",
       "  </tbody>\n",
       "</table>\n",
       "</div>"
      ],
      "text/plain": [
       "   user_id     item_id\n",
       "0  1369335    26615000\n",
       "1  1369335    30626000\n",
       "2  1369335    23917000\n",
       "3  1369335    26563000\n",
       "4  1369335  1294201000"
      ]
     },
     "execution_count": 4,
     "metadata": {},
     "output_type": "execute_result"
    }
   ],
   "source": [
    "# Load interaction data (user_id, item_id) using pandas read_csv() function\n",
    "## User A buy item a\n",
    "## User B buy item c ...\n",
    "### Output variable name : interaction_df\n",
    "'''\n",
    "file_uploaded = files.upload()\n",
    "df = pd.read_csv(io.BytesIO(file_uploaded['interaction.csv']))\n",
    "'''\n",
    "interaction_df = pd.read_csv('interaction.csv')\n",
    "interaction_df.head()\n",
    "\n"
   ]
  },
  {
   "cell_type": "code",
   "execution_count": 5,
   "metadata": {
    "id": "LtvSAQ5O4ucl"
   },
   "outputs": [
    {
     "data": {
      "text/html": [
       "<div>\n",
       "<style scoped>\n",
       "    .dataframe tbody tr th:only-of-type {\n",
       "        vertical-align: middle;\n",
       "    }\n",
       "\n",
       "    .dataframe tbody tr th {\n",
       "        vertical-align: top;\n",
       "    }\n",
       "\n",
       "    .dataframe thead th {\n",
       "        text-align: right;\n",
       "    }\n",
       "</style>\n",
       "<table border=\"1\" class=\"dataframe\">\n",
       "  <thead>\n",
       "    <tr style=\"text-align: right;\">\n",
       "      <th></th>\n",
       "      <th>user_id</th>\n",
       "      <th>sex</th>\n",
       "      <th>age</th>\n",
       "    </tr>\n",
       "  </thead>\n",
       "  <tbody>\n",
       "    <tr>\n",
       "      <th>0</th>\n",
       "      <td>1369335</td>\n",
       "      <td>M</td>\n",
       "      <td>50</td>\n",
       "    </tr>\n",
       "    <tr>\n",
       "      <th>1</th>\n",
       "      <td>2965149</td>\n",
       "      <td>F</td>\n",
       "      <td>40</td>\n",
       "    </tr>\n",
       "    <tr>\n",
       "      <th>2</th>\n",
       "      <td>2107571</td>\n",
       "      <td>F</td>\n",
       "      <td>50</td>\n",
       "    </tr>\n",
       "    <tr>\n",
       "      <th>3</th>\n",
       "      <td>22182386</td>\n",
       "      <td>F</td>\n",
       "      <td>50</td>\n",
       "    </tr>\n",
       "    <tr>\n",
       "      <th>4</th>\n",
       "      <td>3082967</td>\n",
       "      <td>F</td>\n",
       "      <td>40</td>\n",
       "    </tr>\n",
       "  </tbody>\n",
       "</table>\n",
       "</div>"
      ],
      "text/plain": [
       "    user_id sex  age\n",
       "0   1369335   M   50\n",
       "1   2965149   F   40\n",
       "2   2107571   F   50\n",
       "3  22182386   F   50\n",
       "4   3082967   F   40"
      ]
     },
     "execution_count": 5,
     "metadata": {},
     "output_type": "execute_result"
    }
   ],
   "source": [
    "# Load User information data (user_id, sex, age) using pandas read_csv() function\n",
    "## User information\n",
    "## User A is male and fifties.\n",
    "## User B is female and forties.\n",
    "### Output variable name : user_df\n",
    "'''\n",
    "file_uploaded = files.upload()\n",
    "df = pd.read_csv(io.BytesIO(file_uploaded['users.csv']))\n",
    "'''\n",
    "user_df = pd.read_csv('users.csv')\n",
    "user_df.head()\n",
    "\n"
   ]
  },
  {
   "cell_type": "code",
   "execution_count": 6,
   "metadata": {
    "id": "lAppwl298PW2"
   },
   "outputs": [
    {
     "data": {
      "text/html": [
       "<div>\n",
       "<style scoped>\n",
       "    .dataframe tbody tr th:only-of-type {\n",
       "        vertical-align: middle;\n",
       "    }\n",
       "\n",
       "    .dataframe tbody tr th {\n",
       "        vertical-align: top;\n",
       "    }\n",
       "\n",
       "    .dataframe thead th {\n",
       "        text-align: right;\n",
       "    }\n",
       "</style>\n",
       "<table border=\"1\" class=\"dataframe\">\n",
       "  <thead>\n",
       "    <tr style=\"text-align: right;\">\n",
       "      <th></th>\n",
       "      <th>item_id</th>\n",
       "      <th>large_category</th>\n",
       "    </tr>\n",
       "  </thead>\n",
       "  <tbody>\n",
       "    <tr>\n",
       "      <th>0</th>\n",
       "      <td>26615000</td>\n",
       "      <td>fish</td>\n",
       "    </tr>\n",
       "    <tr>\n",
       "      <th>1</th>\n",
       "      <td>30626000</td>\n",
       "      <td>vegetable</td>\n",
       "    </tr>\n",
       "    <tr>\n",
       "      <th>2</th>\n",
       "      <td>23917000</td>\n",
       "      <td>vegetable</td>\n",
       "    </tr>\n",
       "    <tr>\n",
       "      <th>3</th>\n",
       "      <td>26563000</td>\n",
       "      <td>vegetable</td>\n",
       "    </tr>\n",
       "    <tr>\n",
       "      <th>4</th>\n",
       "      <td>1294201000</td>\n",
       "      <td>dried_seafood</td>\n",
       "    </tr>\n",
       "  </tbody>\n",
       "</table>\n",
       "</div>"
      ],
      "text/plain": [
       "      item_id large_category\n",
       "0    26615000           fish\n",
       "1    30626000      vegetable\n",
       "2    23917000      vegetable\n",
       "3    26563000      vegetable\n",
       "4  1294201000  dried_seafood"
      ]
     },
     "execution_count": 6,
     "metadata": {},
     "output_type": "execute_result"
    }
   ],
   "source": [
    "# Load Item information data (item_id, large_category) using pandas read_csv() function\n",
    "## Item A belongs to the fish category\n",
    "## Item B belongs to the vegetable category\n",
    "### Output variable name : item_df\n",
    "'''\n",
    "file_uploaded = files.upload()\n",
    "df = pd.read_csv(io.BytesIO(file_uploaded['items.csv']))\n",
    "'''\n",
    "item_df = pd.read_csv('items.csv')\n",
    "item_df.head()\n",
    "\n"
   ]
  },
  {
   "cell_type": "code",
   "execution_count": 8,
   "metadata": {
    "id": "WXqCxTJO8SGJ"
   },
   "outputs": [
    {
     "ename": "NameError",
     "evalue": "name 'num_user' is not defined",
     "output_type": "error",
     "traceback": [
      "\u001b[1;31m---------------------------------------------------------------------------\u001b[0m",
      "\u001b[1;31mNameError\u001b[0m                                 Traceback (most recent call last)",
      "Input \u001b[1;32mIn [8]\u001b[0m, in \u001b[0;36m<cell line: 9>\u001b[1;34m()\u001b[0m\n\u001b[0;32m      1\u001b[0m \u001b[38;5;66;03m# Check the number of users/items/interactions and print the results\u001b[39;00m\n\u001b[0;32m      2\u001b[0m \u001b[38;5;66;03m# Hint : use pandas unique() and tolist() function\u001b[39;00m\n\u001b[0;32m      3\u001b[0m \u001b[38;5;66;03m# Output variable name : num_user, num_item, num_interactions\u001b[39;00m\n\u001b[1;32m   (...)\u001b[0m\n\u001b[0;32m      6\u001b[0m \n\u001b[0;32m      7\u001b[0m \u001b[38;5;66;03m#######################\u001b[39;00m\n\u001b[1;32m----> 9\u001b[0m \u001b[38;5;28mprint\u001b[39m(\u001b[38;5;124m\"\u001b[39m\u001b[38;5;124m# of Users : \u001b[39m\u001b[38;5;132;01m{}\u001b[39;00m\u001b[38;5;124m\"\u001b[39m\u001b[38;5;241m.\u001b[39mformat(\u001b[43mnum_user\u001b[49m))\n\u001b[0;32m     10\u001b[0m \u001b[38;5;28mprint\u001b[39m(\u001b[38;5;124m\"\u001b[39m\u001b[38;5;124m# of Items : \u001b[39m\u001b[38;5;132;01m{}\u001b[39;00m\u001b[38;5;124m\"\u001b[39m\u001b[38;5;241m.\u001b[39mformat(num_item))\n\u001b[0;32m     11\u001b[0m \u001b[38;5;28mprint\u001b[39m(\u001b[38;5;124m\"\u001b[39m\u001b[38;5;124m# of interactions : \u001b[39m\u001b[38;5;132;01m{}\u001b[39;00m\u001b[38;5;124m\"\u001b[39m\u001b[38;5;241m.\u001b[39mformat(num_interactions))\n",
      "\u001b[1;31mNameError\u001b[0m: name 'num_user' is not defined"
     ]
    }
   ],
   "source": [
    "# Check the number of users/items/interactions and print the results\n",
    "# Hint : use pandas unique() and tolist() function\n",
    "# Output variable name : num_user, num_item, num_interactions\n",
    "\n",
    "### Write your code ###\n",
    "\n",
    "#######################\n",
    "\n",
    "print(\"# of Users : {}\".format(num_user))\n",
    "print(\"# of Items : {}\".format(num_item))\n",
    "print(\"# of interactions : {}\".format(num_interactions))"
   ]
  },
  {
   "cell_type": "markdown",
   "metadata": {
    "id": "fyMSVOY_niEy"
   },
   "source": [
    "## (DP1) Create dummy variables to represent categorical variables\n"
   ]
  },
  {
   "cell_type": "markdown",
   "metadata": {
    "id": "qeoV4Z2Zkizp"
   },
   "source": [
    "### User information"
   ]
  },
  {
   "cell_type": "code",
   "execution_count": null,
   "metadata": {
    "id": "ufY_LR3RXtwp"
   },
   "outputs": [],
   "source": [
    "# Create dummy variables of user information using pandas get_dummies() function (excluding user_id)\n",
    "## Output variable name : user_features\n",
    "\n",
    "### Write your code ###\n",
    "\n",
    "#######################\n",
    "\n",
    "user_features.head()"
   ]
  },
  {
   "cell_type": "markdown",
   "metadata": {
    "id": "ONmXIMNpnuY1"
   },
   "source": [
    "### Item information"
   ]
  },
  {
   "cell_type": "code",
   "execution_count": null,
   "metadata": {
    "id": "GYiW6kRvVybx"
   },
   "outputs": [],
   "source": [
    "# Create dummy variables of item information using pandas get_dummies() function (excluding item_id)\n",
    "## Output variable name : item_features\n",
    "\n",
    "### Write your code  ###\n",
    "\n",
    "#######################\n",
    "\n",
    "item_features.head()"
   ]
  },
  {
   "cell_type": "markdown",
   "metadata": {
    "id": "5rT5og_-bZ2B"
   },
   "source": [
    "### Calculation of the number of dimensions and matrix sparsity "
   ]
  },
  {
   "cell_type": "code",
   "execution_count": null,
   "metadata": {
    "id": "lxr-pAx6aAV2"
   },
   "outputs": [],
   "source": [
    "# Create datasets merged user/item/interaction dataset using pandas merge() function\n",
    "## Output variable name : merge_df\n",
    "\n",
    "### Write your code ###\n",
    "\n",
    "#######################\n",
    "\n",
    "merge_df"
   ]
  },
  {
   "cell_type": "code",
   "execution_count": null,
   "metadata": {
    "id": "YztV98SsaPG2"
   },
   "outputs": [],
   "source": [
    "# Create dummy variables of merged datasets to represent whole categorical variables using pandas get_dummies() function\n",
    "# Note: input_matrix is not used to train the FM model, this matrix is just used for calculating the number of dimensions and sparsity\n",
    "### Output variable name : input_matrix\n",
    "\n",
    "### Write your code ###\n",
    "\n",
    "#######################\n",
    "input_matrix"
   ]
  },
  {
   "cell_type": "code",
   "execution_count": null,
   "metadata": {
    "id": "a0rXEtJBa0X1"
   },
   "outputs": [],
   "source": [
    "# Print the shape of merged_datasets (variable name : input_matrix)\n",
    "\n",
    "print(\"Shape of input matrix : {}\".format(input_matrix.shape))"
   ]
  },
  {
   "cell_type": "markdown",
   "metadata": {
    "id": "mdvzKMtvVnzL"
   },
   "source": [
    "- The final data format is **wide** (the number of dimensions is large; 5753)\n",
    "- This kind of datasets requires high computational cost during training the ML model\n",
    "- This occurs **'curse of dimensionality'** that makes model performance low"
   ]
  },
  {
   "cell_type": "markdown",
   "metadata": {
    "id": "jDTLAqXRtnIy"
   },
   "source": [
    "### FM's unique trick to reduce dimensions of interaction matrix\n",
    "\n",
    "\n",
    "![screensh](https://drive.google.com/uc?export=view&id=1wnmcd1PeH0Le6U2gg6_nZVPslBALapxK)\n",
    "\n",
    "- FM does not estimates W matrix (5753 \\* 5753), but V matrix (5753 \\* K) for the interaction term\n",
    "- It allows for reducing the computational cost and memory"
   ]
  },
  {
   "cell_type": "code",
   "execution_count": null,
   "metadata": {
    "id": "21uBe0XOas-u"
   },
   "outputs": [],
   "source": [
    "# Calculate sparisity of matrix using numpy count_nonzero() function\n",
    "## sparsity == 1 means that the matrix only consists of zeros\n",
    "## Output variable name : sparsity\n",
    "\n",
    "### Write your code ###\n",
    "\n",
    "#######################\n",
    "\n",
    "print(\"Sparsity : {}\".format(round(sparsity,3)))"
   ]
  },
  {
   "cell_type": "markdown",
   "metadata": {
    "id": "YUo8WGh9c9tg"
   },
   "source": [
    "- The matrix which consists of dummy variables has high sparsity.\n",
    "- High sparsity occurs low performance.\n",
    "- This is called **sparsity problem** in recommendation research domain"
   ]
  },
  {
   "cell_type": "markdown",
   "metadata": {
    "id": "u0ExxjYEI0ld"
   },
   "source": [
    "## (DP2) Split the data into Training / Test sets"
   ]
  },
  {
   "cell_type": "code",
   "execution_count": null,
   "metadata": {
    "id": "dPKl353HXzy2"
   },
   "outputs": [],
   "source": [
    "# Split the Data into training and test sets in your own way\n",
    "## Output variable name : train_interaction, test_interaction\n",
    "\n",
    "### Write your code ###\n",
    "\n",
    "#######################\n",
    "\n",
    "train_interaction"
   ]
  },
  {
   "cell_type": "code",
   "execution_count": null,
   "metadata": {
    "id": "3leogLSbptIT"
   },
   "outputs": [],
   "source": [
    "# Reset the index of each dataframe using pandas reset_index() function\n",
    "## Output variable name : train_interaction, test_interaction\n",
    "\n",
    "### Write your code ###\n",
    "\n",
    "#######################\n",
    "\n",
    "train_interaction"
   ]
  },
  {
   "cell_type": "markdown",
   "metadata": {
    "id": "d6F586Oemdq8"
   },
   "source": [
    "### Cold start issue\n",
    "- Cold-start problem is very important issue in recommendation domain.\n",
    "- Cold-start users : **new users that the model did not observse** during training step \n",
    "- Cold-start items : **new items that the model did not observse** during training step \n",
    "- For more detail about cold-start problem, please refer to the below links.\n",
    "  - https://www.yusp.com/blog-posts/cold-start-problem/\n",
    "  -  https://en.wikipedia.org/wiki/Cold_start_(recommender_systems)"
   ]
  },
  {
   "cell_type": "code",
   "execution_count": null,
   "metadata": {
    "id": "hAWV3A_zg9hD"
   },
   "outputs": [],
   "source": [
    "# Identify the users in each interaction datasets\n",
    "# Hint: Use pandas unique() function\n",
    "## Output variable name : train_users_list, test_users_list\n",
    "\n",
    "### Write your code ###\n",
    "\n",
    "#######################\n",
    "\n",
    "# Calculate the number of the cold start users who contain in training datasets but not in test datasets.\n",
    "cold_start_users = set(test_users_list) - set(train_users_list)\n",
    "print(\"# of cold_start_users : {}\".format(len(cold_start_users)))"
   ]
  },
  {
   "cell_type": "code",
   "execution_count": null,
   "metadata": {
    "id": "6rREtkY7ohHO"
   },
   "outputs": [],
   "source": [
    "# Identify the items in each interaction datasets\n",
    "# Hint: Use pandas unique() function\n",
    "## Output variable name : train_items_list, test_items_list\n",
    "\n",
    "### Write your code ###\n",
    "\n",
    "#######################\n",
    "\n",
    "# Calculate the number of the cold start items who contain in training datasets but not in test datasets.\n",
    "cold_start_items = set(test_items_list) - set(train_items_list)\n",
    "print(\"# of cold_start_items : {}\".format(len(cold_start_items)))\n",
    "\n",
    "# Cold start items cannot be derived from FM models because they are not observed during training."
   ]
  },
  {
   "cell_type": "code",
   "execution_count": null,
   "metadata": {
    "id": "0AgvPP2XqRMS"
   },
   "outputs": [],
   "source": [
    "# Create dummy variables of user and item information for training datasets\n",
    "# Hint : pandas isin() function\n",
    "## Output variable name : train_user_features, train_item_features\n",
    "\n",
    "### Write your code ###\n",
    "\n",
    "#######################\n"
   ]
  },
  {
   "cell_type": "markdown",
   "metadata": {
    "id": "3QXTWUUOFuhg"
   },
   "source": [
    "# RankFM\n",
    "#### Ref : https://rankfm.readthedocs.io/en/latest/home.html, https://github.com/etlundquist/rankfm\n",
    "\n",
    "- RankFM has 9 hyper-parameters.\n",
    "    - **factors** : the number of latent factors (>1)\n",
    "    - **loss** : optimization/loss function to use for training: ['bpr', 'warp'] ('warp' recommended.)\n",
    "       -  For more details about 'warp loss' and 'negative sampling', see https://medium.com/@gabrieltseng/intro-to-warp-loss-automatic-differentiation-and-pytorch-b6aa5083187a)\n",
    "    - **max_samples** : Maximum number of negative samples to draw for WARP loss (>0)\n",
    "    - **alpha** : L2 regularization penalty on [user, item] model weights (>0.0)\n",
    "    - **beta** : L2 regularization penalty on [user-feature, item-feature] model weights (>0.0)\n",
    "    - **sigma** : standard deviation to use for random initialization of factor weights (>0.0)\n",
    "    - **learning_rate** : initial learning rate for gradient step updates (>0.0)\n",
    "    - **learning_schedule** : schedule for adjusting learning rates by training epoch: ['constant', 'invscaling']\n",
    "    - **learning_exponent** : exponent applied to epoch number to adjust learning rate (>0.0): scaling = 1 / pow(epoch + 1, learning_exponent) \n",
    "\n",
    "- You can change the value of each hyper-parameter to get the highly performed model."
   ]
  },
  {
   "cell_type": "markdown",
   "metadata": {
    "id": "NKGqqXBUObQj"
   },
   "source": [
    "## 1) Training step for FM model"
   ]
  },
  {
   "cell_type": "code",
   "execution_count": null,
   "metadata": {
    "id": "lCIczP8IcVMr"
   },
   "outputs": [],
   "source": [
    "pip install rankfm"
   ]
  },
  {
   "cell_type": "code",
   "execution_count": null,
   "metadata": {
    "id": "6eAIe8KdqqIa"
   },
   "outputs": [],
   "source": [
    "import rankfm\n",
    "from rankfm.rankfm import RankFM\n",
    "# Call the RankFM function and Set the hyper-parameters in your own ways.\n",
    "## Output variable name : model\n",
    "\n",
    "### Write your code ###\n",
    "\n",
    "#######################\n"
   ]
  },
  {
   "cell_type": "code",
   "execution_count": null,
   "metadata": {
    "id": "Oh0HlK0jCxcF"
   },
   "outputs": [],
   "source": [
    "# Train the model using fit() function. you can choose the number of epochs.\n",
    "# You must input interaction data, user_features, and item_features (for training datasets) into the fit() function.\n",
    "%%time\n",
    "\n",
    "### Write your code ###\n",
    "\n",
    "#######################"
   ]
  },
  {
   "cell_type": "code",
   "execution_count": null,
   "metadata": {
    "id": "BQteVgYJDZyw"
   },
   "outputs": [],
   "source": [
    "# FM model is a kind of regression model.\n",
    "# Therefore, it calculates the score of each interaction (user/item pair:[user_id, item_id]) (The larger score is, The higher probability is)\n",
    "## Calculate the score each interaction in test interaction datasets using rankfm predict() function.\n",
    "### Output variable name : test_scores\n",
    "\n",
    "### Write your code ###\n",
    "\n",
    "#######################\n",
    "\n",
    "test_scores"
   ]
  },
  {
   "cell_type": "markdown",
   "metadata": {
    "id": "b8ahy1DbNGrz"
   },
   "source": [
    "## 2) Generating TopK recommendation\n",
    "-  Based on the score, TopK recommendations can be generated.\n",
    "-  'recommend()' function in rankfm package provide each users' TopK recommended items in descending order\n",
    "  -  The best recommended item is in column 0."
   ]
  },
  {
   "cell_type": "code",
   "execution_count": null,
   "metadata": {
    "id": "Ow0xSuK5DuXU"
   },
   "outputs": [],
   "source": [
    "# Generate TopK recommendation for each users in test interaction data using rankfm recommend() function\n",
    "## Output variable name : test_recommendation\n",
    "TopK = 10\n",
    "\n",
    "### Write your code ###\n",
    "\n",
    "#######################\n",
    "\n",
    "test_recommendation"
   ]
  },
  {
   "cell_type": "markdown",
   "metadata": {
    "id": "0FLOX2LRM_ks"
   },
   "source": [
    "## 3) Evaluating FM model\n",
    "\n",
    "- For more information about metrics for recommendation, please refer to https://towardsdatascience.com/ranking-evaluation-metrics-for-recommender-systems-263d0a66ef54\n",
    "\n",
    "- For this practice, Hit ratio, reciprocal rank, discounted cumulative gain (DCG), precision, recall and F1 score are used to measure the performance of the FM model (The higher the better)"
   ]
  },
  {
   "cell_type": "code",
   "execution_count": 10,
   "metadata": {
    "id": "lVwRrpOSD4Ki"
   },
   "outputs": [
    {
     "ename": "ModuleNotFoundError",
     "evalue": "No module named 'rankfm'",
     "output_type": "error",
     "traceback": [
      "\u001b[1;31m---------------------------------------------------------------------------\u001b[0m",
      "\u001b[1;31mModuleNotFoundError\u001b[0m                       Traceback (most recent call last)",
      "Input \u001b[1;32mIn [10]\u001b[0m, in \u001b[0;36m<cell line: 1>\u001b[1;34m()\u001b[0m\n\u001b[1;32m----> 1\u001b[0m \u001b[38;5;28;01mfrom\u001b[39;00m \u001b[38;5;21;01mrankfm\u001b[39;00m\u001b[38;5;21;01m.\u001b[39;00m\u001b[38;5;21;01mevaluation\u001b[39;00m \u001b[38;5;28;01mimport\u001b[39;00m hit_rate, reciprocal_rank, discounted_cumulative_gain, precision, recall\n",
      "\u001b[1;31mModuleNotFoundError\u001b[0m: No module named 'rankfm'"
     ]
    }
   ],
   "source": [
    "from rankfm.evaluation import hit_rate, reciprocal_rank, discounted_cumulative_gain, precision, recall"
   ]
  },
  {
   "cell_type": "code",
   "execution_count": 11,
   "metadata": {
    "id": "Vee6PQbAEe6V"
   },
   "outputs": [
    {
     "ename": "NameError",
     "evalue": "name 'hit_rate' is not defined",
     "output_type": "error",
     "traceback": [
      "\u001b[1;31m---------------------------------------------------------------------------\u001b[0m",
      "\u001b[1;31mNameError\u001b[0m                                 Traceback (most recent call last)",
      "Input \u001b[1;32mIn [11]\u001b[0m, in \u001b[0;36m<cell line: 5>\u001b[1;34m()\u001b[0m\n\u001b[0;32m      1\u001b[0m \u001b[38;5;66;03m# Evaluate the trained FM model using all metrics (Hit rate, reciprocal rank, DCG, precision, recall, F1 score) when K is equal to 10.\u001b[39;00m\n\u001b[0;32m      3\u001b[0m K \u001b[38;5;241m=\u001b[39m \u001b[38;5;241m10\u001b[39m\n\u001b[1;32m----> 5\u001b[0m Hit_rate \u001b[38;5;241m=\u001b[39m \u001b[43mhit_rate\u001b[49m(model, test_interaction, k\u001b[38;5;241m=\u001b[39mK)\n\u001b[0;32m      6\u001b[0m Reciprocal_rank \u001b[38;5;241m=\u001b[39m reciprocal_rank(model, test_interaction, k\u001b[38;5;241m=\u001b[39mK)\n\u001b[0;32m      7\u001b[0m Dcg \u001b[38;5;241m=\u001b[39m discounted_cumulative_gain(model, test_interaction, k\u001b[38;5;241m=\u001b[39mK)\n",
      "\u001b[1;31mNameError\u001b[0m: name 'hit_rate' is not defined"
     ]
    }
   ],
   "source": [
    "# Evaluate the trained FM model using all metrics (Hit rate, reciprocal rank, DCG, precision, recall, F1 score) when K is equal to 10.\n",
    "\n",
    "K = 10\n",
    "\n",
    "Hit_rate = hit_rate(model, test_interaction, k=K)\n",
    "Reciprocal_rank = reciprocal_rank(model, test_interaction, k=K)\n",
    "Dcg = discounted_cumulative_gain(model, test_interaction, k=K)\n",
    "Precision = precision(model, test_interaction, k=K)\n",
    "Recall = recall(model, test_interaction, k=K)\n",
    "\n",
    "print(\"*\"*5 + \" Performance of RankFM \" + \"*\"*5)\n",
    "print(\"Hit_ratio: {}\".format(round(Hit_rate, 3)))\n",
    "print(\"Reciprocal_rank: {}\".format(round(Reciprocal_rank, 3)))\n",
    "print(\"Dcg: {}\".format(round(Dcg, 3)))\n",
    "print(\"Precision: {}\".format(round(Precision, 3)))\n",
    "print(\"Recall: {}\".format(round(Recall, 3)))\n",
    "print(\"F1 score: {}\".format(round((2*Recall*Precision)/(Recall+Precision),3)))"
   ]
  },
  {
   "cell_type": "markdown",
   "metadata": {
    "id": "I0XrBebEPRD4"
   },
   "source": [
    "## 4) Performance Comparison\n",
    "\n",
    "- Here, we compare the trained RankFM model and baseline; POP\n",
    "- POP is Popularity based recommendation model (very simple)\n",
    "\n",
    "\n",
    "- **The evaluation result of your FM model must be better than the results of the baseline model; PoP, For this, you need to tune the hyper-parameters of the FM model appropriately.**\n"
   ]
  },
  {
   "cell_type": "code",
   "execution_count": null,
   "metadata": {
    "id": "3o4d05NUPUhU"
   },
   "outputs": [],
   "source": [
    "popular_items = train_interaction.groupby('item_id')['user_id'].count().sort_values(ascending=False)[:K]\n",
    "popular_items"
   ]
  },
  {
   "cell_type": "code",
   "execution_count": null,
   "metadata": {
    "id": "BMRYfFhJSaDq"
   },
   "outputs": [],
   "source": [
    "test_user_items = test_interaction.groupby('user_id')['item_id'].apply(set).to_dict()\n",
    "test_user_items = {key: val for key, val in test_user_items.items() if key in set(train_interaction.user_id.unique())}"
   ]
  },
  {
   "cell_type": "code",
   "execution_count": null,
   "metadata": {
    "id": "veyRUQi7Snx9"
   },
   "outputs": [],
   "source": [
    "base_pre = np.mean([len(set(popular_items.index) & set(val)) / len(set(popular_items.index)) for key, val in test_user_items.items()])\n",
    "base_rec = np.mean([len(set(popular_items.index) & set(val)) / len(set(val))                for key, val in test_user_items.items()])"
   ]
  },
  {
   "cell_type": "code",
   "execution_count": null,
   "metadata": {
    "id": "xxVjctJSSoN_"
   },
   "outputs": [],
   "source": [
    "print(\"Performance Comparision\\n\")\n",
    "\n",
    "print(\"*\"*5 + \" Performance of PoP \" + \"*\"*5)\n",
    "print(\"Precision: {:.3f}\".format(base_pre))\n",
    "print(\"Recall: {:.3f}\".format(base_rec))\n",
    "print(\"F1 score: {}\\n\".format(round((2*base_rec*base_pre)/(base_rec + base_pre),3)))\n",
    "\n",
    "print(\"*\"*5 + \" Performance of RankFM \" + \"*\"*5)\n",
    "print(\"Precision: {}\".format(round(Precision, 3)))\n",
    "print(\"Recall: {}\".format(round(Recall, 3)))\n",
    "print(\"F1 score: {}\".format(round((2*Recall*Precision)/(Recall+Precision),3)))"
   ]
  }
 ],
 "metadata": {
  "colab": {
   "collapsed_sections": [],
   "provenance": []
  },
  "kernelspec": {
   "display_name": "Python 3 (ipykernel)",
   "language": "python",
   "name": "python3"
  },
  "language_info": {
   "codemirror_mode": {
    "name": "ipython",
    "version": 3
   },
   "file_extension": ".py",
   "mimetype": "text/x-python",
   "name": "python",
   "nbconvert_exporter": "python",
   "pygments_lexer": "ipython3",
   "version": "3.9.12"
  },
  "vscode": {
   "interpreter": {
    "hash": "3184e367aed94e9165e34115788a9da2f8f6f4b1a7bd2d5fc70ee1c2d235f02a"
   }
  }
 },
 "nbformat": 4,
 "nbformat_minor": 1
}
