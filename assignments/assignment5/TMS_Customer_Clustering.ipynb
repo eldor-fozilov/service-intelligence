{
 "cells": [
  {
   "cell_type": "code",
   "execution_count": 1,
   "metadata": {},
   "outputs": [],
   "source": [
    "import numpy as np\n",
    "import pandas as pd\n",
    "import matplotlib.pyplot as plt\n",
    "import seaborn as sns\n",
    "import datetime as dt\n",
    "from tqdm import tqdm\n",
    "import random\n",
    "\n",
    "random_state=0\n",
    "np.random.seed(random_state)\n",
    "random.seed(random_state)\n",
    "\n",
    "from sklearn import preprocessing\n",
    "from sklearn.preprocessing import StandardScaler\n",
    "from sklearn.preprocessing import OneHotEncoder\n",
    "from sklearn.metrics import silhouette_score\n",
    "from sklearn.cluster import KMeans\n",
    "from sklearn.manifold import TSNE\n",
    "from sklearn.decomposition import PCA\n",
    "from sklearn.preprocessing import MinMaxScaler\n",
    "import scipy.cluster.hierarchy as shc\n",
    "import scipy.cluster.hierarchy as hcluster\n",
    "from sklearn.cluster import AgglomerativeClustering\n",
    "from scipy.cluster.hierarchy import dendrogram\n",
    "from kmodes.kprototypes import KPrototypes"
   ]
  },
  {
   "cell_type": "markdown",
   "metadata": {},
   "source": [
    "## B2B Customer Clustering for new TMS service Planning "
   ]
  },
  {
   "cell_type": "markdown",
   "metadata": {},
   "source": [
    "#### Service Description"
   ]
  },
  {
   "cell_type": "markdown",
   "metadata": {},
   "source": [
    "***'TMS'*** is air conditioner(A/C) maintenance service of LG which targets business customers in forms of subscription.\n",
    "    \n",
    "In TMS service, there are currently 7 types of service which customers can subscribe, G1, G2, G3, T1, T2, T3, and R(***See attached file 'TMS_service_description.pdf'***). Each service differentiates in terms of the subscription benefits containing the cost of repairs(ex._free repair for specific failure symptoms), provision of additional service options like remote control, energy management, and periodic inspections.    \n",
    "     \n",
    "TMS has the weakness that the existing service could not reflect the various characteristics(ex A/C user pattern) of real customer segments or personalized characteristics of a specific segment. The need for planning specialized tms service for real customers is increasing, based on analysis of real b2b data.    \n",
    "  \n",
    "We will newly define customer segments and analyze each segment's unmet needs by clustering LG B2B data. THIS CAN BE A NEW OPPORTUNITY of NEW TMS SERVICE PLANNING OR NEW CUSTOMER SERVICE.\n",
    "\n",
    "Dataset we will use includes\n",
    "- 1) each customer's TMS subscription information ex)TMS service currently subscribed to\n",
    "- 2) each customer's air conditioner A/S record ex)Failure symptoms, which repair taken\n",
    "- 3) each customer's individual information ex) business type, region"
   ]
  },
  {
   "cell_type": "markdown",
   "metadata": {},
   "source": [
    "#### Feature Description"
   ]
  },
  {
   "cell_type": "markdown",
   "metadata": {},
   "source": [
    "1) ***Building_use_type*** : b2b Customer's building/facility usage type like hospital, university, office. (=사용장소)   \n",
    "2) ***total_idu*** : The number of indoor AC(air conditioners) units installed per each b2b customers.    \n",
    "3) ***total_odu*** : The number of outdoor AC(air conditioners) units installed per each b2b customers.    \n",
    "4) ***contract_tms*** : TMS service which each custromer are subscribing now.    \n",
    "5) ***Region*** : The region b2b customer's building/facility located   (=지역)  \n",
    "6) ***Failure_symptoms*** : A/C Failure Symptoms recorded by an A/S engineer   (=고장증상)  \n",
    "7) ***Repair_code*** : General type of Repair taken by a engineer to resolve symptoms of failure.  (=처리코드)    \n",
    "8) ***Repair_type*** : Specific type of Repair taken by a engineer. It is more specific than 'Repair_code'.    (=처리유형명)   \n",
    "9) ***Defective_Type*** : Type of the Defection (the cause of A/C failure or the cause that customer call A/S)  (=불량구분명)   \n",
    "10) ***Repair_duration*** : The total time taken from registration of A/S to completion of the A/S.    (=처리소요시간)   \n",
    "11) ***Receipt_amount*** : The actual amount of fee paid by the customer, excluding the free benefits provided by 'TMS' service.  (=실영수금액)   \n",
    "\n",
    "\n",
    "* ***id_site: It is a kind of UNIQUE CUSTOMER NUMBER. The Same ID_SITE means the SAME CUSTOMER. When you analyze the data, you can reflect the information freely or you can delete columns and regard each low as a cusomer as TA did in practice class*** )"
   ]
  },
  {
   "cell_type": "markdown",
   "metadata": {},
   "source": [
    "### Data Loading"
   ]
  },
  {
   "cell_type": "code",
   "execution_count": 2,
   "metadata": {},
   "outputs": [],
   "source": [
    "df = pd.read_excel('./(eng)week5.TMS_Customer_Data.xlsx', engine='openpyxl')"
   ]
  },
  {
   "cell_type": "code",
   "execution_count": 3,
   "metadata": {},
   "outputs": [
    {
     "data": {
      "text/html": [
       "<div>\n",
       "<style scoped>\n",
       "    .dataframe tbody tr th:only-of-type {\n",
       "        vertical-align: middle;\n",
       "    }\n",
       "\n",
       "    .dataframe tbody tr th {\n",
       "        vertical-align: top;\n",
       "    }\n",
       "\n",
       "    .dataframe thead th {\n",
       "        text-align: right;\n",
       "    }\n",
       "</style>\n",
       "<table border=\"1\" class=\"dataframe\">\n",
       "  <thead>\n",
       "    <tr style=\"text-align: right;\">\n",
       "      <th></th>\n",
       "      <th>id_site</th>\n",
       "      <th>Building_use_type</th>\n",
       "      <th>total_idu</th>\n",
       "      <th>total_odu</th>\n",
       "      <th>contract_tms</th>\n",
       "      <th>Region</th>\n",
       "      <th>Failure_symptoms</th>\n",
       "      <th>Repair_code</th>\n",
       "      <th>Repair_type</th>\n",
       "      <th>Defective_Type</th>\n",
       "      <th>Repair_duration</th>\n",
       "      <th>Receipt_amount</th>\n",
       "    </tr>\n",
       "  </thead>\n",
       "  <tbody>\n",
       "    <tr>\n",
       "      <th>0</th>\n",
       "      <td>10000391</td>\n",
       "      <td>Office</td>\n",
       "      <td>33.0</td>\n",
       "      <td>10.0</td>\n",
       "      <td>T3</td>\n",
       "      <td>Seoul</td>\n",
       "      <td>Heater error</td>\n",
       "      <td>component related repair</td>\n",
       "      <td>General_repair</td>\n",
       "      <td>Product defect</td>\n",
       "      <td>73.0</td>\n",
       "      <td>0</td>\n",
       "    </tr>\n",
       "    <tr>\n",
       "      <th>1</th>\n",
       "      <td>10000391</td>\n",
       "      <td>Office</td>\n",
       "      <td>33.0</td>\n",
       "      <td>10.0</td>\n",
       "      <td>T3</td>\n",
       "      <td>Seoul</td>\n",
       "      <td>Accessories/AC component</td>\n",
       "      <td>component related repair</td>\n",
       "      <td>General_repair</td>\n",
       "      <td>Product defect</td>\n",
       "      <td>5.0</td>\n",
       "      <td>0</td>\n",
       "    </tr>\n",
       "    <tr>\n",
       "      <th>2</th>\n",
       "      <td>10000391</td>\n",
       "      <td>Office</td>\n",
       "      <td>33.0</td>\n",
       "      <td>10.0</td>\n",
       "      <td>T3</td>\n",
       "      <td>Seoul</td>\n",
       "      <td>Cooler Error</td>\n",
       "      <td>explanation_processing</td>\n",
       "      <td>General_repair</td>\n",
       "      <td>Emotional dissatisfaction</td>\n",
       "      <td>1017.0</td>\n",
       "      <td>0</td>\n",
       "    </tr>\n",
       "    <tr>\n",
       "      <th>3</th>\n",
       "      <td>10000391</td>\n",
       "      <td>Office</td>\n",
       "      <td>33.0</td>\n",
       "      <td>10.0</td>\n",
       "      <td>T3</td>\n",
       "      <td>Seoul</td>\n",
       "      <td>Inconvenient use</td>\n",
       "      <td>component related repair</td>\n",
       "      <td>General_repair</td>\n",
       "      <td>Product defect</td>\n",
       "      <td>273.0</td>\n",
       "      <td>0</td>\n",
       "    </tr>\n",
       "    <tr>\n",
       "      <th>4</th>\n",
       "      <td>10000391</td>\n",
       "      <td>Office</td>\n",
       "      <td>33.0</td>\n",
       "      <td>10.0</td>\n",
       "      <td>T3</td>\n",
       "      <td>Seoul</td>\n",
       "      <td>Display window error</td>\n",
       "      <td>component related repair</td>\n",
       "      <td>General_repair</td>\n",
       "      <td>Product defect</td>\n",
       "      <td>343.0</td>\n",
       "      <td>0</td>\n",
       "    </tr>\n",
       "  </tbody>\n",
       "</table>\n",
       "</div>"
      ],
      "text/plain": [
       "    id_site Building_use_type  total_idu  total_odu contract_tms Region  \\\n",
       "0  10000391            Office       33.0       10.0           T3  Seoul   \n",
       "1  10000391            Office       33.0       10.0           T3  Seoul   \n",
       "2  10000391            Office       33.0       10.0           T3  Seoul   \n",
       "3  10000391            Office       33.0       10.0           T3  Seoul   \n",
       "4  10000391            Office       33.0       10.0           T3  Seoul   \n",
       "\n",
       "           Failure_symptoms               Repair_code     Repair_type  \\\n",
       "0              Heater error  component related repair  General_repair   \n",
       "1  Accessories/AC component  component related repair  General_repair   \n",
       "2              Cooler Error    explanation_processing  General_repair   \n",
       "3          Inconvenient use  component related repair  General_repair   \n",
       "4      Display window error  component related repair  General_repair   \n",
       "\n",
       "              Defective_Type  Repair_duration  Receipt_amount  \n",
       "0             Product defect             73.0               0  \n",
       "1             Product defect              5.0               0  \n",
       "2  Emotional dissatisfaction           1017.0               0  \n",
       "3             Product defect            273.0               0  \n",
       "4             Product defect            343.0               0  "
      ]
     },
     "execution_count": 3,
     "metadata": {},
     "output_type": "execute_result"
    }
   ],
   "source": [
    "df.head()"
   ]
  },
  {
   "cell_type": "code",
   "execution_count": 4,
   "metadata": {},
   "outputs": [],
   "source": [
    "#start your own code~"
   ]
  },
  {
   "cell_type": "markdown",
   "metadata": {},
   "source": [
    "       "
   ]
  }
 ],
 "metadata": {
  "kernelspec": {
   "display_name": "Python 3",
   "language": "python",
   "name": "python3"
  },
  "language_info": {
   "codemirror_mode": {
    "name": "ipython",
    "version": 3
   },
   "file_extension": ".py",
   "mimetype": "text/x-python",
   "name": "python",
   "nbconvert_exporter": "python",
   "pygments_lexer": "ipython3",
   "version": "3.6.9"
  }
 },
 "nbformat": 4,
 "nbformat_minor": 4
}
