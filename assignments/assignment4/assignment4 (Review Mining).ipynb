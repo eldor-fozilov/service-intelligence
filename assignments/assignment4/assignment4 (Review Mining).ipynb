{
 "cells": [
  {
   "cell_type": "markdown",
   "metadata": {
    "id": "znrE3um64oWH"
   },
   "source": [
    "# Service Intelligence Practice"
   ]
  },
  {
   "cell_type": "markdown",
   "metadata": {
    "id": "FD6_6e-G4oWJ"
   },
   "source": [
    "## Loading dataset\n",
    "- Datasets: Hotel review data from hotel website in Singapore extracted using web crawling"
   ]
  },
  {
   "cell_type": "code",
   "execution_count": 150,
   "metadata": {
    "id": "pYkKqZuP4oWJ"
   },
   "outputs": [],
   "source": [
    "import pandas as pd\n",
    "df_star2 = pd.read_excel(\"HotelRev_less4STAR.xlsx\", sheet_name= '2class')\n",
    "df_star3 = pd.read_excel(\"HotelRev_less4STAR.xlsx\", sheet_name= '3class')\n",
    "df_star4 = pd.read_excel(\"HotelRev_less4STAR.xlsx\", sheet_name= '4class')"
   ]
  },
  {
   "cell_type": "code",
   "execution_count": 8,
   "metadata": {},
   "outputs": [
    {
     "data": {
      "text/html": [
       "<div>\n",
       "<style scoped>\n",
       "    .dataframe tbody tr th:only-of-type {\n",
       "        vertical-align: middle;\n",
       "    }\n",
       "\n",
       "    .dataframe tbody tr th {\n",
       "        vertical-align: top;\n",
       "    }\n",
       "\n",
       "    .dataframe thead th {\n",
       "        text-align: right;\n",
       "    }\n",
       "</style>\n",
       "<table border=\"1\" class=\"dataframe\">\n",
       "  <thead>\n",
       "    <tr style=\"text-align: right;\">\n",
       "      <th></th>\n",
       "      <th>Class</th>\n",
       "      <th>Name</th>\n",
       "      <th>id</th>\n",
       "      <th>date</th>\n",
       "      <th>date_of_stay</th>\n",
       "      <th>title</th>\n",
       "      <th>body</th>\n",
       "      <th>rating</th>\n",
       "      <th>trip_type</th>\n",
       "      <th>aspect</th>\n",
       "      <th>aspect_rating</th>\n",
       "    </tr>\n",
       "  </thead>\n",
       "  <tbody>\n",
       "    <tr>\n",
       "      <th>0</th>\n",
       "      <td>2</td>\n",
       "      <td>Arianna Hotel</td>\n",
       "      <td>Zee7</td>\n",
       "      <td>2011-10-01</td>\n",
       "      <td>2011-10-01</td>\n",
       "      <td>Expect Pure Misery</td>\n",
       "      <td>Arrived at the hotel at 2PM for my stay on Thu...</td>\n",
       "      <td>10</td>\n",
       "      <td>Travelled solo</td>\n",
       "      <td>['Value', 'Rooms', 'Location', 'Cleanliness', ...</td>\n",
       "      <td>['10', '10', '10', '10', '10', '10']</td>\n",
       "    </tr>\n",
       "    <tr>\n",
       "      <th>1</th>\n",
       "      <td>2</td>\n",
       "      <td>Arianna Hotel</td>\n",
       "      <td>triippyy</td>\n",
       "      <td>2011-10-01</td>\n",
       "      <td>2011-10-01</td>\n",
       "      <td>Not bad, not bad at all</td>\n",
       "      <td>The hotel was cosy and it was perfect for a so...</td>\n",
       "      <td>50</td>\n",
       "      <td>Travelled solo</td>\n",
       "      <td>['Value', 'Rooms', 'Location', 'Cleanliness', ...</td>\n",
       "      <td>['40', '40', '40', '40', '40', '40']</td>\n",
       "    </tr>\n",
       "    <tr>\n",
       "      <th>2</th>\n",
       "      <td>2</td>\n",
       "      <td>Arianna Hotel</td>\n",
       "      <td>Minibreak_11</td>\n",
       "      <td>2011-10-01</td>\n",
       "      <td>2011-10-01</td>\n",
       "      <td>Better then 1*</td>\n",
       "      <td>Expected the worst after booking a 1* rated ho...</td>\n",
       "      <td>30</td>\n",
       "      <td>Travelled solo</td>\n",
       "      <td>['Value', 'Rooms', 'Location', 'Cleanliness', ...</td>\n",
       "      <td>['40', '30', '40', '30', '40', '30']</td>\n",
       "    </tr>\n",
       "    <tr>\n",
       "      <th>3</th>\n",
       "      <td>2</td>\n",
       "      <td>Arianna Hotel</td>\n",
       "      <td>Masrura Ramidjal</td>\n",
       "      <td>2011-12-01</td>\n",
       "      <td>2011-10-01</td>\n",
       "      <td>Really in the Centre of Shopping Centre</td>\n",
       "      <td>My reason to stay in this hotel was the Locati...</td>\n",
       "      <td>30</td>\n",
       "      <td>NaN</td>\n",
       "      <td>['Value', 'Rooms', 'Location', 'Cleanliness', ...</td>\n",
       "      <td>['30', '20', '50', '30', '20']</td>\n",
       "    </tr>\n",
       "    <tr>\n",
       "      <th>4</th>\n",
       "      <td>2</td>\n",
       "      <td>Arianna Hotel</td>\n",
       "      <td>Genevie A</td>\n",
       "      <td>2012-01-01</td>\n",
       "      <td>2011-10-01</td>\n",
       "      <td>Average</td>\n",
       "      <td>Don't expect the luxuries of a hotel if you ar...</td>\n",
       "      <td>30</td>\n",
       "      <td>Travelled as a couple</td>\n",
       "      <td>['Value', 'Rooms', 'Location', 'Cleanliness', ...</td>\n",
       "      <td>['40', '30', '30', '20', '30', '20']</td>\n",
       "    </tr>\n",
       "  </tbody>\n",
       "</table>\n",
       "</div>"
      ],
      "text/plain": [
       "   Class           Name                id       date date_of_stay  \\\n",
       "0      2  Arianna Hotel              Zee7 2011-10-01   2011-10-01   \n",
       "1      2  Arianna Hotel          triippyy 2011-10-01   2011-10-01   \n",
       "2      2  Arianna Hotel      Minibreak_11 2011-10-01   2011-10-01   \n",
       "3      2  Arianna Hotel  Masrura Ramidjal 2011-12-01   2011-10-01   \n",
       "4      2  Arianna Hotel         Genevie A 2012-01-01   2011-10-01   \n",
       "\n",
       "                                     title  \\\n",
       "0                       Expect Pure Misery   \n",
       "1                  Not bad, not bad at all   \n",
       "2                           Better then 1*   \n",
       "3  Really in the Centre of Shopping Centre   \n",
       "4                                  Average   \n",
       "\n",
       "                                                body  rating  \\\n",
       "0  Arrived at the hotel at 2PM for my stay on Thu...      10   \n",
       "1  The hotel was cosy and it was perfect for a so...      50   \n",
       "2  Expected the worst after booking a 1* rated ho...      30   \n",
       "3  My reason to stay in this hotel was the Locati...      30   \n",
       "4  Don't expect the luxuries of a hotel if you ar...      30   \n",
       "\n",
       "               trip_type                                             aspect  \\\n",
       "0         Travelled solo  ['Value', 'Rooms', 'Location', 'Cleanliness', ...   \n",
       "1         Travelled solo  ['Value', 'Rooms', 'Location', 'Cleanliness', ...   \n",
       "2         Travelled solo  ['Value', 'Rooms', 'Location', 'Cleanliness', ...   \n",
       "3                    NaN  ['Value', 'Rooms', 'Location', 'Cleanliness', ...   \n",
       "4  Travelled as a couple  ['Value', 'Rooms', 'Location', 'Cleanliness', ...   \n",
       "\n",
       "                          aspect_rating  \n",
       "0  ['10', '10', '10', '10', '10', '10']  \n",
       "1  ['40', '40', '40', '40', '40', '40']  \n",
       "2  ['40', '30', '40', '30', '40', '30']  \n",
       "3        ['30', '20', '50', '30', '20']  \n",
       "4  ['40', '30', '30', '20', '30', '20']  "
      ]
     },
     "execution_count": 8,
     "metadata": {},
     "output_type": "execute_result"
    }
   ],
   "source": [
    "df_star2.head()"
   ]
  },
  {
   "cell_type": "code",
   "execution_count": 12,
   "metadata": {},
   "outputs": [
    {
     "data": {
      "text/plain": [
       "'Arrived at the hotel at 2PM for my stay on Thursday, October 13th.  Presented my name.  The front desk agent looked me up and said, \"sir we weren\\'t able to authorize your credit card and cancelled your reservation\".  I shrugged and said, \"here you go\" and presented my credit card.   The front desk agent laughed and said \"hold on\" and called someone secretly to discuss my reservation.  He says, \"sorry, we couldn\\'t authorize your card so we cancelled your reservation.  We sent you an e-mail. \"  I advised him that I had been traveling and couldn\\'t have checked my e-mail.  I asked him, \"would you check your e-mail if you were on a plane this morning?\" Again, he laughed and proceeded to recommend other hotels in the area.  He precisely knocked his own hotel by saying, \"These places are much better-- not like this at all.  You wouldn\\'t like this place anyway. \"  His sarcasm was lost on me.  I insisted he go ahead and give me a room.  He again insisted he sent an e-mail as if that eliminates any responsibility.  He again declined to give me a room.  When I asked for the manager or a General Manager he refused to provide it.  I had to insist and he wrote the name \"Jerome\" on the card and informed me that there was nobody else there.   I continued to stand there and expect a solution.  This is when he made his admission-- \"Sir we are oversold by 1 room tonight which is why I can\\'t give you a room. \" That is what actually happened -- they oversold the hotel and instead of walking me to another property, he decided to cancel my confirmed booking.  I advised him he should still provide me a room and anticipate no-shows since my reservation is confirmed.  He again declined.   I did some research and later found out that my card company may decline a charge if they don\\'t swipe the card.  This is done as a security measure.  Because the hotel attempted to pre-authorize my card before I presented the card, the charge declined.  It wasn\\'t a failure to pay.  I hadn\\'t even arrived yet.   So, I checked my e-mail last night assuming I\\'d find this e-mail which the front desk agent said was sent to me.  Was there an e-mail? Nope.  In fact, I took a screen shot of my confirmed reservation still active as of 5PM that day.  They lied.   Watch out - this hotel does not know how to manage their inventory and will oversell and attempt to deny you a room.  It cost me a lot of time and headaches having to seek alternative accommodations because of their failure to properly handle the situation.   \"Jerome\" and his team don\\'t know how to manage hotel room inventory and rather than accepting responsibility, they leave you on the street and laugh.   Stay away. '"
      ]
     },
     "execution_count": 12,
     "metadata": {},
     "output_type": "execute_result"
    }
   ],
   "source": [
    "df_star2.loc[0, 'body']"
   ]
  },
  {
   "cell_type": "code",
   "execution_count": 9,
   "metadata": {
    "scrolled": true
   },
   "outputs": [
    {
     "data": {
      "text/html": [
       "<div>\n",
       "<style scoped>\n",
       "    .dataframe tbody tr th:only-of-type {\n",
       "        vertical-align: middle;\n",
       "    }\n",
       "\n",
       "    .dataframe tbody tr th {\n",
       "        vertical-align: top;\n",
       "    }\n",
       "\n",
       "    .dataframe thead th {\n",
       "        text-align: right;\n",
       "    }\n",
       "</style>\n",
       "<table border=\"1\" class=\"dataframe\">\n",
       "  <thead>\n",
       "    <tr style=\"text-align: right;\">\n",
       "      <th></th>\n",
       "      <th>Class</th>\n",
       "      <th>Name</th>\n",
       "      <th>id</th>\n",
       "      <th>date</th>\n",
       "      <th>date_of_stay</th>\n",
       "      <th>title</th>\n",
       "      <th>body</th>\n",
       "      <th>rating</th>\n",
       "      <th>trip_type</th>\n",
       "      <th>aspect</th>\n",
       "      <th>aspect_rating</th>\n",
       "    </tr>\n",
       "  </thead>\n",
       "  <tbody>\n",
       "    <tr>\n",
       "      <th>0</th>\n",
       "      <td>3</td>\n",
       "      <td>Hotel 81 Changi</td>\n",
       "      <td>Zacgoez</td>\n",
       "      <td>2016-12-01</td>\n",
       "      <td>2016-11-01</td>\n",
       "      <td>Cozy hotel near airport</td>\n",
       "      <td>Nice place to stay.  This hotel near from chan...</td>\n",
       "      <td>30</td>\n",
       "      <td>Travelled as a couple</td>\n",
       "      <td>NaN</td>\n",
       "      <td>NaN</td>\n",
       "    </tr>\n",
       "    <tr>\n",
       "      <th>1</th>\n",
       "      <td>3</td>\n",
       "      <td>Hotel 81 Changi</td>\n",
       "      <td>Craig G</td>\n",
       "      <td>2017-02-01</td>\n",
       "      <td>2017-01-01</td>\n",
       "      <td>This is a SMOKERS Hotel</td>\n",
       "      <td>There is not a room in this hotel that doesn't...</td>\n",
       "      <td>20</td>\n",
       "      <td>Travelled solo</td>\n",
       "      <td>['Location', 'Cleanliness', 'Service']</td>\n",
       "      <td>['50', '20', '50']</td>\n",
       "    </tr>\n",
       "    <tr>\n",
       "      <th>2</th>\n",
       "      <td>3</td>\n",
       "      <td>Hotel 81 Changi</td>\n",
       "      <td>Richiie</td>\n",
       "      <td>2017-01-01</td>\n",
       "      <td>2017-01-01</td>\n",
       "      <td>Not many positives</td>\n",
       "      <td>The only positive about this hotel is that it ...</td>\n",
       "      <td>20</td>\n",
       "      <td>Travelled as a couple</td>\n",
       "      <td>NaN</td>\n",
       "      <td>NaN</td>\n",
       "    </tr>\n",
       "    <tr>\n",
       "      <th>3</th>\n",
       "      <td>3</td>\n",
       "      <td>Hotel 81 Changi</td>\n",
       "      <td>DennisBarney</td>\n",
       "      <td>2017-02-01</td>\n",
       "      <td>2017-02-01</td>\n",
       "      <td>Overnight stay</td>\n",
       "      <td>Ideal for overnight stay.  Only 15 min from ai...</td>\n",
       "      <td>30</td>\n",
       "      <td>Travelled as a couple</td>\n",
       "      <td>NaN</td>\n",
       "      <td>NaN</td>\n",
       "    </tr>\n",
       "    <tr>\n",
       "      <th>4</th>\n",
       "      <td>3</td>\n",
       "      <td>Hotel 81 Changi</td>\n",
       "      <td>fbaharin</td>\n",
       "      <td>2017-04-01</td>\n",
       "      <td>2017-03-01</td>\n",
       "      <td>Good for an overnight stay</td>\n",
       "      <td>Located about 10 minutes walk from the nearest...</td>\n",
       "      <td>40</td>\n",
       "      <td>Travelled with friends</td>\n",
       "      <td>['Cleanliness', 'Service', 'Sleep Quality']</td>\n",
       "      <td>['40', '30', '50']</td>\n",
       "    </tr>\n",
       "  </tbody>\n",
       "</table>\n",
       "</div>"
      ],
      "text/plain": [
       "   Class             Name            id       date date_of_stay  \\\n",
       "0      3  Hotel 81 Changi       Zacgoez 2016-12-01   2016-11-01   \n",
       "1      3  Hotel 81 Changi       Craig G 2017-02-01   2017-01-01   \n",
       "2      3  Hotel 81 Changi       Richiie 2017-01-01   2017-01-01   \n",
       "3      3  Hotel 81 Changi  DennisBarney 2017-02-01   2017-02-01   \n",
       "4      3  Hotel 81 Changi      fbaharin 2017-04-01   2017-03-01   \n",
       "\n",
       "                        title  \\\n",
       "0     Cozy hotel near airport   \n",
       "1     This is a SMOKERS Hotel   \n",
       "2          Not many positives   \n",
       "3              Overnight stay   \n",
       "4  Good for an overnight stay   \n",
       "\n",
       "                                                body  rating  \\\n",
       "0  Nice place to stay.  This hotel near from chan...      30   \n",
       "1  There is not a room in this hotel that doesn't...      20   \n",
       "2  The only positive about this hotel is that it ...      20   \n",
       "3  Ideal for overnight stay.  Only 15 min from ai...      30   \n",
       "4  Located about 10 minutes walk from the nearest...      40   \n",
       "\n",
       "                trip_type                                       aspect  \\\n",
       "0   Travelled as a couple                                          NaN   \n",
       "1          Travelled solo       ['Location', 'Cleanliness', 'Service']   \n",
       "2   Travelled as a couple                                          NaN   \n",
       "3   Travelled as a couple                                          NaN   \n",
       "4  Travelled with friends  ['Cleanliness', 'Service', 'Sleep Quality']   \n",
       "\n",
       "        aspect_rating  \n",
       "0                 NaN  \n",
       "1  ['50', '20', '50']  \n",
       "2                 NaN  \n",
       "3                 NaN  \n",
       "4  ['40', '30', '50']  "
      ]
     },
     "execution_count": 9,
     "metadata": {},
     "output_type": "execute_result"
    }
   ],
   "source": [
    "df_star3.head()"
   ]
  },
  {
   "cell_type": "code",
   "execution_count": 10,
   "metadata": {},
   "outputs": [
    {
     "data": {
      "text/html": [
       "<div>\n",
       "<style scoped>\n",
       "    .dataframe tbody tr th:only-of-type {\n",
       "        vertical-align: middle;\n",
       "    }\n",
       "\n",
       "    .dataframe tbody tr th {\n",
       "        vertical-align: top;\n",
       "    }\n",
       "\n",
       "    .dataframe thead th {\n",
       "        text-align: right;\n",
       "    }\n",
       "</style>\n",
       "<table border=\"1\" class=\"dataframe\">\n",
       "  <thead>\n",
       "    <tr style=\"text-align: right;\">\n",
       "      <th></th>\n",
       "      <th>Class</th>\n",
       "      <th>Name</th>\n",
       "      <th>id</th>\n",
       "      <th>date</th>\n",
       "      <th>date_of_stay</th>\n",
       "      <th>title</th>\n",
       "      <th>body</th>\n",
       "      <th>rating</th>\n",
       "      <th>trip_type</th>\n",
       "      <th>aspect</th>\n",
       "      <th>aspect_rating</th>\n",
       "    </tr>\n",
       "  </thead>\n",
       "  <tbody>\n",
       "    <tr>\n",
       "      <th>0</th>\n",
       "      <td>4</td>\n",
       "      <td>Hotel 81 Lucky</td>\n",
       "      <td>LorrainePAustralia</td>\n",
       "      <td>2010-11-01</td>\n",
       "      <td>2010-09-01</td>\n",
       "      <td>Aptly named - Lucky if you can fit into the room</td>\n",
       "      <td>Stayed here 2 nights as the very good Betel Bo...</td>\n",
       "      <td>30</td>\n",
       "      <td>Travelled as a couple</td>\n",
       "      <td>['Value', 'Rooms', 'Location', 'Cleanliness', ...</td>\n",
       "      <td>['30', '20', '30', '30', '30', '30']</td>\n",
       "    </tr>\n",
       "    <tr>\n",
       "      <th>1</th>\n",
       "      <td>4</td>\n",
       "      <td>Hotel 81 Lucky</td>\n",
       "      <td>hey_joh</td>\n",
       "      <td>2011-02-01</td>\n",
       "      <td>2011-01-01</td>\n",
       "      <td>nothing special</td>\n",
       "      <td>The staff was friendly enough.  The rooms were...</td>\n",
       "      <td>30</td>\n",
       "      <td>Travelled with friends</td>\n",
       "      <td>['Value', 'Rooms', 'Location', 'Cleanliness', ...</td>\n",
       "      <td>['20', '30', '30', '30', '40', '40']</td>\n",
       "    </tr>\n",
       "    <tr>\n",
       "      <th>2</th>\n",
       "      <td>4</td>\n",
       "      <td>Hotel 81 Lucky</td>\n",
       "      <td>skipz23</td>\n",
       "      <td>2011-01-01</td>\n",
       "      <td>2011-01-01</td>\n",
       "      <td>Value for money hotel in red light district</td>\n",
       "      <td>After struggling to find somewhere within our ...</td>\n",
       "      <td>30</td>\n",
       "      <td>Travelled as a couple</td>\n",
       "      <td>['Value', 'Rooms', 'Location', 'Cleanliness', ...</td>\n",
       "      <td>['30', '30', '20', '20', '30', '20']</td>\n",
       "    </tr>\n",
       "    <tr>\n",
       "      <th>3</th>\n",
       "      <td>4</td>\n",
       "      <td>Hotel 81 Lucky</td>\n",
       "      <td>iwanttotravelforfree</td>\n",
       "      <td>2011-02-01</td>\n",
       "      <td>2011-02-01</td>\n",
       "      <td>decent</td>\n",
       "      <td>we stayed on the 3rd floor good: room is quite...</td>\n",
       "      <td>30</td>\n",
       "      <td>Travelled with friends</td>\n",
       "      <td>['Value', 'Rooms', 'Location', 'Cleanliness', ...</td>\n",
       "      <td>['50', '30', '40', '30', '50', '40']</td>\n",
       "    </tr>\n",
       "    <tr>\n",
       "      <th>4</th>\n",
       "      <td>4</td>\n",
       "      <td>Hotel 81 Lucky</td>\n",
       "      <td>kewlfruitz</td>\n",
       "      <td>2011-03-01</td>\n",
       "      <td>2011-03-01</td>\n",
       "      <td>not if you had another option</td>\n",
       "      <td>arrived at 10am, and was told that check in is...</td>\n",
       "      <td>20</td>\n",
       "      <td>Travelled as a couple</td>\n",
       "      <td>['Value', 'Rooms', 'Location', 'Cleanliness', ...</td>\n",
       "      <td>['20', '20', '30', '20', '30', '20']</td>\n",
       "    </tr>\n",
       "  </tbody>\n",
       "</table>\n",
       "</div>"
      ],
      "text/plain": [
       "   Class            Name                    id       date date_of_stay  \\\n",
       "0      4  Hotel 81 Lucky    LorrainePAustralia 2010-11-01   2010-09-01   \n",
       "1      4  Hotel 81 Lucky               hey_joh 2011-02-01   2011-01-01   \n",
       "2      4  Hotel 81 Lucky               skipz23 2011-01-01   2011-01-01   \n",
       "3      4  Hotel 81 Lucky  iwanttotravelforfree 2011-02-01   2011-02-01   \n",
       "4      4  Hotel 81 Lucky            kewlfruitz 2011-03-01   2011-03-01   \n",
       "\n",
       "                                              title  \\\n",
       "0  Aptly named - Lucky if you can fit into the room   \n",
       "1                                   nothing special   \n",
       "2       Value for money hotel in red light district   \n",
       "3                                            decent   \n",
       "4                     not if you had another option   \n",
       "\n",
       "                                                body  rating  \\\n",
       "0  Stayed here 2 nights as the very good Betel Bo...      30   \n",
       "1  The staff was friendly enough.  The rooms were...      30   \n",
       "2  After struggling to find somewhere within our ...      30   \n",
       "3  we stayed on the 3rd floor good: room is quite...      30   \n",
       "4  arrived at 10am, and was told that check in is...      20   \n",
       "\n",
       "                trip_type                                             aspect  \\\n",
       "0   Travelled as a couple  ['Value', 'Rooms', 'Location', 'Cleanliness', ...   \n",
       "1  Travelled with friends  ['Value', 'Rooms', 'Location', 'Cleanliness', ...   \n",
       "2   Travelled as a couple  ['Value', 'Rooms', 'Location', 'Cleanliness', ...   \n",
       "3  Travelled with friends  ['Value', 'Rooms', 'Location', 'Cleanliness', ...   \n",
       "4   Travelled as a couple  ['Value', 'Rooms', 'Location', 'Cleanliness', ...   \n",
       "\n",
       "                          aspect_rating  \n",
       "0  ['30', '20', '30', '30', '30', '30']  \n",
       "1  ['20', '30', '30', '30', '40', '40']  \n",
       "2  ['30', '30', '20', '20', '30', '20']  \n",
       "3  ['50', '30', '40', '30', '50', '40']  \n",
       "4  ['20', '20', '30', '20', '30', '20']  "
      ]
     },
     "execution_count": 10,
     "metadata": {},
     "output_type": "execute_result"
    }
   ],
   "source": [
    "df_star4.head()"
   ]
  },
  {
   "cell_type": "code",
   "execution_count": 4,
   "metadata": {
    "id": "NDySI5xk4oWK"
   },
   "outputs": [],
   "source": [
    "def makeClearSent(sent):\n",
    "    sent = str(sent)\n",
    "    sent = sent.replace(\"\\n\", \"\")\n",
    "    sent = sent.replace(\"\\r\", \"\")\n",
    "    sent = sent.replace(\"  \", \" \")\n",
    "    return sent\n",
    "\n",
    "\n",
    "def makeReviewList(df):\n",
    "    review_list = []\n",
    "    for i in range(len(df)):\n",
    "        review_list.append(makeClearSent(df.loc[i, \"title\"]) + \". \" + makeClearSent(df.loc[i, \"body\"]))\n",
    "\n",
    "    '''\n",
    "    --- same as ---- \n",
    "    review_list = [makeClearSent(df.loc[i, \"title\"]) + \". \" + makeClearSent(df.loc[i, \"body\"]) for i in range(len(df))]\n",
    "    '''\n",
    "    return review_list"
   ]
  },
  {
   "cell_type": "markdown",
   "metadata": {
    "id": "jbp3busE4oWL"
   },
   "source": [
    "-  Extract only reviews and construct datasets (+ simple clearing)"
   ]
  },
  {
   "cell_type": "code",
   "execution_count": 5,
   "metadata": {
    "id": "hcCL4Ciu4oWL"
   },
   "outputs": [],
   "source": [
    "star2_review_list = makeReviewList(df_star2)\n",
    "star3_review_list = makeReviewList(df_star3)\n",
    "star4_review_list = makeReviewList(df_star4)\n",
    "\n",
    "star2_rating_list = (df_star2.loc[:,\"rating\"]//10).to_list()\n",
    "star3_rating_list = (df_star3.loc[:,\"rating\"]//10).to_list()\n",
    "star4_rating_list = (df_star4.loc[:,\"rating\"]//10).to_list()\n",
    "\n",
    "\n",
    "StarRatingList = star2_rating_list + star3_rating_list + star4_rating_list"
   ]
  },
  {
   "cell_type": "markdown",
   "metadata": {
    "id": "-71C2oA74oWL"
   },
   "source": [
    "## 1) Online Review Preprocessing\n",
    "\n",
    "* Using package : nltk \n",
    "\n",
    "  \n",
    "* Required steps\n",
    "  - Tokenization\n",
    "  - Lowercasing\n",
    "  - Lemmatization\n",
    "  - Stopwords removal\n",
    "  - pos tagging (you have to exact the only noun words)\n",
    "  - stemming etc.. (you can skip the stemming and other preprocessing methods)  \n"
   ]
  },
  {
   "cell_type": "code",
   "execution_count": 6,
   "metadata": {
    "colab": {
     "base_uri": "https://localhost:8080/"
    },
    "id": "8qi6WF1ThBJj",
    "outputId": "b8a3c24c-4de1-44ca-b31d-7003c331ebff"
   },
   "outputs": [
    {
     "name": "stdout",
     "output_type": "stream",
     "text": [
      "Collecting nltk"
     ]
    }
   ],
   "source": [
    "!pip install nltk"
   ]
  },
  {
   "cell_type": "code",
   "execution_count": 7,
   "metadata": {
    "colab": {
     "base_uri": "https://localhost:8080/"
    },
    "id": "-lTjymVL4oWM",
    "outputId": "78540c05-07f4-4c89-f949-2b5a12198c6c"
   },
   "outputs": [
    {
     "name": "stderr",
     "output_type": "stream",
     "text": [
      "[nltk_data] Downloading package punkt to\n",
      "[nltk_data]     C:\\Users\\Aga\\AppData\\Roaming\\nltk_data...\n",
      "[nltk_data]   Unzipping tokenizers\\punkt.zip.\n",
      "[nltk_data] Downloading package stopwords to\n",
      "[nltk_data]     C:\\Users\\Aga\\AppData\\Roaming\\nltk_data...\n",
      "[nltk_data]   Unzipping corpora\\stopwords.zip.\n",
      "[nltk_data] Downloading package averaged_perceptron_tagger to\n",
      "[nltk_data]     C:\\Users\\Aga\\AppData\\Roaming\\nltk_data...\n",
      "[nltk_data]   Unzipping taggers\\averaged_perceptron_tagger.zip.\n",
      "[nltk_data] Downloading package wordnet to\n",
      "[nltk_data]     C:\\Users\\Aga\\AppData\\Roaming\\nltk_data...\n",
      "[nltk_data] Downloading package omw-1.4 to\n",
      "[nltk_data]     C:\\Users\\Aga\\AppData\\Roaming\\nltk_data...\n"
     ]
    }
   ],
   "source": [
    "from tqdm import tqdm\n",
    "import nltk\n",
    "nltk.download('punkt')\n",
    "nltk.download('stopwords')\n",
    "nltk.download('averaged_perceptron_tagger')\n",
    "nltk.download('wordnet')\n",
    "nltk.download('omw-1.4')\n",
    "from nltk.corpus import stopwords\n",
    "from nltk import sent_tokenize\n",
    "from nltk import word_tokenize\n",
    "from nltk import WordNetLemmatizer\n",
    "from nltk import pos_tag"
   ]
  },
  {
   "cell_type": "code",
   "execution_count": 14,
   "metadata": {
    "colab": {
     "base_uri": "https://localhost:8080/"
    },
    "id": "CWqeYM7I4oWM",
    "outputId": "51215983-9d2c-46dd-a061-7574fb82aa36"
   },
   "outputs": [
    {
     "name": "stdout",
     "output_type": "stream",
     "text": [
      "Expect Pure Misery. Arrived at the hotel at 2PM for my stay on Thursday, October 13th. Presented my name. The front desk agent looked me up and said, \"sir we weren't able to authorize your credit card and cancelled your reservation\". I shrugged and said, \"here you go\" and presented my credit card.  The front desk agent laughed and said \"hold on\" and called someone secretly to discuss my reservation. He says, \"sorry, we couldn't authorize your card so we cancelled your reservation. We sent you an e-mail. \" I advised him that I had been traveling and couldn't have checked my e-mail. I asked him, \"would you check your e-mail if you were on a plane this morning?\" Again, he laughed and proceeded to recommend other hotels in the area. He precisely knocked his own hotel by saying, \"These places are much better-- not like this at all. You wouldn't like this place anyway. \" His sarcasm was lost on me. I insisted he go ahead and give me a room. He again insisted he sent an e-mail as if that eliminates any responsibility. He again declined to give me a room. When I asked for the manager or a General Manager he refused to provide it. I had to insist and he wrote the name \"Jerome\" on the card and informed me that there was nobody else there.  I continued to stand there and expect a solution. This is when he made his admission-- \"Sir we are oversold by 1 room tonight which is why I can't give you a room. \" That is what actually happened -- they oversold the hotel and instead of walking me to another property, he decided to cancel my confirmed booking. I advised him he should still provide me a room and anticipate no-shows since my reservation is confirmed. He again declined.  I did some research and later found out that my card company may decline a charge if they don't swipe the card. This is done as a security measure. Because the hotel attempted to pre-authorize my card before I presented the card, the charge declined. It wasn't a failure to pay. I hadn't even arrived yet.  So, I checked my e-mail last night assuming I'd find this e-mail which the front desk agent said was sent to me. Was there an e-mail? Nope. In fact, I took a screen shot of my confirmed reservation still active as of 5PM that day. They lied.  Watch out - this hotel does not know how to manage their inventory and will oversell and attempt to deny you a room. It cost me a lot of time and headaches having to seek alternative accommodations because of their failure to properly handle the situation.  \"Jerome\" and his team don't know how to manage hotel room inventory and rather than accepting responsibility, they leave you on the street and laugh.  Stay away. \n"
     ]
    }
   ],
   "source": [
    "ExampleReview = star2_review_list[0]\n",
    "print(ExampleReview)"
   ]
  },
  {
   "cell_type": "markdown",
   "metadata": {
    "id": "-msKNSpu4oWN"
   },
   "source": [
    "### 1-1) Tokenization\n",
    "- Use 'sent_tokenize' and 'word_tokenize' functions in nltk package\n",
    "- It is required two steps; sentence tokenization and word tokenization.\n",
    "- example : \"Expect Pure Misery.\" -> Tokenization -> ['Expect', 'Pure', 'Misery', '.']"
   ]
  },
  {
   "cell_type": "code",
   "execution_count": 15,
   "metadata": {
    "colab": {
     "base_uri": "https://localhost:8080/"
    },
    "id": "sNp6X3F34oWN",
    "outputId": "f2d4f918-dfe5-412f-e788-a68e3870fa1e"
   },
   "outputs": [
    {
     "name": "stdout",
     "output_type": "stream",
     "text": [
      "The number of sentense : 38\n"
     ]
    }
   ],
   "source": [
    "SentenceTokenList = sent_tokenize(ExampleReview)\n",
    "print(\"The number of sentense : {}\".format(len(SentenceTokenList)))"
   ]
  },
  {
   "cell_type": "code",
   "execution_count": 16,
   "metadata": {},
   "outputs": [
    {
     "data": {
      "text/plain": [
       "['Expect Pure Misery.',\n",
       " 'Arrived at the hotel at 2PM for my stay on Thursday, October 13th.',\n",
       " 'Presented my name.',\n",
       " 'The front desk agent looked me up and said, \"sir we weren\\'t able to authorize your credit card and cancelled your reservation\".',\n",
       " 'I shrugged and said, \"here you go\" and presented my credit card.',\n",
       " 'The front desk agent laughed and said \"hold on\" and called someone secretly to discuss my reservation.',\n",
       " 'He says, \"sorry, we couldn\\'t authorize your card so we cancelled your reservation.',\n",
       " 'We sent you an e-mail. \"',\n",
       " \"I advised him that I had been traveling and couldn't have checked my e-mail.\",\n",
       " 'I asked him, \"would you check your e-mail if you were on a plane this morning?\"',\n",
       " 'Again, he laughed and proceeded to recommend other hotels in the area.',\n",
       " 'He precisely knocked his own hotel by saying, \"These places are much better-- not like this at all.',\n",
       " 'You wouldn\\'t like this place anyway. \"',\n",
       " 'His sarcasm was lost on me.',\n",
       " 'I insisted he go ahead and give me a room.',\n",
       " 'He again insisted he sent an e-mail as if that eliminates any responsibility.',\n",
       " 'He again declined to give me a room.',\n",
       " 'When I asked for the manager or a General Manager he refused to provide it.',\n",
       " 'I had to insist and he wrote the name \"Jerome\" on the card and informed me that there was nobody else there.',\n",
       " 'I continued to stand there and expect a solution.',\n",
       " 'This is when he made his admission-- \"Sir we are oversold by 1 room tonight which is why I can\\'t give you a room. \"',\n",
       " 'That is what actually happened -- they oversold the hotel and instead of walking me to another property, he decided to cancel my confirmed booking.',\n",
       " 'I advised him he should still provide me a room and anticipate no-shows since my reservation is confirmed.',\n",
       " 'He again declined.',\n",
       " \"I did some research and later found out that my card company may decline a charge if they don't swipe the card.\",\n",
       " 'This is done as a security measure.',\n",
       " 'Because the hotel attempted to pre-authorize my card before I presented the card, the charge declined.',\n",
       " \"It wasn't a failure to pay.\",\n",
       " \"I hadn't even arrived yet.\",\n",
       " \"So, I checked my e-mail last night assuming I'd find this e-mail which the front desk agent said was sent to me.\",\n",
       " 'Was there an e-mail?',\n",
       " 'Nope.',\n",
       " 'In fact, I took a screen shot of my confirmed reservation still active as of 5PM that day.',\n",
       " 'They lied.',\n",
       " 'Watch out - this hotel does not know how to manage their inventory and will oversell and attempt to deny you a room.',\n",
       " 'It cost me a lot of time and headaches having to seek alternative accommodations because of their failure to properly handle the situation.',\n",
       " '\"Jerome\" and his team don\\'t know how to manage hotel room inventory and rather than accepting responsibility, they leave you on the street and laugh.',\n",
       " 'Stay away.']"
      ]
     },
     "execution_count": 16,
     "metadata": {},
     "output_type": "execute_result"
    }
   ],
   "source": [
    "SentenceTokenList"
   ]
  },
  {
   "cell_type": "code",
   "execution_count": 17,
   "metadata": {
    "colab": {
     "base_uri": "https://localhost:8080/"
    },
    "id": "TTKYAf844oWN",
    "outputId": "f7bbfe52-d8c6-46b3-d102-84cc77fcec30"
   },
   "outputs": [
    {
     "name": "stdout",
     "output_type": "stream",
     "text": [
      "The number of words in a sentence : 14\n",
      "\n",
      "Original sentence :  Again, he laughed and proceeded to recommend other hotels in the area.\n",
      "\n",
      "Tokenized sentence :  ['Again', ',', 'he', 'laughed', 'and', 'proceeded', 'to', 'recommend', 'other', 'hotels', 'in', 'the', 'area', '.']\n"
     ]
    }
   ],
   "source": [
    "ExampleSentence = SentenceTokenList[10]\n",
    "\n",
    "ExampleWordTokenList = word_tokenize(ExampleSentence)\n",
    "\n",
    "print(\"The number of words in a sentence : {}\\n\".format(len(ExampleWordTokenList)))\n",
    "print(\"Original sentence : \",ExampleSentence + \"\\n\")\n",
    "print(\"Tokenized sentence : \", ExampleWordTokenList)"
   ]
  },
  {
   "cell_type": "markdown",
   "metadata": {
    "id": "-eiyicEj4oWO"
   },
   "source": [
    "### 1-2) Lowercasing\n",
    "- Lowercasing is required to handle words mixed with uppercase letters as semantically equal\n",
    "- example : Room -> room, Staff -> staff"
   ]
  },
  {
   "cell_type": "code",
   "execution_count": 18,
   "metadata": {
    "colab": {
     "base_uri": "https://localhost:8080/"
    },
    "id": "SufCHBmC4oWO",
    "outputId": "da5a9278-e217-413e-fd79-bbf90c9edb2f"
   },
   "outputs": [
    {
     "name": "stdout",
     "output_type": "stream",
     "text": [
      "Original sentence :  Again, he laughed and proceeded to recommend other hotels in the area.\n",
      "\n",
      "Lowercased Sentence :  again, he laughed and proceeded to recommend other hotels in the area.\n",
      "\n",
      "Original word token list :  ['Again', ',', 'he', 'laughed', 'and', 'proceeded', 'to', 'recommend', 'other', 'hotels', 'in', 'the', 'area', '.']\n",
      "\n",
      "Lowercased word token list :  ['again', ',', 'he', 'laughed', 'and', 'proceeded', 'to', 'recommend', 'other', 'hotels', 'in', 'the', 'area', '.']\n"
     ]
    }
   ],
   "source": [
    "print(\"Original sentence : \",ExampleSentence + \"\\n\")\n",
    "\n",
    "LowerCasedSentence = ExampleSentence.lower() # for string\n",
    "print(\"Lowercased Sentence : \", LowerCasedSentence)\n",
    "\n",
    "print(\"\\nOriginal word token list : \", ExampleWordTokenList)\n",
    "\n",
    "LowerCasedTokenList = []\n",
    "for token in ExampleWordTokenList:\n",
    "    LowerCapToken = token.lower() # for string\n",
    "    LowerCasedTokenList.append(LowerCapToken)\n",
    "    \n",
    "print(\"\\nLowercased word token list : \", LowerCasedTokenList)\n",
    "\n",
    "ExampleWordTokenList = LowerCasedTokenList"
   ]
  },
  {
   "cell_type": "markdown",
   "metadata": {
    "id": "fX7p2tr74oWO"
   },
   "source": [
    "### 1-3) Lemmatization\n",
    "- Lemmatization is required to handle inflectional forms as semantically equal\n",
    "- Example : rooms -> room, staffs -> staff"
   ]
  },
  {
   "cell_type": "code",
   "execution_count": 19,
   "metadata": {
    "colab": {
     "base_uri": "https://localhost:8080/"
    },
    "id": "negdCT2W4oWO",
    "outputId": "478c4468-baf6-4e43-ac8c-0c94486b8847"
   },
   "outputs": [
    {
     "name": "stdout",
     "output_type": "stream",
     "text": [
      "\n",
      "Original word token list :  ['again', ',', 'he', 'laughed', 'and', 'proceeded', 'to', 'recommend', 'other', 'hotels', 'in', 'the', 'area', '.']\n",
      "\n",
      "Lemmatized word token list :  ['again', ',', 'he', 'laughed', 'and', 'proceeded', 'to', 'recommend', 'other', 'hotel', 'in', 'the', 'area', '.']\n"
     ]
    }
   ],
   "source": [
    "lemma = WordNetLemmatizer()\n",
    "\n",
    "LemmatizationTokenList = []\n",
    "for token in ExampleWordTokenList:\n",
    "    LemmatizedToken = lemma.lemmatize(token)\n",
    "    LemmatizationTokenList.append(LemmatizedToken)\n",
    "\n",
    "print(\"\\nOriginal word token list : \", ExampleWordTokenList)\n",
    "\n",
    "print(\"\\nLemmatized word token list : \", LemmatizationTokenList)\n",
    "\n",
    "ExampleWordTokenList = LemmatizationTokenList"
   ]
  },
  {
   "cell_type": "markdown",
   "metadata": {
    "id": "sNiTF84E4oWO"
   },
   "source": [
    "### 1-4) Stopwords removal\n",
    "- Stopword : Words that appear frequently in a sentence but are not related to the meaning of the sentence\n",
    "- Use 'stopword' function in nltk package to get the list of stopwords"
   ]
  },
  {
   "cell_type": "code",
   "execution_count": 20,
   "metadata": {
    "colab": {
     "base_uri": "https://localhost:8080/"
    },
    "id": "A34jRVqK4oWO",
    "outputId": "4b4882ea-b5b1-4c53-afff-8773913df99f"
   },
   "outputs": [
    {
     "name": "stdout",
     "output_type": "stream",
     "text": [
      "['i', 'me', 'my', 'myself', 'we', 'our', 'ours', 'ourselves', 'you', \"you're\", \"you've\", \"you'll\", \"you'd\", 'your', 'yours', 'yourself', 'yourselves', 'he', 'him', 'his', 'himself', 'she', \"she's\", 'her', 'hers', 'herself', 'it', \"it's\", 'its', 'itself', 'they', 'them', 'their', 'theirs', 'themselves', 'what', 'which', 'who', 'whom', 'this', 'that', \"that'll\", 'these', 'those', 'am', 'is', 'are', 'was', 'were', 'be', 'been', 'being', 'have', 'has', 'had', 'having', 'do', 'does', 'did', 'doing', 'a', 'an', 'the', 'and', 'but', 'if', 'or', 'because', 'as', 'until', 'while', 'of', 'at', 'by', 'for', 'with', 'about', 'against', 'between', 'into', 'through', 'during', 'before', 'after', 'above', 'below', 'to', 'from', 'up', 'down', 'in', 'out', 'on', 'off', 'over', 'under', 'again', 'further', 'then', 'once', 'here', 'there', 'when', 'where', 'why', 'how', 'all', 'any', 'both', 'each', 'few', 'more', 'most', 'other', 'some', 'such', 'no', 'nor', 'not', 'only', 'own', 'same', 'so', 'than', 'too', 'very', 's', 't', 'can', 'will', 'just', 'don', \"don't\", 'should', \"should've\", 'now', 'd', 'll', 'm', 'o', 're', 've', 'y', 'ain', 'aren', \"aren't\", 'couldn', \"couldn't\", 'didn', \"didn't\", 'doesn', \"doesn't\", 'hadn', \"hadn't\", 'hasn', \"hasn't\", 'haven', \"haven't\", 'isn', \"isn't\", 'ma', 'mightn', \"mightn't\", 'mustn', \"mustn't\", 'needn', \"needn't\", 'shan', \"shan't\", 'shouldn', \"shouldn't\", 'wasn', \"wasn't\", 'weren', \"weren't\", 'won', \"won't\", 'wouldn', \"wouldn't\"]\n"
     ]
    }
   ],
   "source": [
    "StopWordList = stopwords.words('english')\n",
    "print(StopWordList)"
   ]
  },
  {
   "cell_type": "code",
   "execution_count": 21,
   "metadata": {
    "colab": {
     "base_uri": "https://localhost:8080/"
    },
    "id": "8ig7hesd4oWP",
    "outputId": "42ee3de2-5c8f-4f9c-c242-f02297ad68a9"
   },
   "outputs": [
    {
     "name": "stdout",
     "output_type": "stream",
     "text": [
      "\n",
      "Original word token list :  ['again', ',', 'he', 'laughed', 'and', 'proceeded', 'to', 'recommend', 'other', 'hotel', 'in', 'the', 'area', '.']\n",
      "\n",
      "Stopword Removed token list :  [',', 'laughed', 'proceeded', 'recommend', 'hotel', 'area', '.']\n"
     ]
    }
   ],
   "source": [
    "StopWordRemovalTokenList = []\n",
    "for token in ExampleWordTokenList:\n",
    "    if token not in StopWordList:\n",
    "        StopWordRemovalTokenList.append(token)\n",
    "\n",
    "print(\"\\nOriginal word token list : \", ExampleWordTokenList)\n",
    "        \n",
    "print(\"\\nStopword Removed token list : \", StopWordRemovalTokenList)\n",
    "\n",
    "\n",
    "ExampleWordTokenList = StopWordRemovalTokenList"
   ]
  },
  {
   "cell_type": "markdown",
   "metadata": {
    "id": "5R3VMQFx4oWP"
   },
   "source": [
    "### 1-5) Part-Of-Speech Tagging (Pos tagging)\n",
    "\n",
    "- POS tagging is the process of marking up a word in a text (corpus) as corresponding to a particular part of speech (e.g., nouns, verbs, adjectives, and adverbs)"
   ]
  },
  {
   "cell_type": "code",
   "execution_count": 22,
   "metadata": {
    "colab": {
     "base_uri": "https://localhost:8080/"
    },
    "id": "qbsEtuic4oWP",
    "outputId": "e10700d1-27ee-400b-d1c4-ce2b46ae81eb"
   },
   "outputs": [
    {
     "name": "stdout",
     "output_type": "stream",
     "text": [
      "\n",
      "Original word token list :  [',', 'laughed', 'proceeded', 'recommend', 'hotel', 'area', '.']\n",
      "\n",
      "Pos tagged token list :  [(',', ','), ('laughed', 'VBD'), ('proceeded', 'JJ'), ('recommend', 'JJ'), ('hotel', 'NN'), ('area', 'NN'), ('.', '.')]\n"
     ]
    }
   ],
   "source": [
    "PosTaggedTokenList = pos_tag(ExampleWordTokenList)\n",
    "\n",
    "print(\"\\nOriginal word token list : \", ExampleWordTokenList)\n",
    "        \n",
    "print(\"\\nPos tagged token list : \", PosTaggedTokenList)"
   ]
  },
  {
   "cell_type": "markdown",
   "metadata": {
    "id": "DyxJl1mK4oWP"
   },
   "source": [
    "### 1-6) Noun Extraction\n",
    "\n",
    "\n"
   ]
  },
  {
   "cell_type": "code",
   "execution_count": 24,
   "metadata": {
    "colab": {
     "base_uri": "https://localhost:8080/"
    },
    "id": "xGfw4xbN4oWP",
    "outputId": "38b00fc2-9b02-4896-977d-73551ebe8c5a"
   },
   "outputs": [
    {
     "name": "stdout",
     "output_type": "stream",
     "text": [
      "\n",
      "Original word token list :  [',', 'laughed', 'proceeded', 'recommend', 'hotel', 'area', '.']\n",
      "\n",
      "Noun token list :  ['hotel', 'area']\n"
     ]
    }
   ],
   "source": [
    "NounTokenList = []\n",
    "for token, pos in PosTaggedTokenList:\n",
    "    if pos[0] == \"N\":\n",
    "        NounTokenList.append(token)\n",
    "        \n",
    "print(\"\\nOriginal word token list : \", ExampleWordTokenList)\n",
    "        \n",
    "print(\"\\nNoun token list : \", NounTokenList)"
   ]
  },
  {
   "cell_type": "markdown",
   "metadata": {
    "id": "gYkJf5wB4oWP"
   },
   "source": [
    "### Your work (1)\n",
    "\n",
    "- I showed the example of each preprocessing result for one sample sentence.\n",
    "- You need to preprocess all the review data (star2, star3, and star4).\n",
    "- There are two datasets that you have to create; preprocessed token dataset (list) & Noun token dataset (list)\n",
    "- Output Variables name\n",
    "  - TokenDataset (preprocessed token dataset, review\\*sentence\\*word matrix)\n",
    "  - NounTokenDataset (Noun token dataset, review*noun matrix )\n"
   ]
  },
  {
   "cell_type": "code",
   "execution_count": 53,
   "metadata": {
    "colab": {
     "base_uri": "https://localhost:8080/"
    },
    "id": "On_9rFal4oWQ",
    "outputId": "8e70ddc8-ae0c-4b0a-d009-b0e8586eef90"
   },
   "outputs": [],
   "source": [
    "ReviewList = star2_review_list + star3_review_list + star4_review_list\n",
    "NounTokenDataset = []\n",
    "TokenDataset = []\n",
    "################ Write Your code #####################\n",
    "for review in ReviewList:\n",
    "    # sentance tokenization\n",
    "    review = sent_tokenize(review)\n",
    "    for index, sent in enumerate(review):\n",
    "        # sentance lowercasing\n",
    "        sent = sent.lower()\n",
    "        \n",
    "        # word tokenization\n",
    "        sent = word_tokenize(sent)\n",
    "        \n",
    "        # lematization\n",
    "        temp_list = []\n",
    "        for token in sent:\n",
    "            token = lemma.lemmatize(token)\n",
    "            temp_list.append(token)\n",
    "        sent = temp_list\n",
    "        \n",
    "        # stop-word removal\n",
    "        temp_list = []\n",
    "        for word in sent:\n",
    "            if word not in StopWordList:\n",
    "                temp_list.append(word)\n",
    "        sent = temp_list\n",
    "        review[index] = sent\n",
    "\n",
    "    TokenDataset.append(review)\n",
    "    \n",
    "    # POS tagging\n",
    "    preprocessed_noun = []\n",
    "    for sent in review:\n",
    "        sent = pos_tag(sent)\n",
    "        for token, pos in sent:\n",
    "            # noun extraction\n",
    "            if pos[0] == 'N':\n",
    "                preprocessed_noun.append(token)\n",
    "    \n",
    "    NounTokenDataset.append(preprocessed_noun)\n",
    "#######################################################"
   ]
  },
  {
   "cell_type": "markdown",
   "metadata": {
    "id": "FPaBhTCG4oWQ"
   },
   "source": [
    "#### Output datasets shape checker"
   ]
  },
  {
   "cell_type": "code",
   "execution_count": 54,
   "metadata": {
    "colab": {
     "base_uri": "https://localhost:8080/"
    },
    "id": "Gr0dr53d4oWQ",
    "outputId": "c16fb538-9325-44f6-d653-42b27c6f505c"
   },
   "outputs": [
    {
     "name": "stdout",
     "output_type": "stream",
     "text": [
      "\n",
      "The number of reviews in TokenDataset :  33132\n",
      "\n",
      "The number of sentences in first review :  38\n",
      "\n",
      "The number of tokens in first sentence of first review :  4\n",
      "\n",
      "The number of reviews in NounTokenDataset :  33132\n",
      "\n",
      "The number of noun tokens in first review :  101\n"
     ]
    }
   ],
   "source": [
    "print(\"\\nThe number of reviews in TokenDataset : \", len(TokenDataset)) # Answer : about 33,132 \n",
    "print(\"\\nThe number of sentences in first review : \", len(TokenDataset[0])) # Answer : about 38 (It's okay if the value is not the same)\n",
    "print(\"\\nThe number of tokens in first sentence of first review : \", len(TokenDataset[0][0])) # Answer : about 4 (It's okay if the value is not the same)\n",
    "\n",
    "print(\"\\nThe number of reviews in NounTokenDataset : \", len(NounTokenDataset)) # Answer : about 33,132 \n",
    "print(\"\\nThe number of noun tokens in first review : \", len(NounTokenDataset[0])) # Answer : about 96 (It's okay if the value is not the same)"
   ]
  },
  {
   "cell_type": "markdown",
   "metadata": {
    "id": "0JmmAJW-4oWQ"
   },
   "source": [
    "## 2) LDA topic modeling (service feature engineering)"
   ]
  },
  {
   "cell_type": "code",
   "execution_count": 55,
   "metadata": {
    "colab": {
     "base_uri": "https://localhost:8080/"
    },
    "id": "7HR7N3qx4oWQ",
    "outputId": "aafc9a64-85d8-4926-fe42-484787f0fdc4"
   },
   "outputs": [
    {
     "name": "stdout",
     "output_type": "stream",
     "text": [
      "Collecting gensim\n",
      "  Downloading gensim-4.2.0-cp39-cp39-win_amd64.whl (23.9 MB)\n",
      "     ---------------------------------------- 23.9/23.9 MB 4.9 MB/s eta 0:00:00\n",
      "Requirement already satisfied: numpy>=1.17.0 in c:\\users\\aga\\anaconda3\\lib\\site-packages (from gensim) (1.21.5)\n",
      "Requirement already satisfied: scipy>=0.18.1 in c:\\users\\aga\\anaconda3\\lib\\site-packages (from gensim) (1.9.1)\n",
      "Collecting Cython==0.29.28\n",
      "  Downloading Cython-0.29.28-py2.py3-none-any.whl (983 kB)\n",
      "     -------------------------------------- 983.8/983.8 kB 4.4 MB/s eta 0:00:00\n",
      "Collecting smart-open>=1.8.1\n",
      "  Downloading smart_open-6.2.0-py3-none-any.whl (58 kB)\n",
      "     -------------------------------------- 58.6/58.6 kB 387.1 kB/s eta 0:00:00\n",
      "Installing collected packages: smart-open, Cython, gensim\n",
      "Successfully installed Cython-0.29.28 gensim-4.2.0 smart-open-6.2.0\n",
      "Collecting pyLDAvis\n",
      "  Downloading pyLDAvis-3.3.1.tar.gz (1.7 MB)\n",
      "     ---------------------------------------- 1.7/1.7 MB 4.4 MB/s eta 0:00:00\n",
      "  Installing build dependencies: started\n",
      "  Installing build dependencies: finished with status 'done'\n",
      "  Getting requirements to build wheel: started\n",
      "  Getting requirements to build wheel: finished with status 'done'\n",
      "  Installing backend dependencies: started\n",
      "  Installing backend dependencies: finished with status 'done'\n",
      "  Preparing metadata (pyproject.toml): started\n",
      "  Preparing metadata (pyproject.toml): finished with status 'done'\n",
      "Requirement already satisfied: numexpr in c:\\users\\aga\\anaconda3\\lib\\site-packages (from pyLDAvis) (2.8.3)\n",
      "Requirement already satisfied: joblib in c:\\users\\aga\\anaconda3\\lib\\site-packages (from pyLDAvis) (1.2.0)\n",
      "Requirement already satisfied: scipy in c:\\users\\aga\\anaconda3\\lib\\site-packages (from pyLDAvis) (1.9.1)\n",
      "Requirement already satisfied: numpy>=1.20.0 in c:\\users\\aga\\anaconda3\\lib\\site-packages (from pyLDAvis) (1.21.5)\n",
      "Collecting funcy\n",
      "  Downloading funcy-1.17-py2.py3-none-any.whl (33 kB)\n",
      "Requirement already satisfied: jinja2 in c:\\users\\aga\\anaconda3\\lib\\site-packages (from pyLDAvis) (2.11.3)\n",
      "Requirement already satisfied: scikit-learn in c:\\users\\aga\\anaconda3\\lib\\site-packages (from pyLDAvis) (1.1.2)\n",
      "Requirement already satisfied: sklearn in c:\\users\\aga\\anaconda3\\lib\\site-packages (from pyLDAvis) (0.0)\n",
      "Requirement already satisfied: gensim in c:\\users\\aga\\anaconda3\\lib\\site-packages (from pyLDAvis) (4.2.0)\n",
      "Requirement already satisfied: setuptools in c:\\users\\aga\\anaconda3\\lib\\site-packages (from pyLDAvis) (63.4.1)\n",
      "Requirement already satisfied: future in c:\\users\\aga\\anaconda3\\lib\\site-packages (from pyLDAvis) (0.18.2)\n",
      "Requirement already satisfied: pandas>=1.2.0 in c:\\users\\aga\\anaconda3\\lib\\site-packages (from pyLDAvis) (1.4.4)\n",
      "Requirement already satisfied: python-dateutil>=2.8.1 in c:\\users\\aga\\anaconda3\\lib\\site-packages (from pandas>=1.2.0->pyLDAvis) (2.8.2)\n",
      "Requirement already satisfied: pytz>=2020.1 in c:\\users\\aga\\anaconda3\\lib\\site-packages (from pandas>=1.2.0->pyLDAvis) (2022.1)\n",
      "Requirement already satisfied: smart-open>=1.8.1 in c:\\users\\aga\\anaconda3\\lib\\site-packages (from gensim->pyLDAvis) (6.2.0)\n",
      "Requirement already satisfied: Cython==0.29.28 in c:\\users\\aga\\anaconda3\\lib\\site-packages (from gensim->pyLDAvis) (0.29.28)\n",
      "Requirement already satisfied: MarkupSafe>=0.23 in c:\\users\\aga\\anaconda3\\lib\\site-packages (from jinja2->pyLDAvis) (2.0.1)\n",
      "Requirement already satisfied: packaging in c:\\users\\aga\\anaconda3\\lib\\site-packages (from numexpr->pyLDAvis) (21.3)\n",
      "Requirement already satisfied: threadpoolctl>=2.0.0 in c:\\users\\aga\\anaconda3\\lib\\site-packages (from scikit-learn->pyLDAvis) (3.1.0)\n",
      "Requirement already satisfied: six>=1.5 in c:\\users\\aga\\anaconda3\\lib\\site-packages (from python-dateutil>=2.8.1->pandas>=1.2.0->pyLDAvis) (1.16.0)\n",
      "Requirement already satisfied: pyparsing!=3.0.5,>=2.0.2 in c:\\users\\aga\\anaconda3\\lib\\site-packages (from packaging->numexpr->pyLDAvis) (3.0.9)\n",
      "Building wheels for collected packages: pyLDAvis\n",
      "  Building wheel for pyLDAvis (pyproject.toml): started\n",
      "  Building wheel for pyLDAvis (pyproject.toml): finished with status 'done'\n",
      "  Created wheel for pyLDAvis: filename=pyLDAvis-3.3.1-py2.py3-none-any.whl size=136882 sha256=56a33b116e0ecb830a82341d32c72fafbb44ca869c360b63aee0844bcf023936\n",
      "  Stored in directory: c:\\users\\aga\\appdata\\local\\pip\\cache\\wheels\\57\\a4\\86\\d10c6c2e0bf149fbc0afb0aa5a6528ac35b30a133a0270c477\n",
      "Successfully built pyLDAvis\n",
      "Installing collected packages: funcy, pyLDAvis\n",
      "Successfully installed funcy-1.17 pyLDAvis-3.3.1\n"
     ]
    }
   ],
   "source": [
    "!pip install gensim\n",
    "!pip install pyLDAvis"
   ]
  },
  {
   "cell_type": "code",
   "execution_count": 56,
   "metadata": {
    "id": "IBiFv__P4oWQ"
   },
   "outputs": [],
   "source": [
    "#Create dictionary\n",
    "import gensim\n",
    "import gensim.corpora as corpora\n",
    "\n",
    "id2word= corpora.Dictionary(NounTokenDataset)\n",
    "\n",
    "# if you want, use filter_extremes()\n",
    "id2word.filter_extremes(no_below=10, no_above=0.3)\n",
    "\n",
    "#create count matrix\n",
    "corpus = [id2word.doc2bow(rev) for rev in NounTokenDataset]"
   ]
  },
  {
   "cell_type": "code",
   "execution_count": 108,
   "metadata": {
    "colab": {
     "base_uri": "https://localhost:8080/"
    },
    "id": "bdzQJDSt4oWQ",
    "outputId": "633fde66-176a-49b7-c5b7-351eaf3b0644"
   },
   "outputs": [
    {
     "data": {
      "text/plain": [
       "[(0,\n",
       "  '0.030*\"time\" + 0.029*\"york\" + 0.022*\"check\" + 0.019*\"day\" + 0.019*\"stay\" + 0.016*\"desk\" + 0.014*\"service\" + 0.012*\"floor\" + 0.011*\"experience\" + 0.011*\"manager\"'),\n",
       " (1,\n",
       "  '0.024*\"quay\" + 0.023*\"pool\" + 0.023*\"singapore\" + 0.020*\"walk\" + 0.017*\"city\" + 0.016*\"area\" + 0.015*\"stay\" + 0.014*\"bus\" + 0.014*\"view\" + 0.014*\"clarke\"'),\n",
       " (2,\n",
       "  '0.037*\"pool\" + 0.033*\"gym\" + 0.028*\"service\" + 0.018*\"place\" + 0.014*\"time\" + 0.012*\"walk\" + 0.012*\"stay\" + 0.010*\"minute\" + 0.010*\"area\" + 0.009*\"people\"'),\n",
       " (3,\n",
       "  '0.031*\"food\" + 0.024*\"mrt\" + 0.023*\"stay\" + 0.023*\"station\" + 0.020*\"singapore\" + 0.018*\"road\" + 0.018*\"service\" + 0.016*\"place\" + 0.015*\"walk\" + 0.015*\"family\"'),\n",
       " (4,\n",
       "  '0.018*\"water\" + 0.015*\"day\" + 0.015*\"floor\" + 0.012*\"bed\" + 0.012*\"time\" + 0.011*\"bathroom\" + 0.010*\"service\" + 0.010*\"coffee\" + 0.009*\"food\" + 0.009*\"pool\"'),\n",
       " (5,\n",
       "  '0.040*\"bathroom\" + 0.028*\"bed\" + 0.022*\"area\" + 0.019*\"shower\" + 0.019*\"value\" + 0.018*\"money\" + 0.017*\"toilet\" + 0.015*\"price\" + 0.012*\"bit\" + 0.011*\"floor\"'),\n",
       " (6,\n",
       "  '0.036*\"service\" + 0.018*\"bed\" + 0.017*\"stay\" + 0.015*\"reception\" + 0.013*\"day\" + 0.012*\"time\" + 0.011*\"people\" + 0.010*\"smell\" + 0.010*\"thing\" + 0.008*\"phone\"')]"
      ]
     },
     "execution_count": 108,
     "metadata": {},
     "output_type": "execute_result"
    }
   ],
   "source": [
    "# Peform LDA model\n",
    "# num of topics was determined to be 7 (see below)\n",
    "model = gensim.models.ldamodel.LdaModel(corpus=corpus,\n",
    "                                        id2word=id2word,\n",
    "                                        num_topics=7,\n",
    "                                        iterations=3000,\n",
    "                                        alpha=0.1,\n",
    "                                        eta=0.01)\n",
    "model.print_topics()"
   ]
  },
  {
   "cell_type": "code",
   "execution_count": 122,
   "metadata": {
    "colab": {
     "base_uri": "https://localhost:8080/",
     "height": 954
    },
    "id": "HLclPnPV4oWQ",
    "outputId": "28960efa-c791-4b9f-a3aa-da37bade5fe3"
   },
   "outputs": [
    {
     "name": "stderr",
     "output_type": "stream",
     "text": [
      "C:\\Users\\Aga\\anaconda3\\lib\\site-packages\\pyLDAvis\\_prepare.py:246: FutureWarning: In a future version of pandas all arguments of DataFrame.drop except for the argument 'labels' will be keyword-only.\n",
      "  default_term_info = default_term_info.sort_values(\n"
     ]
    },
    {
     "data": {
      "text/html": [
       "\n",
       "<link rel=\"stylesheet\" type=\"text/css\" href=\"https://cdn.jsdelivr.net/gh/bmabey/pyLDAvis@3.3.1/pyLDAvis/js/ldavis.v1.0.0.css\">\n",
       "\n",
       "\n",
       "<div id=\"ldavis_el795623840907787525939054145\"></div>\n",
       "<script type=\"text/javascript\">\n",
       "\n",
       "var ldavis_el795623840907787525939054145_data = {\"mdsDat\": {\"x\": [0.12955483714429014, -0.01976559309593313, -0.12256473602032486, -0.008534579438379982, 0.17844887260613956, -0.1540942018029119, -0.0030445993928796982], \"y\": [0.032576654039609944, -0.03995098980988359, 0.05457362796895492, -0.1482868747294382, -0.014165555195393538, -0.02179313954855734, 0.13704627727470742], \"topics\": [1, 2, 3, 4, 5, 6, 7], \"cluster\": [1, 1, 1, 1, 1, 1, 1], \"Freq\": [32.405946192720066, 14.88603683507756, 12.790164901161566, 12.056158949399347, 11.960627081208433, 10.391355418461378, 5.509710621971651]}, \"tinfo\": {\"Term\": [\"pool\", \"york\", \"service\", \"quay\", \"bathroom\", \"gym\", \"walk\", \"bed\", \"time\", \"clarke\", \"mrt\", \"bus\", \"water\", \"value\", \"shower\", \"area\", \"studio\", \"place\", \"food\", \"bay\", \"toilet\", \"money\", \"city\", \"station\", \"check\", \"distance\", \"minute\", \"buffet\", \"day\", \"desk\", \"raffle\", \"tower\", \"porter\", \"superb\", \"ice\", \"loft\", \"peninsula\", \"juice\", \"discount\", \"awesome\", \"leisure\", \"sausage\", \"cbd\", \"chill\", \"swim\", \"cot\", \"play\", \"aspect\", \"g.\", \"wish\", \"robe\", \"chip\", \"purchase\", \"port\", \"google\", \"mobile\", \"weight\", \"staircase\", \"\\uc083\", \"tang\", \"halal\", \"bahru\", \"roomy\", \"ibis\", \"foodcourt\", \"plaza\", \"court\", \"lavender\", \"bugis\", \"orchard\", \"food\", \"mrt\", \"station\", \"junction\", \"convenience\", \"shopping\", \"rd\", \"convenient\", \"mall\", \"road\", \"market\", \"store\", \"family\", \"center\", \"shop\", \"variety\", \"walk\", \"restaurant\", \"singapore\", \"place\", \"stay\", \"buffet\", \"clean\", \"distance\", \"min\", \"city\", \"service\", \"minute\", \"street\", \"business\", \"price\", \"bus\", \"area\", \"time\", \"value\", \"day\", \"choice\", \"lot\", \"bit\", \"pool\", \"ha\", \"menu\", \"concept\", \"sia\", \"pastry\", \"steam\", \"pearl\", \"pizza\", \"bidet\", \"caters\", \"pub\", \"rang\", \"pre\", \"mildew\", \"criticism\", \"stock\", \"couch\", \"lead\", \"setting\", \"timing\", \"tiger\", \"impressive\", \"potato\", \"quad\", \"brown\", \"data\", \"slope\", \"surround\", \"pickup\", \"though\", \"catering\", \"sale\", \"mix\", \"message\", \"plate\", \"policy\", \"confirmation\", \"necessity\", \"product\", \"cut\", \"laksa\", \"upstairs\", \"bottle\", \"cup\", \"premier\", \"mother\", \"plain\", \"doorman\", \"agent\", \"miss\", \"tub\", \"water\", \"coffee\", \"tea\", \"egg\", \"item\", \"bath\", \"kit\", \"floor\", \"adult\", \"event\", \"call\", \"buffet\", \"day\", \"glass\", \"door\", \"fruit\", \"bed\", \"reception\", \"time\", \"bathroom\", \"tv\", \"phone\", \"pool\", \"food\", \"service\", \"ha\", \"towel\", \"family\", \"size\", \"use\", \"restaurant\", \"choice\", \"area\", \"singapore\", \"stay\", \"road\", \"check\", \"minute\", \"york\", \"link\", \"wood\", \"wow\", \"robot\", \"gripe\", \"in-room\", \"stay.\", \"outdoor\", \"require\", \"send\", \"vehicle\", \"so-so\", \"knowledge\", \"grey\", \"presentation\", \"abit\", \"btw\", \"pretty\", \"convention\", \"add\", \"stick\", \"meaning\", \"file\", \"wallpaper\", \"scratch\", \"hv\", \"bf\", \"deliver\", \"sin\", \"honeymoon\", \"lamp\", \"gesture\", \"thou\", \"told\", \"ship\", \"fly\", \"record\", \"moldy\", \"manager\", \"incident\", \"booking\", \"duty\", \"m.\", \"state\", \"staycation\", \"com\", \"reservation\", \"lady\", \"thank\", \"mtr\", \"front\", \"check\", \"desk\", \"moment\", \"concierge\", \"process\", \"flight\", \"picture\", \"time\", \"response\", \"situation\", \"management\", \"hour\", \"care\", \"experience\", \"u\", \"friend\", \"wait\", \"day\", \"morning\", \"stay\", \"floor\", \"something\", \"service\", \"lobby\", \"price\", \"door\", \"reception\", \"thing\", \"nothing\", \"singapore\", \"bed\", \"bathroom\", \"people\", \"way\", \"family\", \"kopitiam\", \"refurbishment\", \"season\", \"bank\", \"courtesy\", \"shabby\", \"charm\", \"jet\", \"fresh\", \"esp\", \"bencoolen\", \"fitting\", \"chang\", \"brief\", \"maintain\", \"bear\", \"operate\", \"shoebox\", \"mouth\", \"government\", \"library\", \"minimal\", \"bed.\", \"frequent\", \"furnishing\", \"describe\", \"nov\", \"jug\", \"back\", \"revisit\", \"tablet\", \"perth\", \"fluffy\", \"musky\", \"squeeze\", \"comeback\", \"coat\", \"lotion\", \"conditioning\", \"gap\", \"carpet\", \"drain\", \"dust\", \"con\", \"pro\", \"tile\", \"shower\", \"curtain\", \"toilet\", \"bathroom\", \"paint\", \"air\", \"money\", \"april\", \"dirty\", \"star\", \"value\", \"sink\", \"bed\", \"towel\", \"area\", \"wall\", \"mould\", \"average\", \"window\", \"bit\", \"price\", \"space\", \"water\", \"hand\", \"size\", \"floor\", \"ha\", \"ok\", \"door\", \"pool\", \"side\", \"wifi\", \"stay\", \"clean\", \"place\", \"singapore\", \"family\", \"royal\", \"swimming\", \"cubicle\", \"riverside\", \"spa\", \"f1\", \"support\", \"fantastic\", \"liking\", \"updating\", \"climate\", \"caf\\ucc55\", \"folk\", \"rise\", \"atmosphere\", \"encounter\", \"rubbish\", \"jam\", \"host\", \"wear\", \"aquarium\", \"fashion\", \"patch\", \"kudos\", \"london\", \"hail\", \"brochure\", \"join\", \"spoil\", \"freezing\", \"quay\", \"clarke\", \"hop\", \"bay\", \"clark\", \"sand\", \"flyer\", \"l\", \"marina\", \"*\", \"garden\", \"relax\", \"merlion\", \"hill\", \"newspaper\", \"studio\", \"australia\", \"chinatown\", \"europe\", \"bakery\", \"stopover\", \"park\", \"outram\", \"bar\", \"bus\", \"city\", \"lounge\", \"club\", \"pool\", \"view\", \"walk\", \"singapore\", \"distance\", \"taxi\", \"area\", \"restaurant\", \"minute\", \"stay\", \"airport\", \"mrt\", \"day\", \"bed\", \"road\", \"place\", \"station\", \"floor\", \"clean\", \"bra\", \"foyer\", \"apology\", \"christmas\", \"memory\", \"program\", \"maid\", \"smartphone\", \"carpark\", \"stale\", \"hit\", \"usage\", \"notch\", \">\", \"oct\", \"escape\", \"arrive\", \"appearance\", \"vietnam\", \"cough\", \"asian\", \"compromise\", \"expression\", \"aud\", \"pop\", \"admit\", \"photograph\", \"slip\", \"overlook\", \"statement\", \"intention\", \"borrow\", \"disturb\", \"climb\", \"risk\", \"fix\", \"hear\", \"disaster\", \"answer\", \"cigarette\", \"smelt\", \"smoke\", \"plus\", \"greet\", \"hello\", \"bug\", \"damp\", \"color\", \"party\", \"thats\", \"smell\", \"airline\", \"smoking\", \"power\", \"phone\", \"service\", \"sheet\", \"someone\", \"reception\", \"work\", \"bed\", \"people\", \"thing\", \"guest\", \"morning\", \"smile\", \"stay\", \"experience\", \"customer\", \"day\", \"toilet\", \"time\", \"card\", \"issue\", \"floor\", \"air\", \"business\", \"help\", \"bathroom\", \"problem\", \"singapore\", \"everything\", \"place\", \"desk\", \"door\", \"shower\", \"way\", \"museum\", \"cereal\", \"fort\", \"training\", \"exception\", \"mediocre\", \"procedure\", \"error\", \"disappoint\", \"ledge\", \"faulty\", \"pity\", \"tube\", \"attendant\", \"supervisor\", \"seating\", \"currency\", \"twice\", \"satisfaction\", \"finger\", \"escalator\", \"confusion\", \"penny\", \"praise\", \"video\", \"plumbing\", \"lesson\", \"stunk\", \"discussion\", \"hilton\", \"gym\", \"account\", \"wedding\", \"railway\", \"extension\", \"exchange\", \"fi\", \"boat\", \"wi\", \"suite\", \"meeting\", \"n\", \"department\", \"+\", \"pleasure\", \"fire\", \"pool\", \"curry\", \"relaxing\", \"service\", \"customer\", \"place\", \"brilliant\", \"alarm\", \"age\", \"nothing\", \"minute\", \"time\", \"walk\", \"business\", \"people\", \"stay\", \"area\", \"thing\", \"bathroom\", \"internet\", \"price\", \"food\", \"day\", \"floor\", \"experience\", \"bed\", \"machine\", \"ha\", \"door\", \"need\", \"wifi\", \"station\"], \"Freq\": [8406.0, 3009.0, 12912.0, 2323.0, 8738.0, 1499.0, 7350.0, 8846.0, 10471.0, 1355.0, 8415.0, 3505.0, 4084.0, 4756.0, 3314.0, 8392.0, 1541.0, 8162.0, 10727.0, 1176.0, 3045.0, 3879.0, 4904.0, 7969.0, 4903.0, 3323.0, 5105.0, 3253.0, 9022.0, 3443.0, 556.892153436837, 528.863510801793, 383.09136733804564, 370.72867274685166, 307.4553862421593, 294.3010257924339, 290.1401291759157, 283.1969989511807, 256.7742315668009, 227.5587391010614, 226.45154102890928, 157.21908232776553, 125.54624426564482, 116.81915414561094, 112.15893139347914, 109.84085662651222, 102.81829096226767, 100.91749561163887, 99.86124067196349, 97.01239625267375, 96.9835176616519, 95.69734649169027, 95.09767922707937, 87.34309767789345, 86.70095462584594, 82.69088645569468, 75.75404493430149, 75.64169809892437, 74.33696212044869, 86.37264413786725, 191.4791810174669, 196.08808980449248, 92.88202379697083, 151.96532650076907, 138.09025283562207, 553.4936578038394, 1379.8291533101503, 2279.5047123949926, 1120.3695527082282, 3295.2956316487453, 8214.21666499412, 6493.860313559243, 6135.123255552338, 351.5086029764931, 625.7320394455827, 2391.2064226076654, 1066.5052479980911, 2011.8851870028086, 1664.7003070699006, 4881.005374753638, 748.6268999414635, 804.4851098949515, 3988.1064111401683, 839.5046274557778, 1459.8406195041553, 1004.3611777529272, 4099.3782027243815, 3186.1155833166317, 5228.423632021374, 4230.277176500698, 6187.246006623495, 1978.7918359250123, 2666.9899519490364, 1989.6660083414174, 1525.8205206633668, 2593.905021219596, 4846.116452083832, 2511.3213362965444, 1422.3813322684498, 1674.057155977293, 2774.231287294155, 1824.6698395592634, 2900.709441683398, 3190.4422112158145, 2050.2928168830067, 2368.5030601430317, 1658.296398391169, 1704.2792736157937, 1772.1464656373769, 1922.228116893912, 1703.3545406487124, 804.2499421226588, 388.2306873082405, 147.841266168639, 141.1618516583906, 132.06619056956396, 141.93767900463547, 103.95136050117682, 103.01364753005176, 95.69297913233292, 93.81041994503697, 82.60732145718698, 80.44835434768353, 79.8522421900552, 72.00623336242111, 70.68333935433543, 69.58788584798863, 66.24889546624712, 66.18108350289631, 65.48958459882968, 68.05599840669542, 61.36617858576327, 61.268648316933096, 61.17492244546068, 59.8071706177835, 151.16515962280596, 53.23574492022096, 52.786506632973435, 51.102013883115845, 50.93842834561032, 47.54012556364472, 102.90168042497963, 115.74956326526559, 63.164118322874124, 242.228762089003, 209.94393633542944, 130.3665192679348, 91.81662472156415, 118.04699340397646, 108.71685793695285, 84.70695132431942, 163.85343521797265, 444.02404836743733, 281.12974714899593, 433.9085816585307, 118.93857095938243, 125.52134951809, 218.30780455787598, 383.61260317232137, 122.42285241185778, 287.37744773221385, 2159.233303754401, 1183.8552088901067, 560.8545928140264, 602.3356406671818, 363.4133541384727, 742.041685733678, 133.21061859413564, 1818.7196393891847, 423.28193454345643, 157.26402025715777, 598.3086576729683, 1033.0996607813238, 1857.6382836667638, 388.99454783742345, 902.7562943943237, 344.95322573557115, 1464.0017180592972, 999.8541111308157, 1455.744585895556, 1311.1796440185994, 623.9566554538802, 531.3692640862878, 1138.6611259978283, 1148.6581737412184, 1224.127196550146, 801.474946551449, 550.6247954472117, 819.8334350846432, 665.6493867898673, 594.7163980544415, 726.6940654078749, 610.4989121020817, 693.7199907389705, 704.6442325787017, 713.1022028537027, 639.508009775499, 607.6860996854946, 595.4847159745585, 3009.652348021227, 192.9152389729869, 83.12657062114296, 82.01047841261662, 75.3013014086561, 69.96027697594373, 67.27633296463704, 66.55271140121198, 64.16771249250434, 59.280545514415124, 58.61991464794531, 54.715948961802745, 54.20178411999881, 53.10787190613084, 59.19134375970855, 50.72010126039481, 93.23315931171146, 43.046926924668874, 42.33002278332691, 42.06571067211219, 41.85991910770572, 39.58500298249493, 39.545491246066135, 37.627955392224365, 36.54431293667498, 36.40791237287894, 34.825098068890355, 34.734066784792105, 33.423391928598946, 32.45398833748114, 199.72800393110387, 113.828793713746, 75.63602600772494, 41.602278680339296, 79.9088431145223, 86.12414475763252, 55.58355448835231, 48.64546371769025, 69.97767580045853, 1111.1630660455671, 87.92832297036635, 626.1925858002073, 321.228380290005, 205.83269222719366, 119.04046432003591, 533.5310690453548, 284.7700552347386, 389.82263304722625, 325.61839704963285, 498.77269391337865, 176.6415140497596, 1016.111842393039, 2267.210781649933, 1677.5656555769544, 199.51909606830026, 682.0097224044256, 331.7647132378145, 793.3924475183699, 261.1375362080188, 3090.792903503398, 176.51625227074317, 183.59740919061827, 432.8910477946003, 989.4361329636639, 298.9989395506204, 1128.8587621963143, 839.2954863177487, 622.703844006367, 360.75065480809087, 2042.190960911902, 786.6373371298158, 2036.8604440763293, 1263.595649538467, 490.21581419245643, 1449.8537433233926, 733.6794866338021, 1001.2419153720409, 718.3528602891923, 797.2855884889451, 727.096791095119, 578.8292898215723, 869.383682755919, 811.6486626872746, 736.7907599235526, 607.628912118601, 523.0595258317358, 528.3431091399809, 387.9048941737122, 237.17724688128266, 156.9101540918338, 154.43799754430034, 167.2951591672278, 120.58744090108611, 103.42609087500897, 87.21103387678241, 90.89965497768293, 81.63454045134361, 71.24055054447695, 67.55924722378415, 64.57845034151431, 59.30008316676886, 57.70307104878993, 57.143671877263145, 55.11139267401466, 54.99981520831805, 54.03840375003047, 51.65768209015136, 50.755019817820475, 50.21793613943302, 44.99426836576104, 46.019177231884, 41.879035295881, 40.93506464289603, 38.092279485777, 36.81743939587467, 34.98594214635372, 34.02935076560281, 45.358565054766274, 44.244514933591404, 70.16655564128116, 43.679266711505825, 108.33205029407748, 56.82538580316959, 61.07774040888566, 123.01575974880488, 220.5408110593591, 74.8929391484024, 994.0303399717471, 149.15717003182598, 291.4228191159211, 678.7903939246877, 270.04356496078526, 278.8979985337862, 1862.7580247787619, 534.5992891327094, 1638.0327081001687, 3951.3380790241367, 221.78965089798137, 1056.4562362354757, 1783.2235377872646, 166.32989049722036, 597.142545805488, 1061.2786821346244, 1832.195939448342, 308.3869627258113, 2733.7849066903486, 833.8232643417417, 2158.024857167284, 634.6445310610371, 223.90880646594252, 562.9950355959185, 669.4271763056344, 1216.424176235755, 1488.6129487518554, 777.6079043324786, 989.0939367475097, 384.1332884105347, 853.0022177714834, 1113.6263912340403, 901.3158007726661, 550.393139760818, 748.6742866528708, 1085.8453613020902, 564.1888742397038, 634.6415878532868, 1089.8513429762095, 718.7738712148539, 808.8401212775842, 792.6728051785133, 657.5342716250501, 263.5050024717116, 222.48861035240967, 142.3357764974361, 120.55015310277437, 118.632027490209, 116.8912165203165, 94.25854102620144, 157.96291538748414, 83.74467008731922, 74.29106566142472, 73.16816987383795, 71.93288698786078, 69.17149030015996, 65.6414963418766, 65.44833903622465, 64.61122139282226, 55.7390392765182, 54.61755210583417, 53.776778901967575, 53.09999836067338, 47.48835091380112, 47.39628610825662, 46.18011364835679, 45.66381848463424, 121.34451038367962, 50.31841339833401, 42.93205978091551, 58.631089459125604, 42.07802447742406, 39.07619057139023, 2308.012613204305, 1347.1707294763512, 713.4856076034777, 1164.1149521052391, 455.926337157943, 449.2845088599067, 233.5356798578474, 96.51272727376707, 898.8909351567617, 620.3830334961141, 435.541791429002, 267.2661806891186, 148.13444207548335, 842.5630483916758, 84.15832441292179, 1276.0125589733914, 309.77340275274616, 592.7047492853845, 225.2338963407167, 196.97726938771453, 960.907763656944, 738.3283174744657, 262.38949194278496, 1046.1750972900106, 1404.712923852239, 1630.649600266475, 488.718208682375, 463.11641968497713, 2275.2708359749086, 1351.2045520536228, 2003.4929522956336, 2258.522187102567, 1079.05410916373, 918.3450409467678, 1531.2909878053547, 1212.3448086515803, 1116.904409529462, 1488.3575308133413, 654.0741386773278, 1073.0074813875797, 1056.3736205355556, 979.301677071694, 902.1167705162957, 920.035654969381, 832.0715328303595, 691.7716925040999, 670.2606638619371, 560.6533868093647, 315.38769803931626, 199.76320579836934, 120.76750264357956, 107.6428261188937, 105.25112071266796, 117.62738535915327, 91.87009979165276, 106.40641949247579, 79.52934522071139, 77.55197853046688, 69.94533091237916, 61.20385223069289, 58.85712030789289, 57.35692242543551, 52.4415391876752, 49.56706124889043, 46.17001987246874, 54.81879183955998, 49.46977147026886, 39.47671250423901, 38.24546616018179, 37.82288536094851, 60.032406201520224, 33.546970853480246, 32.52398389345239, 31.7563553516552, 36.55063669651123, 30.42627089653501, 29.465407988719754, 34.13444781905619, 33.325690612951725, 115.87080839771986, 155.0423507710896, 68.84831879766116, 178.7113347255845, 86.0018851561172, 74.14907083209124, 172.29869172100757, 280.00715722608885, 149.81144463242384, 299.12597612176785, 93.97078806418952, 93.59544255241238, 74.65000716218675, 150.78974300219517, 150.32238938342053, 140.83928175829297, 260.6299625219173, 143.65037963758869, 892.9305428526136, 415.3904523780434, 328.94649229792276, 273.8541980612509, 706.4488881445603, 3091.448295630718, 328.8298198744668, 411.5719524337419, 1255.6522847071801, 697.865983478192, 1491.3435018513992, 902.7160435195435, 886.5004990687272, 506.6462035849333, 663.8150366083673, 315.89711675385877, 1464.6065504269152, 685.9989690876796, 446.11289573596423, 1107.3569771106984, 621.2558221278452, 1047.1946744880067, 398.7217741935943, 394.12222104589574, 682.6729230890267, 447.6000083512929, 497.88647687642566, 423.28664064000395, 636.6914628572689, 446.7647709444427, 604.6638817765237, 464.46944951342306, 543.4059642543092, 461.94015309312516, 447.4676593715343, 428.2628275120708, 423.82376583458574, 353.19107969059064, 277.9821661458928, 142.14899357885798, 132.2576638437015, 122.52906500927456, 94.2314580915785, 89.55812001322, 79.69187349258253, 76.97520478711228, 76.19522399981392, 75.17708402782391, 71.54880282719084, 70.2266431564757, 65.90024576121725, 65.25214888000222, 65.04388043837692, 64.2254656933478, 61.66736136386611, 56.69768512419906, 53.37372310767605, 53.1319070488107, 52.63765633523943, 52.5764142010891, 48.72630890456615, 44.45050352284009, 40.49417286193963, 39.81525262966139, 37.3251288554906, 53.902761413063494, 35.841144621394974, 1490.9815787609195, 89.26258573373413, 124.69254742990002, 59.169968501449176, 53.69476618617529, 177.14594144147335, 134.98334863549655, 242.7929906991985, 131.24128400511407, 337.01363579214274, 189.0399036749082, 143.65368171048445, 135.84320795449423, 188.42517051639862, 134.50874311234978, 134.22738447441654, 1681.1698039759237, 117.00866667152633, 114.58244624812795, 1256.7402093334324, 380.9434760921139, 827.2748887885763, 109.01435092223484, 106.5821618076564, 152.24849192717815, 373.11927854971316, 471.9637468040433, 623.6242806169491, 535.230696387647, 369.9568810171574, 404.0938014286292, 532.2640046729388, 429.1902143210991, 312.76343199007385, 389.2107859050792, 233.6620701187297, 319.5932960215205, 345.0252796607228, 321.9332541458042, 293.9619496902969, 256.34503012263184, 283.755130491586, 175.43886423919915, 211.7801967405681, 204.42084254859185, 203.00781796126762, 200.756885808247, 203.7367338633732], \"Total\": [8406.0, 3009.0, 12912.0, 2323.0, 8738.0, 1499.0, 7350.0, 8846.0, 10471.0, 1355.0, 8415.0, 3505.0, 4084.0, 4756.0, 3314.0, 8392.0, 1541.0, 8162.0, 10727.0, 1176.0, 3045.0, 3879.0, 4904.0, 7969.0, 4903.0, 3323.0, 5105.0, 3253.0, 9022.0, 3443.0, 556.9602270292501, 528.9315844546842, 383.1594409171122, 370.7967466088035, 307.52345999122304, 294.3690993748234, 290.2082027665587, 283.2650725614799, 256.84230515269275, 227.62681283766725, 226.51961476008228, 157.28715597001957, 125.61431787871558, 116.88722784766529, 112.22700503932238, 109.90893021730201, 102.8863646126435, 100.9855693090051, 99.92931433056472, 97.08046984882341, 97.0515912699612, 95.76542011341776, 95.1657528068904, 87.41117129031838, 86.76902844554046, 82.7589600321482, 75.82211859436471, 75.70977174088361, 74.40503572999373, 86.45176337961958, 191.83708850202544, 196.93688778649326, 93.01564183154635, 152.95359907563403, 139.03778635634228, 579.5124069142162, 1496.8113793714265, 2526.555667867096, 1271.4878346912826, 4027.671730936251, 10727.792738595417, 8415.522106502074, 7969.468190257212, 385.1377560432187, 716.2710442211059, 3067.994149258082, 1275.6987177884223, 2582.2250511909315, 2127.4674507565087, 7009.7306242577315, 904.3622597737387, 992.3110033986183, 6265.6867851020215, 1077.3624219777266, 2068.403824718688, 1336.1833520180771, 7350.604016382042, 5694.811745608438, 10603.911850984978, 8162.304767732942, 13512.288082442932, 3253.6446501829682, 4803.519166481092, 3323.5558373914278, 2367.959741134951, 4904.240016105318, 12912.727151528377, 5105.692533571794, 2282.016044120307, 2948.1199452568644, 6598.128566365123, 3505.464980585285, 8392.330284367428, 10471.32485621372, 4756.308244118908, 9022.493663640742, 3110.6659906741675, 3714.64463775153, 4544.508170398052, 8406.532669178008, 4835.799596165072, 804.3173641779692, 388.2981093099946, 147.90868822944182, 141.22927362739586, 132.13361254637277, 142.01150193018137, 104.01878247879694, 103.08106953121883, 95.76040115937172, 93.87784198820682, 82.67474345887167, 80.51577632762604, 79.92513272519369, 72.0736553300229, 70.75076140525886, 69.65530788845614, 66.31631747109707, 66.24850548018341, 65.55700657634023, 68.12767228562433, 61.43360059342493, 61.33607036141699, 61.2423444465911, 59.87459260651834, 151.336675848058, 53.30316689495504, 52.85392880325948, 51.16943585461347, 51.00585034071301, 47.60754761441846, 103.10460376539305, 116.13396583202882, 63.27762925916588, 246.575695187629, 214.09303130586912, 132.77861505642153, 92.75047507771397, 121.02710440183986, 111.2542234562911, 86.43958174732036, 175.68189575151118, 525.7162812221172, 320.71719028722447, 516.8032095084109, 125.95438024573095, 133.99331417809617, 250.93166688691082, 486.58650290263535, 131.95851665359652, 366.15083907398014, 4084.445373721919, 2100.0951745646826, 865.8993877580991, 1078.5608568732182, 563.1333095434999, 1620.1677242284804, 148.79318308568523, 6417.716500014747, 791.0156247740356, 188.9132004859619, 1316.7505438882497, 3253.6446501829682, 9022.493663640742, 788.1396463764994, 3376.8795596791724, 709.0501577153523, 8846.436587911125, 4656.816715680206, 10471.32485621372, 8738.618903163213, 2195.866157081059, 1635.5801124208833, 8406.532669178008, 10727.792738595417, 12912.727151528377, 4835.799596165072, 2025.0325707044904, 6265.6867851020215, 3561.3669554073645, 2583.964704260161, 5694.811745608438, 3110.6659906741675, 8392.330284367428, 10603.911850984978, 13512.288082442932, 7009.7306242577315, 4903.768905924824, 5105.692533571794, 3009.7209511614005, 192.98384207892, 83.19517379887571, 82.07908176259907, 75.36990451908486, 70.02888014475599, 67.34493610268702, 66.62131453759197, 64.23631560318854, 59.34914865891529, 58.6885177433949, 54.784552096563495, 54.270387330691314, 53.17647501293033, 59.26866527562298, 50.796399004273034, 93.37496829767232, 43.115530035964056, 42.39862592208366, 42.13431383837491, 41.92852223655409, 39.65360612789177, 39.614094343971786, 37.69655848715074, 36.61291605030554, 36.47651557487223, 34.8937012174309, 34.80266988269776, 33.49199504949741, 32.52259152228176, 200.7153841582915, 114.41721052951482, 75.93686028517376, 41.718026209523735, 80.85525528945361, 87.51791541430981, 55.98974918428542, 49.129098548813104, 72.30473763286193, 1371.1255706590393, 92.71489675600318, 789.2699231657226, 384.7773342270812, 237.08607352448865, 131.33221299340192, 724.6381337513137, 359.81579792819764, 521.989909986821, 450.97372915312184, 751.1842130583607, 221.61136557943396, 1840.2806168696447, 4903.768905924824, 3443.3566487528997, 258.8178179172895, 1212.1014663690112, 516.3025374972711, 1643.5104349024352, 387.99164550286525, 10471.32485621372, 234.47010477083327, 247.69508295481808, 794.9801476468011, 2674.277189132104, 495.78276937361085, 3334.4321777040113, 2189.0372944564597, 1473.8218949816453, 673.9636911634481, 9022.493663640742, 2635.6234998263126, 13512.288082442932, 6417.716500014747, 1260.5746269434933, 12912.727151528377, 3230.731100236439, 6598.128566365123, 3376.8795596791724, 4656.816715680206, 3859.352927735974, 2501.229832939091, 10603.911850984978, 8846.436587911125, 8738.618903163213, 3880.604811347979, 3235.124149207159, 6265.6867851020215, 387.9683413316659, 237.24069406281205, 156.97360127567944, 154.5014447862522, 167.36887888490205, 120.65088826802689, 103.48953807320287, 87.2744809934861, 90.967292957062, 81.69798757166544, 71.30399767815774, 67.62269440619303, 64.64189752471313, 59.36353035839374, 57.76651817067728, 57.20711899820742, 55.17483979046688, 55.06326234401333, 54.101850873017895, 51.721129215130965, 50.818466933856385, 50.28138332887009, 45.05771570513313, 46.08622453976013, 41.9424824378492, 40.99851181785797, 38.1557266083481, 36.880886609531395, 35.049389280851784, 34.09279804245802, 45.45866063232695, 44.35367783310732, 70.68258810549885, 43.861713875179134, 111.37681747499066, 57.38667121055144, 61.8381381336216, 127.95668829743094, 236.33368595916863, 77.51223937153948, 1370.3574830620962, 171.18277788906786, 370.23152238222605, 982.9845339034533, 342.045934465147, 363.4265980595019, 3314.077749675685, 800.4530759234635, 3045.59956413702, 8738.618903163213, 286.4266141970138, 1962.1009676166054, 3879.9627642046817, 208.7870695788289, 1065.3364744458377, 2324.263012004124, 4756.308244118908, 472.5037741147591, 8846.436587911125, 2025.0325707044904, 8392.330284367428, 1535.9677595596918, 324.5222627929032, 1304.1780590688593, 1779.1156174494224, 4544.508170398052, 6598.128566365123, 2422.8851098215127, 4084.445373721919, 780.4648435403994, 3561.3669554073645, 6417.716500014747, 4835.799596165072, 1658.3294600522809, 3376.8795596791724, 8406.532669178008, 1965.2591248767183, 2991.78266472427, 13512.288082442932, 4803.519166481092, 8162.304767732942, 10603.911850984978, 6265.6867851020215, 263.57208173808357, 222.55568967900328, 142.40285577064995, 120.6172323910369, 118.6991067677943, 116.95829586811973, 94.32562030308242, 158.0887949436045, 83.81174957998584, 74.35814491966433, 73.2352491411579, 71.99996626711291, 69.23856958715504, 65.70857574480989, 65.51541829984895, 64.67830065685132, 55.806118554984856, 54.684631384559545, 53.84385820557424, 53.16707762751939, 47.555430169694205, 47.463365408951994, 46.24719290625317, 45.73089781112976, 121.52511999656431, 50.39476432915045, 42.99913911970323, 58.72406721463368, 42.14510379181239, 39.14326985198853, 2323.577265564162, 1355.3824008315544, 715.97968034385, 1176.0708511427367, 458.4744144429759, 452.1788216485685, 235.18183545694467, 96.91872566732614, 932.4958752551469, 640.0801524788326, 454.7806231321835, 283.34964230490624, 153.53778417663142, 942.0667587674639, 85.43255558032145, 1541.8940595053703, 346.5114273543488, 718.0924311965587, 260.1355524610242, 230.70279326291595, 1499.7826668020468, 1311.5018444582347, 360.1693276970082, 2268.234257593576, 3505.464980585285, 4904.240016105318, 880.8014490263241, 832.8175588864384, 8406.532669178008, 3932.2442492947553, 7350.604016382042, 10603.911850984978, 3323.5558373914278, 2982.0556751032773, 8392.330284367428, 5694.811745608438, 5105.692533571794, 13512.288082442932, 2248.930268128912, 8415.522106502074, 9022.493663640742, 8846.436587911125, 7009.7306242577315, 8162.304767732942, 7969.468190257212, 6417.716500014747, 4803.519166481092, 560.7198222834575, 315.45413355650805, 199.82964126035924, 120.833938122238, 107.7092617328041, 105.31755631098217, 117.70196651345533, 91.93653534300093, 106.49230461792366, 79.59578076780396, 77.61841399292824, 70.0117664527243, 61.270287701009586, 58.92355577685444, 57.42335792254638, 52.50797469602054, 49.63349670193662, 46.23645536683346, 54.89936396801432, 49.547707907061266, 39.54314810386895, 38.31190171792186, 37.88932084526571, 60.15100325465622, 33.61340640129474, 32.59041935033526, 31.822790832222456, 36.62801244189164, 30.492706375216112, 29.531843493396067, 34.21667061913902, 33.408732531136934, 118.44143775712477, 159.49853018271085, 69.70657339056805, 184.50920288467069, 88.56802479474565, 76.06239132961693, 184.65209610793943, 307.9950856109179, 159.63128683183783, 355.90227562748527, 101.49429391844008, 101.39775006544738, 78.71208254810439, 181.5014956753847, 181.22473372463432, 170.7358727929762, 363.6854798455263, 177.1814443361939, 1838.5308130502817, 720.7120006692763, 539.836437418933, 424.7270956431582, 1635.5801124208833, 12912.727151528377, 592.3778769131615, 834.509577037608, 4656.816715680206, 2109.0052061536335, 8846.436587911125, 3880.604811347979, 3859.352927735974, 1574.7966646297036, 2635.6234998263126, 705.7135978531707, 13512.288082442932, 3334.4321777040113, 1514.239118919796, 9022.493663640742, 3045.59956413702, 10471.32485621372, 1310.162106965822, 1345.6691852915576, 6417.716500014747, 1962.1009676166054, 2948.1199452568644, 1772.9607506146983, 8738.618903163213, 2415.2533790277275, 10603.911850984978, 3017.607348594448, 8162.304767732942, 3443.3566487528997, 3376.8795596791724, 3314.077749675685, 3235.124149207159, 353.25802197546767, 278.0491083632787, 142.21593582874263, 132.32460606177247, 122.59600726243318, 94.29840034229304, 89.62506222871981, 79.75881572083594, 77.04214709588507, 76.26216622378271, 75.24402625750017, 71.61574506173312, 70.29358540914725, 65.96718806848733, 65.31909121657566, 65.1108226576527, 64.29240791851511, 61.734303630391935, 56.764627345120076, 53.4406653710098, 53.198849270020645, 52.70459859439943, 52.64335642577369, 48.79325114812307, 44.5174457907013, 40.56111508286577, 39.88219487160682, 37.39207110775313, 54.00227325302538, 35.90808691783092, 1499.1552512664834, 89.46050281628621, 125.56389255156198, 59.33554639747259, 54.01357495810248, 188.57042885948943, 144.55237227697228, 277.0826136884788, 146.94637260271531, 445.11847801385755, 247.20113932631645, 176.9930416097742, 169.70566776934942, 277.76963503570965, 179.94230853135718, 185.80821320017242, 8406.532669178008, 169.03607400260142, 168.34457023798774, 12912.727151528377, 1514.239118919796, 8162.304767732942, 155.69913700398658, 150.57321282058837, 333.3147526196227, 2501.229832939091, 5105.692533571794, 10471.32485621372, 7350.604016382042, 2948.1199452568644, 3880.604811347979, 13512.288082442932, 8392.330284367428, 3859.352927735974, 8738.618903163213, 1683.9369677649545, 6598.128566365123, 10727.792738595417, 9022.493663640742, 6417.716500014747, 3334.4321777040113, 8846.436587911125, 576.3558785656259, 4835.799596165072, 3376.8795596791724, 2956.5696101477115, 2991.78266472427, 7969.468190257212], \"Category\": [\"Default\", \"Default\", \"Default\", \"Default\", \"Default\", \"Default\", \"Default\", \"Default\", \"Default\", \"Default\", \"Default\", \"Default\", \"Default\", \"Default\", \"Default\", \"Default\", \"Default\", \"Default\", \"Default\", \"Default\", \"Default\", \"Default\", \"Default\", \"Default\", \"Default\", \"Default\", \"Default\", \"Default\", \"Default\", \"Default\", \"Topic1\", \"Topic1\", \"Topic1\", \"Topic1\", \"Topic1\", \"Topic1\", \"Topic1\", \"Topic1\", \"Topic1\", \"Topic1\", \"Topic1\", \"Topic1\", \"Topic1\", \"Topic1\", \"Topic1\", \"Topic1\", \"Topic1\", \"Topic1\", \"Topic1\", \"Topic1\", \"Topic1\", \"Topic1\", \"Topic1\", \"Topic1\", \"Topic1\", \"Topic1\", \"Topic1\", \"Topic1\", \"Topic1\", \"Topic1\", \"Topic1\", \"Topic1\", \"Topic1\", \"Topic1\", \"Topic1\", \"Topic1\", \"Topic1\", \"Topic1\", \"Topic1\", \"Topic1\", \"Topic1\", \"Topic1\", \"Topic1\", \"Topic1\", \"Topic1\", \"Topic1\", \"Topic1\", \"Topic1\", \"Topic1\", \"Topic1\", \"Topic1\", \"Topic1\", \"Topic1\", \"Topic1\", \"Topic1\", \"Topic1\", \"Topic1\", \"Topic1\", \"Topic1\", \"Topic1\", \"Topic1\", \"Topic1\", \"Topic1\", \"Topic1\", \"Topic1\", \"Topic1\", \"Topic1\", \"Topic1\", \"Topic1\", \"Topic1\", \"Topic1\", \"Topic1\", \"Topic1\", \"Topic1\", \"Topic1\", \"Topic1\", \"Topic1\", \"Topic1\", \"Topic1\", \"Topic1\", \"Topic1\", \"Topic2\", \"Topic2\", \"Topic2\", \"Topic2\", \"Topic2\", \"Topic2\", \"Topic2\", \"Topic2\", \"Topic2\", \"Topic2\", \"Topic2\", \"Topic2\", \"Topic2\", \"Topic2\", \"Topic2\", \"Topic2\", \"Topic2\", \"Topic2\", \"Topic2\", \"Topic2\", \"Topic2\", \"Topic2\", \"Topic2\", \"Topic2\", \"Topic2\", \"Topic2\", \"Topic2\", \"Topic2\", \"Topic2\", \"Topic2\", \"Topic2\", \"Topic2\", \"Topic2\", \"Topic2\", \"Topic2\", \"Topic2\", \"Topic2\", \"Topic2\", \"Topic2\", \"Topic2\", \"Topic2\", \"Topic2\", \"Topic2\", \"Topic2\", \"Topic2\", \"Topic2\", \"Topic2\", \"Topic2\", \"Topic2\", \"Topic2\", \"Topic2\", \"Topic2\", \"Topic2\", \"Topic2\", \"Topic2\", \"Topic2\", \"Topic2\", \"Topic2\", \"Topic2\", \"Topic2\", \"Topic2\", \"Topic2\", \"Topic2\", \"Topic2\", \"Topic2\", \"Topic2\", \"Topic2\", \"Topic2\", \"Topic2\", \"Topic2\", \"Topic2\", \"Topic2\", \"Topic2\", \"Topic2\", \"Topic2\", \"Topic2\", \"Topic2\", \"Topic2\", \"Topic2\", \"Topic2\", \"Topic2\", \"Topic2\", \"Topic2\", \"Topic2\", \"Topic2\", \"Topic2\", \"Topic2\", \"Topic2\", \"Topic3\", \"Topic3\", \"Topic3\", \"Topic3\", \"Topic3\", \"Topic3\", \"Topic3\", \"Topic3\", \"Topic3\", \"Topic3\", \"Topic3\", \"Topic3\", \"Topic3\", \"Topic3\", \"Topic3\", \"Topic3\", \"Topic3\", \"Topic3\", \"Topic3\", \"Topic3\", \"Topic3\", \"Topic3\", \"Topic3\", \"Topic3\", \"Topic3\", \"Topic3\", \"Topic3\", \"Topic3\", \"Topic3\", \"Topic3\", \"Topic3\", \"Topic3\", \"Topic3\", \"Topic3\", \"Topic3\", \"Topic3\", \"Topic3\", \"Topic3\", \"Topic3\", \"Topic3\", \"Topic3\", \"Topic3\", \"Topic3\", \"Topic3\", \"Topic3\", \"Topic3\", \"Topic3\", \"Topic3\", \"Topic3\", \"Topic3\", \"Topic3\", \"Topic3\", \"Topic3\", \"Topic3\", \"Topic3\", \"Topic3\", \"Topic3\", \"Topic3\", \"Topic3\", \"Topic3\", \"Topic3\", \"Topic3\", \"Topic3\", \"Topic3\", \"Topic3\", \"Topic3\", \"Topic3\", \"Topic3\", \"Topic3\", \"Topic3\", \"Topic3\", \"Topic3\", \"Topic3\", \"Topic3\", \"Topic3\", \"Topic3\", \"Topic3\", \"Topic3\", \"Topic3\", \"Topic3\", \"Topic3\", \"Topic3\", \"Topic3\", \"Topic3\", \"Topic3\", \"Topic3\", \"Topic3\", \"Topic4\", \"Topic4\", \"Topic4\", \"Topic4\", \"Topic4\", \"Topic4\", \"Topic4\", \"Topic4\", \"Topic4\", \"Topic4\", \"Topic4\", \"Topic4\", \"Topic4\", \"Topic4\", \"Topic4\", \"Topic4\", \"Topic4\", \"Topic4\", \"Topic4\", \"Topic4\", \"Topic4\", \"Topic4\", \"Topic4\", \"Topic4\", \"Topic4\", \"Topic4\", \"Topic4\", \"Topic4\", \"Topic4\", \"Topic4\", \"Topic4\", \"Topic4\", \"Topic4\", \"Topic4\", \"Topic4\", \"Topic4\", \"Topic4\", \"Topic4\", \"Topic4\", \"Topic4\", \"Topic4\", \"Topic4\", \"Topic4\", \"Topic4\", \"Topic4\", \"Topic4\", \"Topic4\", \"Topic4\", \"Topic4\", \"Topic4\", \"Topic4\", \"Topic4\", \"Topic4\", \"Topic4\", \"Topic4\", \"Topic4\", \"Topic4\", \"Topic4\", \"Topic4\", \"Topic4\", \"Topic4\", \"Topic4\", \"Topic4\", \"Topic4\", \"Topic4\", \"Topic4\", \"Topic4\", \"Topic4\", \"Topic4\", \"Topic4\", \"Topic4\", \"Topic4\", \"Topic4\", \"Topic4\", \"Topic4\", \"Topic4\", \"Topic4\", \"Topic4\", \"Topic4\", \"Topic4\", \"Topic4\", \"Topic4\", \"Topic4\", \"Topic5\", \"Topic5\", \"Topic5\", \"Topic5\", \"Topic5\", \"Topic5\", \"Topic5\", \"Topic5\", \"Topic5\", \"Topic5\", \"Topic5\", \"Topic5\", \"Topic5\", \"Topic5\", \"Topic5\", \"Topic5\", \"Topic5\", \"Topic5\", \"Topic5\", \"Topic5\", \"Topic5\", \"Topic5\", \"Topic5\", \"Topic5\", \"Topic5\", \"Topic5\", \"Topic5\", \"Topic5\", \"Topic5\", \"Topic5\", \"Topic5\", \"Topic5\", \"Topic5\", \"Topic5\", \"Topic5\", \"Topic5\", \"Topic5\", \"Topic5\", \"Topic5\", \"Topic5\", \"Topic5\", \"Topic5\", \"Topic5\", \"Topic5\", \"Topic5\", \"Topic5\", \"Topic5\", \"Topic5\", \"Topic5\", \"Topic5\", \"Topic5\", \"Topic5\", \"Topic5\", \"Topic5\", \"Topic5\", \"Topic5\", \"Topic5\", \"Topic5\", \"Topic5\", \"Topic5\", \"Topic5\", \"Topic5\", \"Topic5\", \"Topic5\", \"Topic5\", \"Topic5\", \"Topic5\", \"Topic5\", \"Topic5\", \"Topic5\", \"Topic5\", \"Topic5\", \"Topic5\", \"Topic5\", \"Topic5\", \"Topic5\", \"Topic5\", \"Topic6\", \"Topic6\", \"Topic6\", \"Topic6\", \"Topic6\", \"Topic6\", \"Topic6\", \"Topic6\", \"Topic6\", \"Topic6\", \"Topic6\", \"Topic6\", \"Topic6\", \"Topic6\", \"Topic6\", \"Topic6\", \"Topic6\", \"Topic6\", \"Topic6\", \"Topic6\", \"Topic6\", \"Topic6\", \"Topic6\", \"Topic6\", \"Topic6\", \"Topic6\", \"Topic6\", \"Topic6\", \"Topic6\", \"Topic6\", \"Topic6\", \"Topic6\", \"Topic6\", \"Topic6\", \"Topic6\", \"Topic6\", \"Topic6\", \"Topic6\", \"Topic6\", \"Topic6\", \"Topic6\", \"Topic6\", \"Topic6\", \"Topic6\", \"Topic6\", \"Topic6\", \"Topic6\", \"Topic6\", \"Topic6\", \"Topic6\", \"Topic6\", \"Topic6\", \"Topic6\", \"Topic6\", \"Topic6\", \"Topic6\", \"Topic6\", \"Topic6\", \"Topic6\", \"Topic6\", \"Topic6\", \"Topic6\", \"Topic6\", \"Topic6\", \"Topic6\", \"Topic6\", \"Topic6\", \"Topic6\", \"Topic6\", \"Topic6\", \"Topic6\", \"Topic6\", \"Topic6\", \"Topic6\", \"Topic6\", \"Topic6\", \"Topic6\", \"Topic6\", \"Topic6\", \"Topic6\", \"Topic6\", \"Topic6\", \"Topic6\", \"Topic6\", \"Topic6\", \"Topic6\", \"Topic6\", \"Topic7\", \"Topic7\", \"Topic7\", \"Topic7\", \"Topic7\", \"Topic7\", \"Topic7\", \"Topic7\", \"Topic7\", \"Topic7\", \"Topic7\", \"Topic7\", \"Topic7\", \"Topic7\", \"Topic7\", \"Topic7\", \"Topic7\", \"Topic7\", \"Topic7\", \"Topic7\", \"Topic7\", \"Topic7\", \"Topic7\", \"Topic7\", \"Topic7\", \"Topic7\", \"Topic7\", \"Topic7\", \"Topic7\", \"Topic7\", \"Topic7\", \"Topic7\", \"Topic7\", \"Topic7\", \"Topic7\", \"Topic7\", \"Topic7\", \"Topic7\", \"Topic7\", \"Topic7\", \"Topic7\", \"Topic7\", \"Topic7\", \"Topic7\", \"Topic7\", \"Topic7\", \"Topic7\", \"Topic7\", \"Topic7\", \"Topic7\", \"Topic7\", \"Topic7\", \"Topic7\", \"Topic7\", \"Topic7\", \"Topic7\", \"Topic7\", \"Topic7\", \"Topic7\", \"Topic7\", \"Topic7\", \"Topic7\", \"Topic7\", \"Topic7\", \"Topic7\", \"Topic7\", \"Topic7\", \"Topic7\", \"Topic7\", \"Topic7\", \"Topic7\", \"Topic7\", \"Topic7\", \"Topic7\", \"Topic7\", \"Topic7\", \"Topic7\", \"Topic7\"], \"logprob\": [30.0, 29.0, 28.0, 27.0, 26.0, 25.0, 24.0, 23.0, 22.0, 21.0, 20.0, 19.0, 18.0, 17.0, 16.0, 15.0, 14.0, 13.0, 12.0, 11.0, 10.0, 9.0, 8.0, 7.0, 6.0, 5.0, 4.0, 3.0, 2.0, 1.0, -6.1668, -6.2185, -6.5409, -6.5737, -6.7609, -6.8046, -6.8188, -6.843, -6.941, -7.0618, -7.0667, -7.4316, -7.6565, -7.7286, -7.7693, -7.7902, -7.8562, -7.8749, -7.8854, -7.9144, -7.9146, -7.928, -7.9343, -8.0193, -8.0267, -8.0741, -8.1617, -8.1632, -8.1806, -8.0305, -7.2344, -7.2106, -7.9579, -7.4655, -7.5613, -6.1729, -5.2595, -4.7575, -5.4678, -4.3889, -3.4756, -3.7106, -3.7674, -6.627, -6.0503, -4.7096, -5.517, -4.8824, -5.0718, -3.9961, -5.8709, -5.799, -4.1981, -5.7564, -5.2031, -5.5771, -4.1706, -4.4226, -3.9273, -4.1392, -3.7589, -4.8989, -4.6005, -4.8935, -5.1589, -4.6283, -4.0033, -4.6606, -5.2291, -5.0662, -4.5611, -4.98, -4.5165, -4.4213, -4.8635, -4.7192, -5.0756, -5.0483, -5.0092, -4.928, -5.0488, -5.0214, -5.7497, -6.7151, -6.7614, -6.828, -6.7559, -7.0673, -7.0764, -7.1501, -7.17, -7.2972, -7.3237, -7.3311, -7.4345, -7.4531, -7.4687, -7.5179, -7.5189, -7.5294, -7.4909, -7.5944, -7.596, -7.5975, -7.6201, -6.6929, -7.7365, -7.745, -7.7774, -7.7807, -7.8497, -7.0775, -6.9598, -7.5655, -6.2214, -6.3644, -6.8409, -7.1915, -6.9402, -7.0225, -7.2721, -6.6123, -5.6154, -6.0725, -5.6384, -6.9327, -6.8788, -6.3254, -5.7616, -6.9038, -6.0505, -4.0338, -4.6347, -5.3818, -5.3105, -5.8157, -5.1019, -6.8193, -4.2054, -5.6632, -6.6533, -5.3172, -4.771, -4.1842, -5.7477, -4.9058, -5.8679, -4.4223, -4.8037, -4.428, -4.5326, -5.2752, -5.4358, -4.6737, -4.6649, -4.6013, -5.0248, -5.4002, -5.0022, -5.2105, -5.3232, -5.1228, -5.297, -5.1692, -5.1536, -5.1416, -5.2506, -5.3016, -5.3219, -3.5499, -6.2973, -7.1392, -7.1527, -7.238, -7.3116, -7.3507, -7.3615, -7.398, -7.4772, -7.4885, -7.5574, -7.5668, -7.5872, -7.4787, -7.6332, -7.0244, -7.7972, -7.814, -7.8203, -7.8252, -7.8811, -7.8821, -7.9318, -7.961, -7.9647, -8.0092, -8.0118, -8.0503, -8.0797, -6.2626, -6.8248, -7.2336, -7.8314, -7.1786, -7.1037, -7.5416, -7.675, -7.3113, -4.5464, -7.083, -5.1199, -5.7874, -6.2325, -6.7801, -5.28, -5.9078, -5.5938, -5.7738, -5.3474, -6.3854, -4.6358, -3.8332, -4.1344, -6.2636, -5.0345, -5.7551, -4.8832, -5.9945, -3.5233, -6.3861, -6.3468, -5.489, -4.6624, -5.8591, -4.5306, -4.827, -5.1255, -5.6713, -3.9377, -4.8918, -3.9404, -4.4178, -5.3647, -4.2803, -4.9615, -4.6505, -4.9826, -4.8783, -4.9705, -5.1985, -4.7917, -4.8605, -4.9572, -5.15, -5.2998, -5.2898, -5.5397, -6.0316, -6.4448, -6.4606, -6.3807, -6.708, -6.8616, -7.0321, -6.9907, -7.0982, -7.2344, -7.2874, -7.3325, -7.4178, -7.4451, -7.4549, -7.4911, -7.4931, -7.5107, -7.5558, -7.5734, -7.5841, -7.6939, -7.6714, -7.7656, -7.7884, -7.8604, -7.8945, -7.9455, -7.9732, -7.6858, -7.7107, -7.2496, -7.7236, -6.8152, -7.4604, -7.3883, -6.6881, -6.1043, -7.1844, -4.5987, -6.4954, -5.8256, -4.9801, -5.9018, -5.8696, -3.9706, -5.2189, -4.0992, -3.2186, -6.0987, -4.5377, -4.0142, -6.3865, -5.1083, -4.5332, -3.9872, -5.7691, -3.587, -4.7744, -3.8235, -5.0474, -6.0892, -5.1672, -4.994, -4.3968, -4.1948, -4.8442, -4.6036, -5.5494, -4.7517, -4.485, -4.6966, -5.1898, -4.8821, -4.5103, -5.165, -5.0474, -4.5066, -4.9229, -4.8048, -4.825, -5.0119, -5.9184, -6.0876, -6.5343, -6.7004, -6.7164, -6.7312, -6.9464, -6.4301, -7.0647, -7.1845, -7.1997, -7.2167, -7.2559, -7.3083, -7.3112, -7.3241, -7.4718, -7.4921, -7.5076, -7.5203, -7.632, -7.6339, -7.6599, -7.6712, -6.6938, -7.5741, -7.7328, -7.4212, -7.7529, -7.827, -3.7483, -4.2867, -4.9223, -4.4328, -5.3701, -5.3848, -6.0391, -6.9228, -4.6913, -5.0621, -5.4159, -5.9042, -6.4943, -4.756, -7.0598, -4.341, -5.7566, -5.1078, -6.0753, -6.2094, -4.6246, -4.8881, -5.9226, -4.5396, -4.2449, -4.0957, -5.3007, -5.3545, -3.7626, -4.2837, -3.8898, -3.77, -4.5086, -4.6699, -4.1586, -4.3922, -4.4742, -4.187, -5.0092, -4.5142, -4.5299, -4.6056, -4.6877, -4.6681, -4.7686, -4.9532, -4.9848, -5.0227, -5.598, -6.0547, -6.558, -6.673, -6.6955, -6.5843, -6.8314, -6.6846, -6.9757, -7.0009, -7.1041, -7.2376, -7.2767, -7.3025, -7.3921, -7.4485, -7.5195, -7.3478, -7.4505, -7.6761, -7.7078, -7.7189, -7.2569, -7.8389, -7.8698, -7.8937, -7.7531, -7.9365, -7.9686, -7.8215, -7.8455, -6.5993, -6.3081, -7.1199, -6.1661, -6.8975, -7.0457, -6.2026, -5.717, -6.3424, -5.651, -6.8088, -6.8128, -7.039, -6.3359, -6.339, -6.4042, -5.7887, -6.3844, -4.5573, -5.3226, -5.5559, -5.7392, -4.7916, -3.3154, -5.5563, -5.3318, -4.2164, -4.8038, -4.0444, -4.5464, -4.5645, -5.124, -4.8538, -5.5964, -4.0625, -4.8209, -5.2513, -4.3421, -4.9201, -4.398, -5.3636, -5.3752, -4.8258, -5.2479, -5.1415, -5.3038, -4.8955, -5.2498, -4.9472, -5.2109, -5.054, -5.2164, -5.2482, -5.2921, -5.3025, -4.8504, -5.0898, -5.7605, -5.8326, -5.909, -6.1716, -6.2225, -6.3392, -6.3739, -6.3841, -6.3975, -6.447, -6.4656, -6.5292, -6.5391, -6.5423, -6.555, -6.5956, -6.6796, -6.74, -6.7446, -6.7539, -6.7551, -6.8311, -6.923, -7.0162, -7.0331, -7.0977, -6.7302, -7.1383, -3.4102, -6.2258, -5.8915, -6.6369, -6.734, -5.5404, -5.8122, -5.2252, -5.8403, -4.8972, -5.4754, -5.75, -5.8059, -5.4787, -5.8157, -5.8178, -3.2901, -5.9551, -5.9761, -3.5811, -4.7747, -3.9992, -6.0259, -6.0484, -5.6918, -4.7955, -4.5605, -4.2818, -4.4347, -4.804, -4.7157, -4.4402, -4.6555, -4.9719, -4.7532, -5.2635, -4.9503, -4.8737, -4.943, -5.0339, -5.1708, -5.0692, -5.5501, -5.3618, -5.3972, -5.4041, -5.4153, -5.4005], \"loglift\": [30.0, 29.0, 28.0, 27.0, 26.0, 25.0, 24.0, 23.0, 22.0, 21.0, 20.0, 19.0, 18.0, 17.0, 16.0, 15.0, 14.0, 13.0, 12.0, 11.0, 10.0, 9.0, 8.0, 7.0, 6.0, 5.0, 4.0, 3.0, 2.0, 1.0, 1.1267, 1.1267, 1.1267, 1.1266, 1.1266, 1.1266, 1.1266, 1.1266, 1.1266, 1.1265, 1.1265, 1.1264, 1.1263, 1.1262, 1.1262, 1.1262, 1.1262, 1.1262, 1.1261, 1.1261, 1.1261, 1.1261, 1.1261, 1.126, 1.126, 1.126, 1.1259, 1.1259, 1.1259, 1.1259, 1.125, 1.1225, 1.1254, 1.1203, 1.12, 1.0809, 1.0455, 1.0239, 1.0003, 0.9261, 0.8599, 0.8676, 0.8652, 1.0355, 0.9917, 0.8776, 0.9477, 0.8772, 0.8815, 0.7649, 0.9378, 0.917, 0.6751, 0.8774, 0.7784, 0.8414, 0.5429, 0.5461, 0.4197, 0.4696, 0.3457, 0.6295, 0.5384, 0.6138, 0.6873, 0.4899, 0.1468, 0.4173, 0.6541, 0.5609, 0.2604, 0.4739, 0.0645, -0.0617, 0.2853, -0.2106, 0.4978, 0.3477, 0.1851, -0.3487, 0.0834, 1.9047, 1.9046, 1.9043, 1.9043, 1.9042, 1.9042, 1.9041, 1.9041, 1.904, 1.904, 1.9039, 1.9039, 1.9038, 1.9038, 1.9038, 1.9038, 1.9037, 1.9037, 1.9037, 1.9037, 1.9036, 1.9036, 1.9036, 1.9036, 1.9036, 1.9035, 1.9035, 1.9034, 1.9034, 1.9033, 1.9028, 1.9014, 1.903, 1.887, 1.8852, 1.8864, 1.8946, 1.8798, 1.8817, 1.8845, 1.835, 1.7359, 1.773, 1.7299, 1.8474, 1.8394, 1.7655, 1.667, 1.8297, 1.6625, 1.2673, 1.3315, 1.4704, 1.3222, 1.4668, 1.1239, 1.7941, 0.6438, 1.2795, 1.7214, 1.1159, 0.7575, 0.3243, 1.1986, 0.5855, 1.1842, 0.1059, 0.3663, -0.0684, 0.0079, 0.6465, 0.7805, -0.0944, -0.3295, -0.4512, 0.1074, 0.6025, -0.129, 0.2276, 0.4358, -0.1541, 0.2764, -0.5883, -0.8065, -1.037, -0.4896, -0.1834, -0.244, 2.0565, 2.0561, 2.0557, 2.0557, 2.0556, 2.0555, 2.0555, 2.0555, 2.0554, 2.0553, 2.0553, 2.0552, 2.0552, 2.0552, 2.0552, 2.055, 2.055, 2.0549, 2.0549, 2.0549, 2.0549, 2.0548, 2.0548, 2.0547, 2.0546, 2.0546, 2.0545, 2.0545, 2.0544, 2.0544, 2.0516, 2.0513, 2.0525, 2.0537, 2.0447, 2.0404, 2.0492, 2.0466, 2.0238, 1.8463, 2.0035, 1.825, 1.876, 1.9151, 1.9582, 1.7503, 1.8226, 1.7645, 1.7308, 1.647, 1.8297, 1.4626, 1.285, 1.3374, 1.7963, 1.4814, 1.6142, 1.3282, 1.6606, 0.8363, 1.7726, 1.757, 1.4487, 1.0622, 1.5508, 0.9734, 1.0978, 1.195, 1.4315, 0.5708, 0.8474, 0.1643, 0.4314, 1.112, -0.1303, 0.5741, 0.1709, 0.5087, 0.2916, 0.3873, 0.593, -0.4447, -0.3322, -0.4167, 0.2023, 0.2344, -0.4166, 2.1154, 2.1153, 2.1152, 2.1152, 2.1152, 2.1151, 2.115, 2.1149, 2.1149, 2.1148, 2.1147, 2.1147, 2.1146, 2.1145, 2.1145, 2.1145, 2.1144, 2.1144, 2.1144, 2.1144, 2.1143, 2.1143, 2.1142, 2.1141, 2.1141, 2.114, 2.1139, 2.1139, 2.1138, 2.1137, 2.1134, 2.1131, 2.1083, 2.1114, 2.0879, 2.1058, 2.1032, 2.0762, 2.0464, 2.0812, 1.7945, 1.9779, 1.8762, 1.7453, 1.8792, 1.8509, 1.5395, 1.7119, 1.4954, 1.3219, 1.8598, 1.4965, 1.3382, 1.8883, 1.5367, 1.3317, 1.1616, 1.6889, 0.9413, 1.2283, 0.7575, 1.2317, 1.7445, 1.2755, 1.1381, 0.7976, 0.6267, 0.9791, 0.6974, 1.4067, 0.6865, 0.3642, 0.4356, 1.0127, 0.6092, 0.0689, 0.8676, 0.565, -0.402, 0.216, -0.1961, -0.478, -0.1388, 2.1233, 2.1232, 2.1231, 2.123, 2.123, 2.123, 2.1228, 2.1228, 2.1227, 2.1226, 2.1226, 2.1226, 2.1226, 2.1225, 2.1225, 2.1225, 2.1223, 2.1223, 2.1223, 2.1223, 2.1221, 2.1221, 2.1221, 2.1221, 2.1221, 2.122, 2.122, 2.122, 2.122, 2.1218, 2.1168, 2.1175, 2.1201, 2.1133, 2.118, 2.1171, 2.1165, 2.1194, 2.0868, 2.0923, 2.0803, 2.0651, 2.0877, 2.0119, 2.1085, 1.9343, 2.0115, 1.9316, 1.9795, 1.9655, 1.6784, 1.549, 1.8068, 1.3497, 1.2091, 1.0224, 1.5345, 1.5367, 0.8166, 1.0553, 0.8237, 0.577, 0.9986, 0.9458, 0.4223, 0.5766, 0.6038, -0.0824, 0.8886, 0.0639, -0.0213, -0.0774, 0.0732, -0.0593, -0.1359, -0.104, 0.1541, 2.2641, 2.264, 2.2639, 2.2636, 2.2636, 2.2636, 2.2636, 2.2635, 2.2634, 2.2634, 2.2633, 2.2632, 2.2631, 2.2631, 2.263, 2.2629, 2.2629, 2.2628, 2.2627, 2.2626, 2.2625, 2.2625, 2.2624, 2.2622, 2.2622, 2.2622, 2.2621, 2.2621, 2.262, 2.2619, 2.2618, 2.2617, 2.2423, 2.2359, 2.2518, 2.2323, 2.2348, 2.2387, 2.195, 2.1689, 2.2007, 2.0904, 2.1872, 2.1841, 2.2112, 2.0788, 2.0772, 2.0717, 1.931, 2.0544, 1.542, 1.7132, 1.7688, 1.8253, 1.4247, 0.8346, 1.6756, 1.5573, 0.9535, 1.1583, 0.4839, 0.8059, 0.7932, 1.1301, 0.8853, 1.4604, 0.0422, 0.683, 1.0421, 0.1665, 0.6745, -0.0383, 1.0746, 1.0362, 0.0234, 0.7863, 0.4856, 0.8318, -0.355, 0.5767, -0.6001, 0.3929, -0.4452, 0.2554, 0.2431, 0.218, 0.2317, 2.8985, 2.8984, 2.8982, 2.8982, 2.8981, 2.8979, 2.8979, 2.8978, 2.8978, 2.8978, 2.8978, 2.8977, 2.8977, 2.8976, 2.8976, 2.8976, 2.8976, 2.8976, 2.8975, 2.8974, 2.8974, 2.8974, 2.8974, 2.8973, 2.8972, 2.897, 2.897, 2.8969, 2.8968, 2.8968, 2.8932, 2.8964, 2.8917, 2.8959, 2.8927, 2.8362, 2.8302, 2.7666, 2.7856, 2.6204, 2.6304, 2.69, 2.6761, 2.5106, 2.6077, 2.5735, 1.2891, 2.5308, 2.5139, 0.569, 1.5186, 0.6095, 2.5422, 2.5531, 2.1151, 0.996, 0.5174, 0.0778, 0.2788, 0.8231, 0.6366, -0.3356, -0.0745, 0.3859, -0.2127, 0.9236, -0.1288, -0.5383, -0.4345, -0.1847, 0.3331, -0.541, 1.7092, -0.2296, 0.0941, 0.2201, 0.1971, -0.7679]}, \"token.table\": {\"Topic\": [1, 2, 5, 6, 1, 2, 3, 4, 5, 6, 7, 6, 3, 7, 3, 6, 1, 2, 4, 5, 7, 1, 3, 7, 1, 2, 4, 5, 7, 1, 2, 3, 4, 5, 6, 7, 5, 6, 1, 2, 3, 4, 5, 6, 7, 1, 2, 3, 4, 7, 1, 4, 6, 7, 6, 6, 1, 2, 4, 5, 1, 2, 3, 4, 5, 6, 7, 6, 6, 1, 5, 7, 6, 2, 5, 1, 2, 3, 4, 5, 6, 1, 4, 1, 2, 5, 4, 1, 2, 3, 4, 5, 6, 7, 1, 2, 3, 4, 5, 6, 7, 1, 2, 3, 4, 5, 6, 7, 1, 2, 3, 5, 7, 4, 1, 2, 3, 4, 5, 6, 7, 4, 4, 3, 2, 1, 2, 3, 4, 5, 6, 7, 2, 7, 1, 2, 3, 4, 5, 6, 7, 6, 1, 2, 3, 4, 5, 6, 7, 6, 4, 2, 7, 5, 2, 3, 1, 2, 3, 2, 3, 6, 7, 1, 2, 3, 4, 5, 6, 7, 1, 2, 3, 4, 5, 6, 7, 1, 2, 3, 4, 5, 6, 7, 5, 1, 2, 3, 4, 5, 6, 7, 1, 2, 3, 4, 5, 6, 7, 1, 2, 3, 5, 6, 7, 6, 1, 2, 3, 4, 7, 2, 2, 1, 1, 2, 3, 4, 5, 6, 7, 7, 4, 4, 1, 2, 3, 4, 5, 6, 7, 1, 1, 2, 3, 4, 5, 6, 1, 1, 2, 3, 4, 5, 6, 7, 6, 1, 2, 3, 4, 6, 7, 1, 2, 3, 4, 5, 6, 7, 1, 5, 1, 5, 1, 2, 3, 4, 5, 6, 7, 5, 6, 7, 1, 3, 4, 5, 6, 1, 4, 1, 2, 3, 4, 5, 6, 7, 1, 2, 6, 1, 2, 3, 4, 5, 7, 1, 4, 6, 1, 2, 3, 4, 5, 6, 7, 2, 1, 3, 4, 7, 1, 2, 4, 1, 2, 7, 1, 2, 3, 4, 5, 6, 7, 1, 2, 3, 4, 5, 6, 7, 3, 1, 2, 6, 1, 2, 4, 5, 6, 7, 4, 2, 5, 1, 2, 3, 4, 5, 6, 7, 7, 1, 7, 1, 2, 3, 4, 5, 7, 1, 2, 3, 4, 5, 6, 7, 1, 2, 2, 3, 4, 6, 2, 1, 2, 3, 4, 5, 6, 7, 3, 1, 5, 7, 4, 1, 2, 3, 4, 5, 6, 7, 1, 2, 3, 4, 5, 6, 7, 7, 4, 6, 1, 7, 1, 2, 3, 4, 5, 6, 7, 1, 5, 6, 1, 2, 3, 4, 5, 6, 7, 2, 4, 2, 3, 4, 2, 4, 5, 7, 1, 2, 3, 6, 1, 2, 4, 5, 7, 5, 7, 7, 6, 4, 1, 2, 5, 1, 2, 4, 7, 1, 2, 3, 4, 5, 6, 7, 7, 4, 6, 7, 1, 2, 3, 4, 5, 6, 7, 6, 7, 5, 1, 2, 3, 4, 5, 6, 7, 5, 5, 7, 2, 3, 5, 7, 3, 7, 2, 3, 4, 6, 7, 4, 5, 6, 7, 1, 2, 3, 4, 5, 6, 7, 1, 2, 3, 4, 5, 6, 7, 4, 3, 3, 5, 5, 1, 2, 3, 4, 5, 6, 7, 1, 5, 7, 6, 5, 4, 4, 1, 2, 3, 4, 5, 6, 7, 1, 2, 3, 4, 5, 6, 7, 1, 2, 3, 4, 5, 7, 4, 1, 1, 4, 1, 2, 3, 5, 6, 7, 3, 1, 2, 4, 5, 6, 7, 1, 4, 2, 6, 3, 3, 1, 2, 3, 4, 5, 6, 7, 1, 7, 1, 2, 3, 4, 5, 6, 7, 5, 1, 1, 2, 3, 4, 5, 7, 5, 6, 7, 4, 6, 1, 2, 3, 4, 5, 6, 7, 2, 5, 7, 6, 3, 5, 1, 3, 5, 5, 1, 2, 3, 4, 5, 6, 7, 3, 1, 6, 1, 2, 3, 1, 3, 6, 1, 2, 3, 4, 5, 6, 7, 1, 2, 3, 4, 5, 6, 7, 1, 2, 3, 5, 5, 4, 5, 4, 1, 1, 2, 7, 1, 2, 4, 6, 3, 4, 5, 5, 1, 2, 3, 4, 5, 6, 7, 2, 6, 3, 5, 1, 2, 4, 5, 6, 7, 2, 7, 1, 7, 4, 5, 3, 1, 2, 3, 4, 5, 6, 7, 1, 5, 1, 2, 3, 4, 5, 6, 7, 1, 4, 1, 2, 3, 4, 5, 6, 7, 2, 3, 4, 7, 1, 2, 6, 7, 6, 4, 1, 2, 3, 4, 5, 7, 1, 2, 3, 4, 5, 6, 7, 1, 2, 3, 4, 5, 6, 7, 1, 3, 4, 5, 1, 2, 3, 4, 5, 6, 7, 3, 7, 2, 3, 5, 7, 6, 2, 1, 5, 2, 2, 1, 2, 3, 4, 5, 6, 7, 4, 1, 2, 3, 4, 5, 6, 7, 2, 5, 2, 1, 3, 6, 1, 3, 5, 7, 1, 2, 3, 4, 5, 6, 7, 1, 2, 3, 4, 5, 6, 7, 1, 2, 2, 4, 5, 6, 7, 4, 1, 2, 3, 4, 5, 6, 7, 2, 3, 7, 4, 1, 7, 2, 6, 1, 2, 3, 4, 5, 6, 7, 5, 7, 6, 1, 2, 3, 4, 5, 6, 7, 4, 6, 1, 2, 3, 4, 5, 6, 7, 4, 1, 2, 3, 4, 5, 6, 7, 3, 1, 4, 5, 6, 2, 3, 4, 6, 7, 1, 2, 3, 4, 5, 6, 7, 1, 5, 6, 2, 5, 2, 1, 7, 1, 2, 3, 4, 5, 6, 7, 4, 1, 2, 3, 4, 5, 6, 7, 6, 2, 1, 2, 3, 4, 5, 6, 7, 7, 2, 1, 2, 3, 4, 5, 6, 7, 1, 2, 1, 2, 1, 1, 3, 4, 2, 7, 7, 2, 6, 1, 2, 4, 1, 2, 3, 4, 5, 6, 7, 6, 1, 1, 2, 1, 2, 3, 6, 7, 7, 2, 2, 4, 7, 3, 3, 1, 2, 3, 4, 5, 6, 7, 1, 2, 3, 4, 7, 1, 2, 3, 4, 5, 6, 7, 7, 1, 3, 5, 7, 2, 5, 6, 2, 1, 2, 1, 2, 5, 7, 1, 7, 2, 1, 2, 3, 4, 5, 7, 1, 2, 3, 4, 5, 6, 7, 3, 4, 5, 6, 5, 7, 3, 1, 2, 3, 5, 6, 7, 1, 2, 3, 4, 5, 1, 2, 3, 4, 5, 6, 7, 4, 5, 2, 6, 5, 1, 2, 3, 4, 5, 6, 7, 1, 3, 1, 5, 5, 2, 1, 5, 7, 1, 3, 4, 7, 3, 1, 2, 3, 4, 5, 6, 7, 2, 4, 1, 2, 3, 4, 5, 6, 7, 2, 3, 4, 1, 2, 3, 4, 5, 6, 7, 1, 2, 3, 4, 5, 6, 7, 1, 2, 3, 4, 5, 6, 7, 2, 1, 2, 3, 4, 5, 6, 7, 3, 1, 2, 3, 4, 5, 6, 7, 1, 2, 3, 4, 5, 6, 7, 1, 2, 3, 4, 5, 6, 7, 1, 2, 3, 4, 5, 6, 7, 6, 2, 6, 1, 2, 3, 4, 5, 6, 7, 3, 5, 6, 7, 1, 2, 3, 4, 6, 7, 1, 2, 3, 4, 5, 6, 7, 1, 2, 3, 5, 6, 3, 1, 2, 3, 4, 5, 6, 7, 1, 2, 3, 4, 5, 6, 7, 5, 1, 2, 3, 4, 5, 6, 7, 5, 1, 4, 1, 6, 1, 2, 3, 4, 5, 6, 7, 1, 3, 6, 1, 2, 3, 4, 5, 6, 7, 1, 2, 3, 4, 5, 6, 7, 3, 1, 3, 2, 3, 2, 1, 2, 3, 4, 5, 6, 1, 2, 3, 4, 5, 6, 7, 1, 2, 3, 4, 5, 6, 7, 1, 2, 5, 7, 7, 1, 7, 1, 7, 5, 2, 1, 5, 4, 1, 1, 2, 3, 4, 5, 6, 7, 1, 2, 3, 4, 5, 6, 7, 1, 2, 3, 4, 5, 6, 7, 1, 2, 5, 6, 7, 1, 2, 3, 4, 5, 6, 7, 3, 2, 2, 1, 2, 3, 4, 5, 6, 1, 2, 3, 4, 5, 6, 7, 2, 1, 2, 3, 4, 5, 6, 7, 1, 3, 1, 2, 3, 4, 5, 6, 7, 1, 7, 1, 2, 6, 7, 1, 2, 3, 4, 5, 6, 7, 7, 1, 2, 3, 4, 5, 6, 7, 5, 2, 5, 6, 1, 2, 3, 4, 5, 6, 7, 1, 2, 3, 4, 5, 6, 7, 1, 2, 3, 4, 5, 3, 7, 6, 1, 2, 3, 4, 5, 6, 7, 1, 2, 3, 4, 5, 6, 7, 1, 2, 3, 4, 5, 6, 7, 1, 2, 3, 4, 5, 6, 7, 3, 1, 2, 3, 4, 5, 6, 7, 1, 2, 3, 4, 5, 6, 7, 5, 4, 7, 1, 2, 3, 5, 7, 1, 2, 3, 4, 5, 6, 7, 1, 2, 3, 4, 5, 6, 7, 1, 3, 1, 2, 3, 4, 5, 6, 7, 3, 3, 1], \"Freq\": [0.007811521698706866, 0.007811521698706866, 0.9686286906396514, 0.014060739057672359, 0.04320126639636941, 0.021600633198184706, 0.007200211066061569, 0.1908055932506316, 0.0036001055330307846, 0.05400158299546177, 0.6768198402097875, 1.0012973457242644, 0.9959842738957945, 0.9948524454727034, 1.001704752746654, 1.0125675170135706, 0.26421728402609457, 0.5347555557083158, 0.14917530868458928, 0.04171851853043598, 0.010113580249802662, 0.02100117065021832, 0.5220290990197125, 0.4560254198333121, 0.05137832605480722, 0.7891710882018389, 0.053433459096999515, 0.08426045472988385, 0.022606463464115177, 0.08001626959631458, 0.08613216281386729, 0.015289733043881766, 0.5381986031446382, 0.03873399037783381, 0.22832668012196772, 0.013251101971364197, 0.42319262023771936, 0.5758194668808313, 0.48600884406672396, 0.0951563519032744, 0.07381287110253996, 0.026679351000918058, 0.29080492591000684, 0.01378433135047433, 0.013339675500459029, 0.006641287525633953, 0.2125212008202865, 0.06641287525633953, 0.006641287525633953, 0.710617765242833, 0.03790912828797844, 0.005415589755425491, 0.9314814379331845, 0.027077948777127457, 1.000852519869256, 0.994885953844051, 0.04310611772153827, 0.15805576497897367, 0.7950683935305948, 0.9883203628331773, 0.3456727633091079, 0.08269455282196514, 0.05969736450115927, 0.25713954609481376, 0.18242847315623723, 0.02120984207825619, 0.05111810253692081, 1.0073841925799494, 0.9862644192505298, 1.0001428985457392, 0.9921328701972107, 1.0004973977589982, 0.9974895970726053, 0.10677858529081967, 0.8946313902744351, 0.2898377237460042, 0.10121317337162052, 0.02683682627277817, 0.43168951975926023, 0.012268263438984305, 0.13801796368857344, 1.0016394692597084, 0.9985908661501623, 0.9952427003542933, 0.14737576220523937, 0.8539125045421222, 0.9967544330284682, 0.14681023306353183, 0.2045644088332696, 0.02733403738720413, 0.10933614954881651, 0.46115166301637933, 0.02292532167959056, 0.027774908957965486, 0.06357366491117351, 0.4579772753795219, 0.019751041525801483, 0.29441396274397835, 0.03024378233638352, 0.09196578710451314, 0.04197096324232815, 0.12198723983879517, 0.15002370678110738, 0.08433826994483305, 0.45213094240438995, 0.07415359419844209, 0.07289481405001175, 0.0445150434308549, 0.004251444541068013, 0.0008502889082136027, 0.004251444541068013, 0.9897362891606335, 0.0008502889082136027, 0.996379489094462, 0.12242217408532001, 0.16549036275245474, 0.09178837059767299, 0.3090509916429039, 0.11066602809744071, 0.16854243911469263, 0.03210332173613193, 0.9987190716566541, 0.995736596992361, 1.0056699706651053, 0.999213536184796, 0.38992118256986014, 0.08625795912380653, 0.04554948351690804, 0.26757570993507335, 0.11640423565432055, 0.055671590965109825, 0.0387280632800764, 0.1227070856139168, 0.876994758946523, 0.021538892463827636, 0.15077224724679344, 0.7931380401385941, 0.008868955720399615, 0.013936930417770823, 0.0012669936743428022, 0.010135949394742418, 0.9877656977631224, 0.10081483471805829, 0.8445620116003374, 0.0038043333855871052, 0.015217333542348421, 0.017119500235141975, 0.015217333542348421, 0.0038043333855871052, 1.0004996750701654, 0.9938762004853989, 0.30186422933607265, 0.700068106332594, 1.0000200208728451, 1.0020945009898574, 0.9973204542338296, 0.6082409767424083, 0.31749011064927124, 0.07437812853545367, 0.016528789412102136, 0.0881535435312114, 0.8319490670758075, 0.06611515764840854, 0.8808578182519033, 0.013370163312752105, 0.012583683117884334, 0.006291841558942167, 0.04561585130233071, 0.005505361364074396, 0.03539160876904969, 0.5206156701343773, 0.03252065007962685, 0.002282150882780832, 0.02738581059336998, 0.4008027487883836, 0.006275914927647288, 0.010269678972513744, 0.5678195022876341, 0.056985469763633535, 0.0596990635619018, 0.011193574417856587, 0.009836777518722455, 0.16892121394219942, 0.1255037131699072, 1.00000046851254, 0.0615150685723767, 0.4541482840281638, 0.17771019809797714, 0.01822668698440791, 0.04708560804305377, 0.208088009738657, 0.032656147513730846, 0.045032595345500345, 0.31828122473006176, 0.28622412295868865, 0.0045795859673390185, 0.03587342341082231, 0.3045424668280447, 0.005342850295228855, 0.09278257100003293, 0.09883360823916551, 0.6030867115002141, 0.006051037239132582, 0.14724190615222618, 0.05244232273914905, 0.9953770873896478, 0.002189209777069578, 0.11091996203819196, 0.13646074277067038, 0.7253581728023869, 0.025540780732478414, 1.0082434909010665, 1.0025020659659676, 1.003070367516996, 0.7796819184188756, 0.05383518008130331, 0.013922891400337064, 0.009281927600224709, 0.11509590224278639, 0.02320481900056177, 0.005569156560134825, 0.9998233824105109, 1.0055397890377515, 0.9952696853970244, 0.2057601039846938, 0.12398626682130212, 0.4622974784274538, 0.06138135906778279, 0.04506737659129567, 0.07463646982992858, 0.027121995867159836, 1.0009647944810676, 0.12115431972320297, 0.019496097426722318, 0.011140627100984181, 0.019496097426722318, 0.8257989838604525, 0.0013925783876230227, 1.0024495260011852, 0.5330048307888773, 0.1960994853927715, 0.02314616876767139, 0.049185608631301704, 0.12473213169245138, 0.05175740516104297, 0.021860270502800757, 1.001374298316703, 0.0032468050521535716, 0.07467651619953214, 0.0032468050521535716, 0.0032468050521535716, 0.909105414603, 0.009740415156460715, 0.5289300669382846, 0.03486778775884605, 0.019778803582503317, 0.03384826180098506, 0.3325693674542568, 0.02650767490438589, 0.023449097030802904, 0.004362293591518957, 0.9946029388663221, 0.005902393298815035, 0.9938154716879815, 0.5552179365933, 0.028520756397931044, 0.04684065831776996, 0.14968192591322935, 0.13948107143513722, 0.053294260130440495, 0.027063491472489314, 0.996787760758423, 0.9717957891050304, 0.025078601009162076, 0.19572113755376092, 0.049230470182234344, 0.042026011131175656, 0.5559440901066951, 0.15729735594811461, 0.016171250140797767, 0.9864462585886637, 0.2009432739577977, 0.5637839724313566, 0.01095188459959561, 0.06571130759757365, 0.09713845470945671, 0.019999093616652853, 0.04190286281584407, 0.1464249989825715, 0.0292849997965143, 0.8258369942617033, 0.011116799270715213, 0.1750895885137646, 0.7920719480384589, 0.00833759945303641, 0.005558399635357606, 0.00833759945303641, 0.017425649177855333, 0.9932620031377539, 0.9918588818634404, 0.13631954052001513, 0.062055910236723306, 0.01119041004268781, 0.6907534926350021, 0.0071211700271649695, 0.08036749030657608, 0.01322503005044923, 0.999232266903065, 0.22852872278901307, 0.5626591658559816, 0.10972678747631313, 0.09817659932091174, 0.038081748539033615, 0.025387832359355746, 0.9351184919029366, 0.015062666523145623, 0.9790733240044656, 1.0056048506862543, 0.8739708313641671, 0.07259821602386053, 0.004188358616761184, 0.0013961195389203948, 0.03211074939516908, 0.009772836772442763, 0.006980597694601974, 0.779172984582447, 0.03098103318419272, 0.01549051659209636, 0.08016342336409867, 0.06041301470917581, 0.025559352376958996, 0.008132521210850589, 0.9968122457413183, 1.0008285931135708, 1.0049485404916427, 0.9889458477455986, 0.9219598534716642, 0.045429905823241426, 0.003340434251708928, 0.016034084408202857, 0.004008521102050714, 0.009353215904785, 0.997796012691489, 0.9989780547457232, 0.9971710134008915, 0.012472047402316423, 0.8761613300127288, 0.009354035551737317, 0.018708071103474635, 0.024944094804632846, 0.0530062014598448, 0.003118011850579106, 0.9954519059406561, 0.3076266430513509, 0.6921599468655395, 0.006246462347879193, 0.2586035412021986, 0.04122665149600267, 0.6683714712230736, 0.00874504728703087, 0.01749009457406174, 0.05349221202116512, 0.11160720779724576, 0.266800662426552, 0.018491135019662017, 0.0033019883963682174, 0.294537364956045, 0.2516115158032582, 0.01797684562317536, 0.979738086463057, 0.016554031772276802, 0.022072042363035737, 0.13243225417821441, 0.8277015886138401, 0.9977753188632474, 0.26256599209891435, 0.20592976501468252, 0.2263232401291613, 0.029703539840653884, 0.11704081370048694, 0.12269335299852183, 0.035688581450337875, 0.9853100703983056, 0.10606599200012685, 0.09428088177789053, 0.8013874951120695, 1.0000362984429445, 0.12981519069826605, 0.11906986171429325, 0.48731519013800995, 0.07434605999721725, 0.041819658748434706, 0.134171405151228, 0.013649471952614104, 0.0009386705740270236, 0.02909878779483773, 0.1342298920858644, 0.5603863326941331, 0.0018773411480540471, 0.22528093776648567, 0.04693352870135118, 0.999452934562784, 0.02629420354841311, 0.9728855312912851, 1.0006139753620942, 0.9999579044938585, 0.5987563011915271, 0.03490237735588802, 0.006318533831669382, 0.03159266915834691, 0.3246522859224411, 0.0036105907609539326, 0.0003008825634128277, 0.008442991059012585, 0.008442991059012585, 0.9793869628454598, 0.05478430507529748, 0.2674066350432088, 0.2126223299679113, 0.22180240271025845, 0.050638465772301994, 0.13237072631707011, 0.06041080127221992, 0.8687624113151395, 0.1315099062999982, 0.0993090555582441, 0.029208545752424736, 0.8704146634222572, 0.116143541001911, 0.7859946611989791, 0.010804050325759162, 0.0864324026060733, 0.010395622725634221, 0.01819233976985989, 0.8342487237321463, 0.13514309543324488, 0.2280817057585065, 0.5581511661244752, 0.02225187373253722, 0.05192103870925351, 0.13907421082835764, 1.004973837282081, 1.0030239200141615, 0.9962621509158713, 0.9903257610113262, 1.0036966936066771, 0.0038441496771181587, 0.1307010890220174, 0.8649336773515858, 0.11645559941500655, 0.831069504916183, 0.052934363370457524, 0.005293436337045752, 0.3260861624221359, 0.08085876385264346, 0.10074206643935905, 0.1103523293562716, 0.16900807198708262, 0.15376420667060067, 0.05898713100725629, 1.0032953172504389, 0.010606116834417721, 0.053030584172088606, 0.9386413398459683, 0.23212347972630018, 0.07527518528591905, 0.33858838321833706, 0.03778754321125817, 0.03358892729889615, 0.2057321797057389, 0.07677469096890548, 1.0029211174089472, 0.9997486750670918, 1.0003565726703756, 0.6364825017238817, 0.13087152743570285, 0.08426849571469647, 0.10501642079596643, 0.022663118165694884, 0.0033515878977436095, 0.01723673775982428, 0.9994383223451341, 0.9902374093164368, 0.9967568686892823, 0.027671631651507766, 0.027671631651507766, 0.006917907912876942, 0.9339175682383871, 1.0080495813152994, 0.9917541189289, 0.037673253939850625, 0.17760248285929578, 0.0269094670998933, 0.03229136051987196, 0.7211737182771405, 1.0055795705438855, 0.005419783860998305, 0.9701413111186965, 0.027098919304991524, 0.06327918447696003, 0.0760567121117308, 0.4825037816368202, 0.04441711987325079, 0.21721796979110317, 0.08822578604960772, 0.027988870057116935, 0.08616772024733864, 0.2834341467086962, 0.19695478913677403, 0.1735819897930113, 0.10782651430589212, 0.10642414634526635, 0.04581068671377497, 0.9903429101311338, 1.0001830837941574, 0.004252029065327507, 0.9949748012866366, 0.9965543830761158, 0.7656747478396431, 0.10710497751007425, 0.008669071286716193, 0.029549415031064872, 0.03989637108295194, 0.0169652792922833, 0.03215945799910846, 0.9925359401674987, 0.007192289421503613, 0.9984816340905518, 0.9985603816586962, 0.9963398598908505, 0.9981290604595796, 1.0003595472820483, 0.32025579319126496, 0.025783305384042516, 0.42271050669101284, 0.012213144655599088, 0.05495915095019589, 0.11534636619176915, 0.04885257862239635, 0.1804072688461713, 0.1255243346489927, 0.5520897143003315, 0.04510181721154283, 0.028799955568816506, 0.05596972497336038, 0.012498093926090182, 0.304632891833744, 0.48656642445667436, 0.01551371208412585, 0.033848099092638216, 0.11846834682423377, 0.04089978640360451, 1.0013713437738463, 1.0007073566941673, 0.03870356506693217, 0.9675891266733043, 0.019789761353539725, 0.0087954494904621, 0.00439772474523105, 0.9587039944603689, 0.0065965871178465755, 0.00439772474523105, 1.0008314765002018, 0.013956917470873213, 0.4935673541972436, 0.2930952668883375, 0.09135436890026102, 0.06090291260017402, 0.046945995129300803, 1.002661912419643, 1.00539181547466, 0.07889721413775339, 0.9270422661186023, 0.9954669929823191, 0.9995875966501779, 0.1308105386725839, 0.18796077401497494, 0.2628910825749987, 0.03429014120543462, 0.016510067987801854, 0.3219463257621361, 0.04508518565899736, 0.005336338576836265, 0.994560102257859, 0.35216513135708266, 0.1656396184480465, 0.05769469856055553, 0.18631872187476892, 0.11435544194977494, 0.07961454819288129, 0.04383969926465151, 0.9921665606654678, 0.9956364616010287, 0.01921931541715056, 0.36004184214795387, 0.07175211089069543, 0.4920144746790544, 0.03459476775087101, 0.023063178500580674, 0.011290756481444368, 0.9710050574042157, 0.011290756481444368, 0.05081811928372528, 0.952839736569849, 0.3073954117771894, 0.14777540896444702, 0.17259265321801828, 0.04399420572223995, 0.05076254506412302, 0.2385839618013782, 0.03891795121582765, 0.10508809389424256, 0.8948410419479442, 1.0025596763865312, 1.0049161788735663, 0.9964358279695824, 0.0049821791398479125, 0.0013966876818623526, 0.0013966876818623526, 0.9958383171678574, 1.002899899814564, 0.22174215986655038, 0.14433806696203785, 0.3698195549882265, 0.04001081130812966, 0.07029936940119978, 0.12825895587559322, 0.025427431485540348, 1.0030463601985564, 0.9937654355216415, 0.006537930496852905, 0.9982978209492116, 0.9929419635307631, 0.9948780691964566, 0.053928766303417745, 0.9491462869401524, 0.9936676884331982, 0.2529785901460544, 0.21616010989005585, 0.17993547608979923, 0.07304311405625513, 0.010689236203354411, 0.12886468089599484, 0.13896007064360733, 0.10775308046351954, 0.19841429299144633, 0.2571211437267432, 0.04087185810685224, 0.054991227271037564, 0.2927911289836324, 0.04830310503537083, 0.15982006120887765, 0.6446075802091399, 0.13140760588285497, 0.06392802448355106, 1.0057670429050292, 0.9968549684814902, 1.0046988023557326, 1.0032296780641337, 0.9990642243355917, 0.9139586926411336, 0.031157682703675006, 0.05712241829007085, 0.03360369000991571, 0.8938581542637579, 0.03360369000991571, 0.04032442801189885, 0.9966813329975818, 1.0000816011642224, 1.0058844720254922, 1.00083858234943, 0.09978408295424428, 0.044348481312997456, 0.7228802454018586, 0.004434848131299745, 0.03547878505039796, 0.09313181075729465, 0.004434848131299745, 0.9833458038757229, 0.023137548326487595, 0.9963536033820087, 0.008739943889315866, 0.9024143140787249, 0.032851047398479896, 0.02770570262522401, 0.0035621617661002296, 0.00039579575178891443, 0.03364263890205772, 0.9952301713490812, 0.9965623029509362, 0.9977060937498388, 1.0029538276108532, 1.0035721869843082, 1.0022461101332159, 1.0000837268079334, 0.35905185668813666, 0.12752531461682096, 0.2271931575940451, 0.12102523790091503, 0.03497660328082711, 0.09471540357462915, 0.03528613074348929, 0.9987461341030451, 0.9956789180987506, 0.45872490269524924, 0.07268528387776838, 0.05787902234711185, 0.15560034844944487, 0.11791168273504647, 0.09610609757171595, 0.04091912277563256, 0.039075722156685325, 0.961262765054459, 0.03292455982225943, 0.08174373473112687, 0.09650302016869144, 0.06130780104834515, 0.5551761983822366, 0.09763834981773487, 0.07493175683686629, 0.016871509745539057, 0.8688827518952615, 0.012653632309154294, 0.10122905847323435, 0.1908543038959826, 0.4285546642027973, 0.07634172155839304, 0.30363184710724506, 1.0025321028643188, 1.0040418193222738, 0.7826206691942293, 0.023972164641985403, 0.0023502122198024904, 0.0023502122198024904, 0.16498489783013484, 0.023972164641985403, 0.07924726194293602, 0.16855766825957819, 0.5446676892268459, 0.026415753980978673, 0.008805251326992891, 0.1647839891194384, 0.008805251326992891, 0.01239857264993523, 0.021150506285183626, 0.8102831890634141, 0.003646639014686832, 0.0014586556058747329, 0.09481261438185765, 0.05615824082617722, 0.02252020685266199, 0.010723908025077139, 0.0021447816050154276, 0.9640793314544348, 0.8282079353769046, 0.03317254747838069, 0.0022115031652253795, 0.011057515826126896, 0.11168090984388165, 0.009951764243514207, 0.003317254747838069, 1.009741625106392, 0.9968355736554398, 0.048543465587185135, 0.1415851079626233, 0.04449817678825304, 0.7645595829981658, 1.0026992875312537, 0.9996054241868897, 0.032565273927933916, 0.963932108266844, 0.9956125211640153, 1.0009367175537103, 0.6444366318781231, 0.06038954020876252, 0.029561313388904727, 0.05489958200796592, 0.16047570125405425, 0.002956131338890473, 0.047298101422247565, 0.9944038268193681, 0.4918039978884857, 0.11653659049926285, 0.037017505217412906, 0.03682164540144776, 0.21877541443306991, 0.006463373926849872, 0.09244583313554969, 0.924532975164168, 0.06820325226620912, 0.9988464543420261, 1.0029125543356052, 0.9681246664006364, 0.0276607047543039, 0.03477349462422302, 0.7727443249827338, 0.015454886499654676, 0.17773119474602878, 0.3453641391516484, 0.040722040288030184, 0.05309329303376087, 0.45954049261745455, 0.0500004798473282, 0.02680438094908316, 0.024484771059258656, 0.1559403306379249, 0.1574579980893889, 0.2986010710755399, 0.04135643805239371, 0.06639795100154953, 0.25193279694302223, 0.028835681577815797, 0.05557567737099207, 0.9447865153068652, 0.027733074219759866, 0.6902454028029122, 0.00308145269108443, 0.265004931433261, 0.01232581076433772, 0.9981174235007791, 0.7716692936951053, 0.020794907052147125, 0.005228433773111277, 0.04456051511174384, 0.12750248723973637, 0.007723822619368932, 0.022458499616318895, 0.20305817746459526, 0.798695498027408, 0.9992695934432719, 1.0031527752247529, 0.18644800778528245, 0.8135913066994144, 0.9919086659439192, 0.010781615934173035, 0.3426268052418323, 0.11567459762359984, 0.08793975257934492, 0.18636462950468866, 0.08692506312650632, 0.11195406962985834, 0.0686606529754116, 0.9832317367707138, 0.01170513972346088, 0.9955886007532958, 0.14712762304117352, 0.12953627680798974, 0.23148612429575943, 0.17631326565531935, 0.045177775553403826, 0.12074060369139783, 0.14912663965858078, 0.9959186569830903, 0.9926274265758298, 0.3087444397109478, 0.05849259892961315, 0.1236183791811412, 0.3316590660957447, 0.09346755499061896, 0.009045247257156674, 0.07477404399249517, 0.9968311681351344, 0.8180905049166114, 0.058842928578220606, 0.002234541591577998, 0.0327732766764773, 0.08267803888838592, 0.000496564798128444, 0.004965647981284439, 0.9963211525914974, 0.2387765791992908, 0.030541190362699984, 0.7274356250024906, 0.9838418286276952, 0.02443906974086272, 0.16758219250877293, 0.7750676403530747, 0.02443906974086272, 0.0069825913545322055, 0.34235559934380144, 0.03126186987326472, 0.004574907786331422, 0.022112054300601876, 0.5627136577187649, 0.019824600407436162, 0.016774661883215216, 0.13748143044159275, 0.1457303162680883, 0.7176530669051141, 0.998376585664522, 0.99465496410227, 0.9999190070520695, 0.999282574494539, 1.0067747119188568, 0.21981109684387037, 0.1113228532667667, 0.15667660830137536, 0.093284427968911, 0.0822036810002282, 0.23269568634233875, 0.10410748314762443, 0.9920259637895615, 0.11433252249760747, 0.32465545158411535, 0.0519693284080034, 0.012839481136094956, 0.04279827045364985, 0.43165112771824, 0.021399135226824927, 1.005568624345735, 0.9966887292817751, 0.02319637575787321, 0.18814838114719382, 0.6726948969783231, 0.0077321252526244034, 0.010309500336832539, 0.08505337777886844, 0.010309500336832539, 1.0053655091898528, 0.9998194318530813, 0.5182359787301682, 0.052313655536118636, 0.049618338389058665, 0.09911416236234187, 0.1127132625134172, 0.06652532776607124, 0.10131942184630004, 0.059704471443753244, 0.9403454252391137, 0.016222199016639675, 0.9814430405067004, 1.0011044747064815, 0.9542504930043012, 0.025883828924167303, 0.018981474544389355, 0.25008015272938544, 0.7502404581881563, 0.986166182026322, 0.06896939453192451, 0.926160440857272, 0.009341733300710066, 0.9808819965745569, 0.009341733300710066, 0.2286317172175973, 0.1354898677996063, 0.027240719689297494, 0.12918524708548942, 0.2706228702757721, 0.008921633086014463, 0.1999635362345375, 1.0115011728977985, 0.9952961242339065, 0.9995838784065177, 0.9945208364436011, 0.02354453036450887, 0.18600178987962007, 0.06357023198417394, 0.645120131987543, 0.08005140323933015, 1.004237242795101, 0.993594096074696, 0.8397780664187937, 0.10642348767980105, 0.05417923009153507, 1.0040081777393284, 0.9905981405431341, 0.42042224126108274, 0.05774364596988916, 0.1517096840311261, 0.22567004947287392, 0.0725963423086008, 0.023491509515309237, 0.048498600289670686, 0.13448486113986308, 0.06431884663210842, 0.005847167875646221, 0.7893676632122397, 0.0029235839378231104, 0.21654042782481742, 0.1883860318552427, 0.20784568789303698, 0.1001965268328983, 0.05713686240884283, 0.1850737499764692, 0.04512984059828891, 1.0041834031905423, 0.2769693921962485, 0.6430338336304511, 0.06778971137670418, 0.013557942275340837, 0.9749882109730633, 0.024787835872196524, 0.9969847732694777, 1.0013012443533642, 0.998258272519246, 0.9960428613766992, 0.003873337948938319, 0.0012911126496461063, 0.9932959984610712, 0.0012911126496461063, 1.0000714107916864, 0.9943449345654483, 1.0039341705522211, 0.8364043838264361, 0.021948756089166084, 0.0015677682920832918, 0.075252878019998, 0.040761975594165584, 0.024300408527291022, 0.13206446324786675, 0.21473896463067763, 0.17114695481065006, 0.08782823653394715, 0.0816008065596575, 0.2697121395761311, 0.04294779292613553, 0.9973722589539306, 0.9989854436071228, 0.9422987014491702, 0.05646733791455701, 0.320770666518442, 0.6831227157337191, 0.994117040146239, 0.015325966741774723, 0.14368093820413805, 0.7471408786615178, 0.003831491685443681, 0.04406215438260233, 0.04406215438260233, 0.04264936039404177, 0.07676884870927518, 0.7548936789745393, 0.06823897663046682, 0.059709104551658475, 0.5594565970432452, 0.12766005839624586, 0.02950053619060427, 0.034417292222371644, 0.21282529680364506, 0.008955519915004867, 0.027217756604426557, 0.9972780749077136, 1.0044351022965694, 0.014345849341883004, 0.9898636045899273, 1.0031734073264273, 0.6963177704873438, 0.0913016539872772, 0.009558141901793082, 0.0415137207973401, 0.1286782685883188, 0.005421035705494584, 0.02724783736182804, 0.9994684139715166, 0.9950921455792585, 0.9998318365466459, 1.0016235340977488, 1.0034741969166716, 0.9989854597993406, 0.00442302890858164, 0.9929699899765783, 1.0041464670145528, 0.9981743202854129, 0.9869363735169789, 1.0001681730183039, 0.9982979379905027, 1.0053073798518306, 0.37528865460666205, 0.09479020083337894, 0.11229231307875773, 0.04584624092594798, 0.035081667465294654, 0.23937623429409663, 0.09734581899310239, 0.9962488892635057, 1.0028935695127048, 0.02700978652912369, 0.10803914611649476, 0.0827174712454413, 0.15193004922632075, 0.035450344819474844, 0.5553887355051059, 0.0388265681356153, 0.011426231935095803, 0.9826559464182391, 0.9988510970596313, 0.7058582964081331, 0.05511496287022409, 0.013537008424265567, 0.0628503962555187, 0.1474566989071785, 0.004351181279228218, 0.011119685491361001, 0.7793365579195136, 0.02966107351345702, 0.000977837588355726, 0.008474592432416292, 0.17112157796225205, 0.00162972931392621, 0.008800538295201533, 0.030777793312176126, 0.15660465420607264, 0.03500219631580814, 0.5621473425547463, 0.05461549597552822, 0.12914603468246452, 0.03168302252724013, 1.0006173523114243, 0.23610118081965753, 0.07378161900614298, 0.08497607154500605, 0.28698505599630786, 0.17504053060767713, 0.08344955528970655, 0.05902529520491438, 0.9839314304973599, 0.4930255997473593, 0.06648489820617604, 0.08195088871087515, 0.07478372237942922, 0.21303458872021513, 0.057054416191115606, 0.01376850374198823, 0.002116385211681136, 0.15237973524104179, 0.0656079415621152, 0.6518466451977898, 0.008465540846724543, 0.1121684162191002, 0.008465540846724543, 0.05652110584106239, 0.09285610245317392, 0.7428488196253914, 0.00403722184579017, 0.01614888738316068, 0.08478165876159358, 0.00807444369158034, 0.3175746880794628, 0.18700684550037333, 0.10417348300396173, 0.239514773591319, 0.09518816910604588, 0.017409045677211934, 0.03902995724407191, 1.0101558215504731, 0.9943124036972795, 1.000690309426631, 0.007614775831128328, 0.07832340854874852, 0.11095816211072707, 0.2801149680736492, 0.0119660763060588, 0.4857139155141141, 0.02556389029021653, 0.012528872251132589, 0.03132218062783147, 0.9396654188349441, 0.012528872251132589, 0.14311754840384108, 0.08502032578446006, 0.2706480370805312, 0.012753048867669009, 0.4477737157981563, 0.041093157462489024, 0.0028097600619072104, 0.09553184210484515, 0.019668320433350473, 0.030907360680979313, 0.0028097600619072104, 0.8401182585102559, 0.005619520123814421, 0.003704825872003757, 0.381597064816387, 0.0018524129360018785, 0.003704825872003757, 0.609443855944618, 0.9950177740755057, 0.0383458750870128, 0.057518812630519195, 0.29837884052081837, 0.0790883673669639, 0.02516448052585215, 0.4937031417452898, 0.00838816017528405, 0.11264703966341638, 0.13803228803827078, 0.38871161573995794, 0.11185375065170218, 0.06028996489027919, 0.09995441547598918, 0.08805508030027619, 1.0025349241489603, 0.17004520698480455, 0.1877926436361312, 0.07222793986005047, 0.32110478406353865, 0.08832445217171886, 0.13083575391792, 0.029716638113849336, 0.9965570427224674, 0.02693558738714761, 0.969681145937314, 1.0038334319658193, 1.0050784002405255, 0.06023414702937741, 0.16607414823814057, 0.142840977241095, 0.45648878570121026, 0.06840878126907864, 0.047757073716149234, 0.058082927492613935, 0.09137133781947979, 0.9060991000431745, 0.9819908468120184, 0.7698129729032767, 0.0335028628794091, 0.005772028810684715, 0.05521071036307118, 0.10439843414108005, 0.005772028810684715, 0.025597692986514823, 0.45787952138461446, 0.05276678499227899, 0.15075167044778726, 0.08066731506533535, 0.11012198607084311, 0.10841983171625347, 0.03937157028876918, 1.005684148759844, 0.2635798353741465, 0.7369195397371425, 0.9989888072853084, 1.0087354948498513, 1.0035227690810775, 0.005334106185570354, 0.08934627860830344, 0.04000579639177766, 0.03800550657218878, 0.6407595055416389, 0.1860269532217661, 0.8102298545983447, 0.0987593603863654, 0.008061988602968605, 0.010077485753710754, 0.03829444586410087, 0.023178217233534738, 0.010077485753710754, 0.6231332175178312, 0.06310209797648923, 0.031989258001970236, 0.07843941345688593, 0.14680001959808262, 0.018842987590201647, 0.03768597518040329, 0.00648552988342658, 0.16343535306234983, 0.8275536131252316, 0.001945658965027974, 0.9895145923684383, 0.24263203019991839, 0.7571017979386343, 1.0005481531136813, 0.995114885852933, 0.9965479124119603, 1.0027636771768518, 0.997977269025019, 0.9975031432366219, 0.9899103795416095, 0.9947743879134561, 0.4235333399522323, 0.1612981286753949, 0.042588071396621935, 0.022467722705304487, 0.307841334977157, 0.021797044415593905, 0.02012034869131745, 0.18362410488782888, 0.6478812757363018, 0.004619474336800726, 0.06698237788361053, 0.06351777213101, 0.0011548685842001816, 0.032336320357605086, 0.25825888860223933, 0.0013312313845476255, 0.6642844608892652, 0.0013312313845476255, 0.030618321844595387, 0.009318619691833379, 0.034612015998238266, 0.11852256921528101, 0.005643931867394334, 0.011287863734788668, 0.8127261889047841, 0.050795386806549006, 0.2430459244239843, 0.10442164983247938, 0.18837354696826927, 0.08887500221474053, 0.0645185876136163, 0.22983127394890623, 0.08110167840587108, 1.006759039583035, 0.9998853005944626, 0.9981259849141908, 0.002751587267798917, 0.055031745355978344, 0.15684047426453826, 0.7676928477158979, 0.011006349071195668, 0.008254761803396751, 0.30464148938202823, 0.13904639766151508, 0.29518709833224116, 0.043165502570745064, 0.05834982759010007, 0.09998734776896036, 0.05959131328350646, 0.9915034775773113, 0.012477017808730681, 0.11918835433076941, 0.06074337617408358, 0.5378251360710752, 0.04005779401750377, 0.20390073840057246, 0.025939063339203258, 0.012367779885427378, 0.9894223908341903, 0.04148081429168182, 0.27209438898472244, 0.04049317585616559, 0.4118452276102695, 0.031110610718761367, 0.17975019526395455, 0.024197141670147727, 1.0001293466817383, 0.9975468956875568, 0.13655574332822323, 0.7838299667040013, 0.07920233113036947, 0.9958234395437588, 0.17123083699227493, 0.2841703252212222, 0.04144150576142824, 0.2563908543261989, 0.03369968600379879, 0.17942805791211788, 0.03324428484158529, 1.0043038692263997, 0.2211017606806821, 0.16673996414968795, 0.3832735066344882, 0.03837303284540764, 0.05116404379387685, 0.09547576029393091, 0.04431171650005406, 0.9951835145961312, 0.933505409299349, 0.06830527385117188, 0.9998319360684572, 0.1927270907295876, 0.23026630318093297, 0.08281846870709185, 0.049149278157947035, 0.21633422433301097, 0.1563488848489024, 0.07314341395159048, 0.4310065485210697, 0.04709534969205835, 0.02438866323338736, 0.3851726814100486, 0.09061649873784441, 0.006727907098865478, 0.01492754387560778, 0.7513938850410231, 0.22377168488771507, 0.0074840028390540155, 0.014219605394202629, 0.0037420014195270078, 1.0039326396801922, 0.9883765615589432, 1.0018331001438252, 0.3323801669325117, 0.12511938954154228, 0.06993461813805717, 0.07934400312390487, 0.3435697058346009, 0.021361846994897463, 0.028482462659863286, 0.04302902423413636, 0.24630406975402191, 0.5356371637421802, 0.004451278369048589, 0.004451278369048589, 0.0949606052063699, 0.07122045390477742, 0.5576412483742421, 0.03741189151083596, 0.012107848525325092, 0.045574486022291076, 0.2724946134407434, 0.0019046053860061942, 0.07278313439380814, 0.014974272641369305, 0.11133046181191962, 0.17904021636419823, 0.4134201359682395, 0.05273548191090929, 0.20898876164693683, 0.02018271529923689, 1.010572333248808, 0.09377038127724896, 0.5285907393670509, 0.012241564135411092, 0.2421381385984314, 0.03452121086185928, 0.07149073455080078, 0.016893358506867306, 0.21050196795906415, 0.14528035967806188, 0.16166303853537525, 0.09520500166136821, 0.1990650034737699, 0.13106143085850688, 0.05718482242647117, 0.9968574983810486, 0.007964072948673176, 0.9955091185841469, 1.002346035812939, 0.06805203709952087, 0.027220814839808347, 0.013610407419904174, 0.8914816860037235, 0.41413436029591716, 0.08857595276708478, 0.08088822856465856, 0.21224803776263712, 0.08489921510505485, 0.052811322781884516, 0.0671840245516379, 0.12534317489702973, 0.14389171647372023, 0.08655986069122233, 0.3760295246910892, 0.09499101595335438, 0.0944289389358789, 0.07869078244656576, 0.999171101572245, 0.9976540249877048, 0.12565165758092287, 0.11000447003310983, 0.14414378831924737, 0.21811231127254535, 0.006638200777860076, 0.3309617244961667, 0.06448537898492646, 0.9990365174548638, 1.0000927158507806, 0.994556339822703], \"Term\": [\"*\", \"*\", \"*\", \"*\", \"+\", \"+\", \"+\", \"+\", \"+\", \"+\", \"+\", \">\", \"abit\", \"account\", \"add\", \"admit\", \"adult\", \"adult\", \"adult\", \"adult\", \"adult\", \"age\", \"age\", \"age\", \"agent\", \"agent\", \"agent\", \"agent\", \"agent\", \"air\", \"air\", \"air\", \"air\", \"air\", \"air\", \"air\", \"airline\", \"airline\", \"airport\", \"airport\", \"airport\", \"airport\", \"airport\", \"airport\", \"airport\", \"alarm\", \"alarm\", \"alarm\", \"alarm\", \"alarm\", \"answer\", \"answer\", \"answer\", \"answer\", \"apology\", \"appearance\", \"april\", \"april\", \"april\", \"aquarium\", \"area\", \"area\", \"area\", \"area\", \"area\", \"area\", \"area\", \"arrive\", \"asian\", \"aspect\", \"atmosphere\", \"attendant\", \"aud\", \"australia\", \"australia\", \"average\", \"average\", \"average\", \"average\", \"average\", \"average\", \"awesome\", \"back\", \"bahru\", \"bakery\", \"bakery\", \"bank\", \"bar\", \"bar\", \"bar\", \"bar\", \"bar\", \"bar\", \"bar\", \"bath\", \"bath\", \"bath\", \"bath\", \"bath\", \"bath\", \"bath\", \"bathroom\", \"bathroom\", \"bathroom\", \"bathroom\", \"bathroom\", \"bathroom\", \"bathroom\", \"bay\", \"bay\", \"bay\", \"bay\", \"bay\", \"bear\", \"bed\", \"bed\", \"bed\", \"bed\", \"bed\", \"bed\", \"bed\", \"bed.\", \"bencoolen\", \"bf\", \"bidet\", \"bit\", \"bit\", \"bit\", \"bit\", \"bit\", \"bit\", \"bit\", \"boat\", \"boat\", \"booking\", \"booking\", \"booking\", \"booking\", \"booking\", \"booking\", \"booking\", \"borrow\", \"bottle\", \"bottle\", \"bottle\", \"bottle\", \"bottle\", \"bottle\", \"bottle\", \"bra\", \"brief\", \"brilliant\", \"brilliant\", \"brochure\", \"brown\", \"btw\", \"buffet\", \"buffet\", \"buffet\", \"bug\", \"bug\", \"bug\", \"bug\", \"bugis\", \"bugis\", \"bugis\", \"bugis\", \"bugis\", \"bugis\", \"bugis\", \"bus\", \"bus\", \"bus\", \"bus\", \"bus\", \"bus\", \"bus\", \"business\", \"business\", \"business\", \"business\", \"business\", \"business\", \"business\", \"caf\\ucc55\", \"call\", \"call\", \"call\", \"call\", \"call\", \"call\", \"call\", \"card\", \"card\", \"card\", \"card\", \"card\", \"card\", \"card\", \"care\", \"care\", \"care\", \"care\", \"care\", \"care\", \"carpark\", \"carpet\", \"carpet\", \"carpet\", \"carpet\", \"carpet\", \"catering\", \"caters\", \"cbd\", \"center\", \"center\", \"center\", \"center\", \"center\", \"center\", \"center\", \"cereal\", \"chang\", \"charm\", \"check\", \"check\", \"check\", \"check\", \"check\", \"check\", \"check\", \"chill\", \"chinatown\", \"chinatown\", \"chinatown\", \"chinatown\", \"chinatown\", \"chinatown\", \"chip\", \"choice\", \"choice\", \"choice\", \"choice\", \"choice\", \"choice\", \"choice\", \"christmas\", \"cigarette\", \"cigarette\", \"cigarette\", \"cigarette\", \"cigarette\", \"cigarette\", \"city\", \"city\", \"city\", \"city\", \"city\", \"city\", \"city\", \"clark\", \"clark\", \"clarke\", \"clarke\", \"clean\", \"clean\", \"clean\", \"clean\", \"clean\", \"clean\", \"clean\", \"climate\", \"climb\", \"climb\", \"club\", \"club\", \"club\", \"club\", \"club\", \"coat\", \"coat\", \"coffee\", \"coffee\", \"coffee\", \"coffee\", \"coffee\", \"coffee\", \"coffee\", \"color\", \"color\", \"color\", \"com\", \"com\", \"com\", \"com\", \"com\", \"com\", \"comeback\", \"comeback\", \"compromise\", \"con\", \"con\", \"con\", \"con\", \"con\", \"con\", \"con\", \"concept\", \"concierge\", \"concierge\", \"concierge\", \"concierge\", \"conditioning\", \"conditioning\", \"conditioning\", \"confirmation\", \"confirmation\", \"confusion\", \"convenience\", \"convenience\", \"convenience\", \"convenience\", \"convenience\", \"convenience\", \"convenience\", \"convenient\", \"convenient\", \"convenient\", \"convenient\", \"convenient\", \"convenient\", \"convenient\", \"convention\", \"cot\", \"couch\", \"cough\", \"court\", \"court\", \"court\", \"court\", \"court\", \"court\", \"courtesy\", \"criticism\", \"cubicle\", \"cup\", \"cup\", \"cup\", \"cup\", \"cup\", \"cup\", \"cup\", \"currency\", \"curry\", \"curry\", \"curtain\", \"curtain\", \"curtain\", \"curtain\", \"curtain\", \"curtain\", \"customer\", \"customer\", \"customer\", \"customer\", \"customer\", \"customer\", \"customer\", \"cut\", \"cut\", \"damp\", \"damp\", \"damp\", \"damp\", \"data\", \"day\", \"day\", \"day\", \"day\", \"day\", \"day\", \"day\", \"deliver\", \"department\", \"department\", \"department\", \"describe\", \"desk\", \"desk\", \"desk\", \"desk\", \"desk\", \"desk\", \"desk\", \"dirty\", \"dirty\", \"dirty\", \"dirty\", \"dirty\", \"dirty\", \"dirty\", \"disappoint\", \"disaster\", \"disaster\", \"discount\", \"discussion\", \"distance\", \"distance\", \"distance\", \"distance\", \"distance\", \"distance\", \"distance\", \"disturb\", \"disturb\", \"disturb\", \"door\", \"door\", \"door\", \"door\", \"door\", \"door\", \"door\", \"doorman\", \"doorman\", \"drain\", \"drain\", \"drain\", \"dust\", \"dust\", \"dust\", \"dust\", \"duty\", \"duty\", \"duty\", \"duty\", \"egg\", \"egg\", \"egg\", \"egg\", \"egg\", \"encounter\", \"error\", \"escalator\", \"escape\", \"esp\", \"europe\", \"europe\", \"europe\", \"event\", \"event\", \"event\", \"event\", \"everything\", \"everything\", \"everything\", \"everything\", \"everything\", \"everything\", \"everything\", \"exception\", \"exchange\", \"exchange\", \"exchange\", \"experience\", \"experience\", \"experience\", \"experience\", \"experience\", \"experience\", \"experience\", \"expression\", \"extension\", \"f1\", \"family\", \"family\", \"family\", \"family\", \"family\", \"family\", \"family\", \"fantastic\", \"fashion\", \"faulty\", \"fi\", \"fi\", \"fi\", \"fi\", \"file\", \"finger\", \"fire\", \"fire\", \"fire\", \"fire\", \"fire\", \"fitting\", \"fix\", \"fix\", \"fix\", \"flight\", \"flight\", \"flight\", \"flight\", \"flight\", \"flight\", \"flight\", \"floor\", \"floor\", \"floor\", \"floor\", \"floor\", \"floor\", \"floor\", \"fluffy\", \"fly\", \"flyer\", \"flyer\", \"folk\", \"food\", \"food\", \"food\", \"food\", \"food\", \"food\", \"food\", \"foodcourt\", \"foodcourt\", \"fort\", \"foyer\", \"freezing\", \"frequent\", \"fresh\", \"friend\", \"friend\", \"friend\", \"friend\", \"friend\", \"friend\", \"friend\", \"front\", \"front\", \"front\", \"front\", \"front\", \"front\", \"front\", \"fruit\", \"fruit\", \"fruit\", \"fruit\", \"fruit\", \"fruit\", \"furnishing\", \"g.\", \"gap\", \"gap\", \"garden\", \"garden\", \"garden\", \"garden\", \"garden\", \"garden\", \"gesture\", \"glass\", \"glass\", \"glass\", \"glass\", \"glass\", \"glass\", \"google\", \"government\", \"greet\", \"greet\", \"grey\", \"gripe\", \"guest\", \"guest\", \"guest\", \"guest\", \"guest\", \"guest\", \"guest\", \"gym\", \"gym\", \"ha\", \"ha\", \"ha\", \"ha\", \"ha\", \"ha\", \"ha\", \"hail\", \"halal\", \"hand\", \"hand\", \"hand\", \"hand\", \"hand\", \"hand\", \"hear\", \"hear\", \"hear\", \"hello\", \"hello\", \"help\", \"help\", \"help\", \"help\", \"help\", \"help\", \"help\", \"hill\", \"hill\", \"hilton\", \"hit\", \"honeymoon\", \"honeymoon\", \"hop\", \"hop\", \"hop\", \"host\", \"hour\", \"hour\", \"hour\", \"hour\", \"hour\", \"hour\", \"hour\", \"hv\", \"ibis\", \"ibis\", \"ice\", \"impressive\", \"in-room\", \"incident\", \"incident\", \"intention\", \"internet\", \"internet\", \"internet\", \"internet\", \"internet\", \"internet\", \"internet\", \"issue\", \"issue\", \"issue\", \"issue\", \"issue\", \"issue\", \"issue\", \"item\", \"item\", \"item\", \"item\", \"jam\", \"jet\", \"join\", \"jug\", \"juice\", \"junction\", \"junction\", \"junction\", \"kit\", \"kit\", \"kit\", \"kit\", \"knowledge\", \"kopitiam\", \"kudos\", \"l\", \"lady\", \"lady\", \"lady\", \"lady\", \"lady\", \"lady\", \"lady\", \"laksa\", \"laksa\", \"lamp\", \"lamp\", \"lavender\", \"lavender\", \"lavender\", \"lavender\", \"lavender\", \"lavender\", \"lead\", \"ledge\", \"leisure\", \"lesson\", \"library\", \"liking\", \"link\", \"lobby\", \"lobby\", \"lobby\", \"lobby\", \"lobby\", \"lobby\", \"lobby\", \"loft\", \"london\", \"lot\", \"lot\", \"lot\", \"lot\", \"lot\", \"lot\", \"lot\", \"lotion\", \"lotion\", \"lounge\", \"lounge\", \"lounge\", \"lounge\", \"lounge\", \"lounge\", \"lounge\", \"m.\", \"m.\", \"m.\", \"m.\", \"machine\", \"machine\", \"machine\", \"machine\", \"maid\", \"maintain\", \"mall\", \"mall\", \"mall\", \"mall\", \"mall\", \"mall\", \"management\", \"management\", \"management\", \"management\", \"management\", \"management\", \"management\", \"manager\", \"manager\", \"manager\", \"manager\", \"manager\", \"manager\", \"manager\", \"marina\", \"marina\", \"marina\", \"marina\", \"market\", \"market\", \"market\", \"market\", \"market\", \"market\", \"market\", \"meaning\", \"mediocre\", \"meeting\", \"meeting\", \"meeting\", \"meeting\", \"memory\", \"menu\", \"merlion\", \"merlion\", \"message\", \"mildew\", \"min\", \"min\", \"min\", \"min\", \"min\", \"min\", \"min\", \"minimal\", \"minute\", \"minute\", \"minute\", \"minute\", \"minute\", \"minute\", \"minute\", \"miss\", \"miss\", \"mix\", \"mobile\", \"moldy\", \"moldy\", \"moment\", \"moment\", \"moment\", \"moment\", \"money\", \"money\", \"money\", \"money\", \"money\", \"money\", \"money\", \"morning\", \"morning\", \"morning\", \"morning\", \"morning\", \"morning\", \"morning\", \"mother\", \"mother\", \"mould\", \"mould\", \"mould\", \"mould\", \"mould\", \"mouth\", \"mrt\", \"mrt\", \"mrt\", \"mrt\", \"mrt\", \"mrt\", \"mrt\", \"mtr\", \"mtr\", \"museum\", \"musky\", \"n\", \"n\", \"necessity\", \"necessity\", \"need\", \"need\", \"need\", \"need\", \"need\", \"need\", \"need\", \"newspaper\", \"newspaper\", \"notch\", \"nothing\", \"nothing\", \"nothing\", \"nothing\", \"nothing\", \"nothing\", \"nothing\", \"nov\", \"oct\", \"ok\", \"ok\", \"ok\", \"ok\", \"ok\", \"ok\", \"ok\", \"operate\", \"orchard\", \"orchard\", \"orchard\", \"orchard\", \"orchard\", \"orchard\", \"orchard\", \"outdoor\", \"outram\", \"outram\", \"outram\", \"overlook\", \"paint\", \"paint\", \"paint\", \"paint\", \"paint\", \"park\", \"park\", \"park\", \"park\", \"park\", \"park\", \"park\", \"party\", \"party\", \"party\", \"pastry\", \"patch\", \"pearl\", \"peninsula\", \"penny\", \"people\", \"people\", \"people\", \"people\", \"people\", \"people\", \"people\", \"perth\", \"phone\", \"phone\", \"phone\", \"phone\", \"phone\", \"phone\", \"phone\", \"photograph\", \"pickup\", \"picture\", \"picture\", \"picture\", \"picture\", \"picture\", \"picture\", \"picture\", \"pity\", \"pizza\", \"place\", \"place\", \"place\", \"place\", \"place\", \"place\", \"place\", \"plain\", \"plain\", \"plate\", \"plate\", \"play\", \"plaza\", \"plaza\", \"plaza\", \"pleasure\", \"pleasure\", \"plumbing\", \"plus\", \"plus\", \"policy\", \"policy\", \"policy\", \"pool\", \"pool\", \"pool\", \"pool\", \"pool\", \"pool\", \"pool\", \"pop\", \"port\", \"porter\", \"potato\", \"power\", \"power\", \"power\", \"power\", \"power\", \"praise\", \"pre\", \"premier\", \"premier\", \"premier\", \"presentation\", \"pretty\", \"price\", \"price\", \"price\", \"price\", \"price\", \"price\", \"price\", \"pro\", \"pro\", \"pro\", \"pro\", \"pro\", \"problem\", \"problem\", \"problem\", \"problem\", \"problem\", \"problem\", \"problem\", \"procedure\", \"process\", \"process\", \"process\", \"process\", \"product\", \"product\", \"program\", \"pub\", \"purchase\", \"quad\", \"quay\", \"quay\", \"quay\", \"quay\", \"raffle\", \"railway\", \"rang\", \"rd\", \"rd\", \"rd\", \"rd\", \"rd\", \"rd\", \"reception\", \"reception\", \"reception\", \"reception\", \"reception\", \"reception\", \"reception\", \"record\", \"refurbishment\", \"relax\", \"relax\", \"relaxing\", \"relaxing\", \"require\", \"reservation\", \"reservation\", \"reservation\", \"reservation\", \"reservation\", \"reservation\", \"response\", \"response\", \"response\", \"response\", \"response\", \"restaurant\", \"restaurant\", \"restaurant\", \"restaurant\", \"restaurant\", \"restaurant\", \"restaurant\", \"revisit\", \"rise\", \"risk\", \"risk\", \"riverside\", \"road\", \"road\", \"road\", \"road\", \"road\", \"road\", \"road\", \"robe\", \"robot\", \"roomy\", \"royal\", \"rubbish\", \"sale\", \"sand\", \"sand\", \"satisfaction\", \"sausage\", \"scratch\", \"season\", \"seating\", \"send\", \"service\", \"service\", \"service\", \"service\", \"service\", \"service\", \"service\", \"setting\", \"shabby\", \"sheet\", \"sheet\", \"sheet\", \"sheet\", \"sheet\", \"sheet\", \"sheet\", \"ship\", \"ship\", \"shoebox\", \"shop\", \"shop\", \"shop\", \"shop\", \"shop\", \"shop\", \"shop\", \"shopping\", \"shopping\", \"shopping\", \"shopping\", \"shopping\", \"shopping\", \"shopping\", \"shower\", \"shower\", \"shower\", \"shower\", \"shower\", \"shower\", \"shower\", \"sia\", \"side\", \"side\", \"side\", \"side\", \"side\", \"side\", \"side\", \"sin\", \"singapore\", \"singapore\", \"singapore\", \"singapore\", \"singapore\", \"singapore\", \"singapore\", \"sink\", \"sink\", \"sink\", \"sink\", \"sink\", \"sink\", \"sink\", \"situation\", \"situation\", \"situation\", \"situation\", \"situation\", \"situation\", \"situation\", \"size\", \"size\", \"size\", \"size\", \"size\", \"size\", \"size\", \"slip\", \"slope\", \"smartphone\", \"smell\", \"smell\", \"smell\", \"smell\", \"smell\", \"smell\", \"smell\", \"smelt\", \"smelt\", \"smelt\", \"smelt\", \"smile\", \"smile\", \"smile\", \"smile\", \"smile\", \"smile\", \"smoke\", \"smoke\", \"smoke\", \"smoke\", \"smoke\", \"smoke\", \"smoke\", \"smoking\", \"smoking\", \"smoking\", \"smoking\", \"smoking\", \"so-so\", \"someone\", \"someone\", \"someone\", \"someone\", \"someone\", \"someone\", \"someone\", \"something\", \"something\", \"something\", \"something\", \"something\", \"something\", \"something\", \"spa\", \"space\", \"space\", \"space\", \"space\", \"space\", \"space\", \"space\", \"spoil\", \"squeeze\", \"squeeze\", \"staircase\", \"stale\", \"star\", \"star\", \"star\", \"star\", \"star\", \"star\", \"star\", \"state\", \"state\", \"statement\", \"station\", \"station\", \"station\", \"station\", \"station\", \"station\", \"station\", \"stay\", \"stay\", \"stay\", \"stay\", \"stay\", \"stay\", \"stay\", \"stay.\", \"staycation\", \"staycation\", \"steam\", \"stick\", \"stock\", \"stopover\", \"stopover\", \"stopover\", \"stopover\", \"stopover\", \"stopover\", \"store\", \"store\", \"store\", \"store\", \"store\", \"store\", \"store\", \"street\", \"street\", \"street\", \"street\", \"street\", \"street\", \"street\", \"studio\", \"studio\", \"studio\", \"studio\", \"stunk\", \"suite\", \"suite\", \"superb\", \"supervisor\", \"support\", \"surround\", \"swim\", \"swimming\", \"tablet\", \"tang\", \"taxi\", \"taxi\", \"taxi\", \"taxi\", \"taxi\", \"taxi\", \"taxi\", \"tea\", \"tea\", \"tea\", \"tea\", \"tea\", \"tea\", \"tea\", \"thank\", \"thank\", \"thank\", \"thank\", \"thank\", \"thank\", \"thank\", \"thats\", \"thats\", \"thats\", \"thats\", \"thats\", \"thing\", \"thing\", \"thing\", \"thing\", \"thing\", \"thing\", \"thing\", \"thou\", \"though\", \"tiger\", \"tile\", \"tile\", \"tile\", \"tile\", \"tile\", \"tile\", \"time\", \"time\", \"time\", \"time\", \"time\", \"time\", \"time\", \"timing\", \"toilet\", \"toilet\", \"toilet\", \"toilet\", \"toilet\", \"toilet\", \"toilet\", \"told\", \"told\", \"towel\", \"towel\", \"towel\", \"towel\", \"towel\", \"towel\", \"towel\", \"tower\", \"training\", \"tub\", \"tub\", \"tub\", \"tube\", \"tv\", \"tv\", \"tv\", \"tv\", \"tv\", \"tv\", \"tv\", \"twice\", \"u\", \"u\", \"u\", \"u\", \"u\", \"u\", \"u\", \"updating\", \"upstairs\", \"upstairs\", \"usage\", \"use\", \"use\", \"use\", \"use\", \"use\", \"use\", \"use\", \"value\", \"value\", \"value\", \"value\", \"value\", \"value\", \"value\", \"variety\", \"variety\", \"variety\", \"variety\", \"variety\", \"vehicle\", \"video\", \"vietnam\", \"view\", \"view\", \"view\", \"view\", \"view\", \"view\", \"view\", \"wait\", \"wait\", \"wait\", \"wait\", \"wait\", \"wait\", \"wait\", \"walk\", \"walk\", \"walk\", \"walk\", \"walk\", \"walk\", \"walk\", \"wall\", \"wall\", \"wall\", \"wall\", \"wall\", \"wall\", \"wall\", \"wallpaper\", \"water\", \"water\", \"water\", \"water\", \"water\", \"water\", \"water\", \"way\", \"way\", \"way\", \"way\", \"way\", \"way\", \"way\", \"wear\", \"wedding\", \"wedding\", \"weight\", \"wi\", \"wi\", \"wi\", \"wi\", \"wifi\", \"wifi\", \"wifi\", \"wifi\", \"wifi\", \"wifi\", \"wifi\", \"window\", \"window\", \"window\", \"window\", \"window\", \"window\", \"window\", \"wish\", \"wood\", \"work\", \"work\", \"work\", \"work\", \"work\", \"work\", \"work\", \"wow\", \"york\", \"\\uc083\"]}, \"R\": 30, \"lambda.step\": 0.01, \"plot.opts\": {\"xlab\": \"PC1\", \"ylab\": \"PC2\"}, \"topic.order\": [4, 5, 1, 6, 2, 7, 3]};\n",
       "\n",
       "function LDAvis_load_lib(url, callback){\n",
       "  var s = document.createElement('script');\n",
       "  s.src = url;\n",
       "  s.async = true;\n",
       "  s.onreadystatechange = s.onload = callback;\n",
       "  s.onerror = function(){console.warn(\"failed to load library \" + url);};\n",
       "  document.getElementsByTagName(\"head\")[0].appendChild(s);\n",
       "}\n",
       "\n",
       "if(typeof(LDAvis) !== \"undefined\"){\n",
       "   // already loaded: just create the visualization\n",
       "   !function(LDAvis){\n",
       "       new LDAvis(\"#\" + \"ldavis_el795623840907787525939054145\", ldavis_el795623840907787525939054145_data);\n",
       "   }(LDAvis);\n",
       "}else if(typeof define === \"function\" && define.amd){\n",
       "   // require.js is available: use it to load d3/LDAvis\n",
       "   require.config({paths: {d3: \"https://d3js.org/d3.v5\"}});\n",
       "   require([\"d3\"], function(d3){\n",
       "      window.d3 = d3;\n",
       "      LDAvis_load_lib(\"https://cdn.jsdelivr.net/gh/bmabey/pyLDAvis@3.3.1/pyLDAvis/js/ldavis.v3.0.0.js\", function(){\n",
       "        new LDAvis(\"#\" + \"ldavis_el795623840907787525939054145\", ldavis_el795623840907787525939054145_data);\n",
       "      });\n",
       "    });\n",
       "}else{\n",
       "    // require.js not available: dynamically load d3 & LDAvis\n",
       "    LDAvis_load_lib(\"https://d3js.org/d3.v5.js\", function(){\n",
       "         LDAvis_load_lib(\"https://cdn.jsdelivr.net/gh/bmabey/pyLDAvis@3.3.1/pyLDAvis/js/ldavis.v3.0.0.js\", function(){\n",
       "                 new LDAvis(\"#\" + \"ldavis_el795623840907787525939054145\", ldavis_el795623840907787525939054145_data);\n",
       "            })\n",
       "         });\n",
       "}\n",
       "</script>"
      ],
      "text/plain": [
       "PreparedData(topic_coordinates=              x         y  topics  cluster       Freq\n",
       "topic                                                \n",
       "3      0.129555  0.032577       1        1  32.405946\n",
       "4     -0.019766 -0.039951       2        1  14.886037\n",
       "0     -0.122565  0.054574       3        1  12.790165\n",
       "5     -0.008535 -0.148287       4        1  12.056159\n",
       "1      0.178449 -0.014166       5        1  11.960627\n",
       "6     -0.154094 -0.021793       6        1  10.391355\n",
       "2     -0.003045  0.137046       7        1   5.509711, topic_info=          Term          Freq         Total Category  logprob  loglift\n",
       "1574      pool   8406.000000   8406.000000  Default  30.0000  30.0000\n",
       "2376      york   3009.000000   3009.000000  Default  29.0000  29.0000\n",
       "212    service  12912.000000  12912.000000  Default  28.0000  28.0000\n",
       "1176      quay   2323.000000   2323.000000  Default  27.0000  27.0000\n",
       "175   bathroom   8738.000000   8738.000000  Default  26.0000  26.0000\n",
       "...        ...           ...           ...      ...      ...      ...\n",
       "100         ha    211.780197   4835.799596   Topic7  -5.3618  -0.2296\n",
       "342       door    204.420843   3376.879560   Topic7  -5.3972   0.0941\n",
       "105       need    203.007818   2956.569610   Topic7  -5.4041   0.2201\n",
       "171       wifi    200.756886   2991.782665   Topic7  -5.4153   0.1971\n",
       "61     station    203.736734   7969.468190   Topic7  -5.4005  -0.7679\n",
       "\n",
       "[611 rows x 6 columns], token_table=      Topic      Freq  Term\n",
       "term                       \n",
       "67        1  0.007812     *\n",
       "67        2  0.007812     *\n",
       "67        5  0.968629     *\n",
       "67        6  0.014061     *\n",
       "549       1  0.043201     +\n",
       "...     ...       ...   ...\n",
       "262       6  0.330962  work\n",
       "262       7  0.064485  work\n",
       "654       3  0.999037   wow\n",
       "2376      3  1.000093  york\n",
       "2310      1  0.994556     삃\n",
       "\n",
       "[1459 rows x 3 columns], R=30, lambda_step=0.01, plot_opts={'xlab': 'PC1', 'ylab': 'PC2'}, topic_order=[4, 5, 1, 6, 2, 7, 3])"
      ]
     },
     "execution_count": 122,
     "metadata": {},
     "output_type": "execute_result"
    }
   ],
   "source": [
    "import pyLDAvis\n",
    "import pyLDAvis.gensim_models as gensimvis \n",
    "#Visualize LDA model\n",
    "\n",
    "pyLDAvis.enable_notebook()\n",
    "\n",
    "vis = gensimvis.prepare(model, corpus, id2word)\n",
    "\n",
    "vis\n",
    "# pyLDAvis.save_html(vis, 'LDA visualization.html')"
   ]
  },
  {
   "cell_type": "code",
   "execution_count": 151,
   "metadata": {
    "id": "cxXhIzZbMv6a"
   },
   "outputs": [],
   "source": [
    "RawTopicTokenList = model.print_topics()"
   ]
  },
  {
   "cell_type": "code",
   "execution_count": 152,
   "metadata": {
    "id": "6BbZKH2xNCUm"
   },
   "outputs": [],
   "source": [
    "def parse_topic_token(RawTopicTokenList):\n",
    "  TopicDic = []\n",
    "  for idx, eqs in RawTopicTokenList:\n",
    "    tokenlist = []\n",
    "    eqlist = eqs.split(\" + \")\n",
    "    for idx, eq in enumerate(eqlist):\n",
    "      word = eq.split(\"*\")[1]\n",
    "      tokenlist.append(word.split('\"')[1])\n",
    "    TopicDic.append(tokenlist)\n",
    "\n",
    "  return TopicDic"
   ]
  },
  {
   "cell_type": "markdown",
   "metadata": {
    "id": "0QGOkPCew-Ir"
   },
   "source": [
    "### Your work (2)\n",
    "\n",
    "- The number of topics should be adjusted by you, but once you give it around 10.\n",
    "- If there are many overlapping topics, you have to adjust it by decreasing the number of topics or by increasing the number of iterations (if you want, additional preprocessing is allowed).\n",
    "\n",
    "- Alternatively, there are some methods to decide the number of topics, such as perplexity and topic coherence. If you are interested in these topic model evaluation methods, please find the relevant resources.\n",
    "\n",
    "- You have to name each topic appropriately by interpreting the high-weighted words"
   ]
  },
  {
   "cell_type": "code",
   "execution_count": null,
   "metadata": {
    "id": "Gwod5fJfxPXj"
   },
   "outputs": [],
   "source": [
    "################ Write Your code #####################\n",
    "import matplotlib.pyplot as plt\n",
    "import numpy as np\n",
    "from gensim.models import CoherenceModel\n",
    "# Compute Coherence Score\n",
    "\n",
    "num_topics = np.arange(5,16)\n",
    "coherence_values = []\n",
    "\n",
    "for topic_num in num_topics:\n",
    "    lda_model = gensim.models.ldamodel.LdaModel(corpus=corpus,\n",
    "                                        id2word=id2word,\n",
    "                                        num_topics=topic_num,\n",
    "                                        iterations=3000,\n",
    "                                        alpha=0.1,\n",
    "                                        eta=0.01)\n",
    "    coherence_model_lda = CoherenceModel(model=lda_model, texts=NounTokenDataset, dictionary=id2word, coherence='c_v')\n",
    "    coherence_lda = coherence_model_lda.get_coherence()\n",
    "    coherence_values.append(coherence_lda)\n",
    "\n",
    "#######################################################"
   ]
  },
  {
   "cell_type": "code",
   "execution_count": 114,
   "metadata": {},
   "outputs": [
    {
     "data": {
      "image/png": "[encoded data removed]",
      "text/plain": [
       "<Figure size 800x600 with 1 Axes>"
      ]
     },
     "metadata": {},
     "output_type": "display_data"
    }
   ],
   "source": [
    "plt.figure(figsize=(8,6))\n",
    "plt.plot(num_topics, coherence_values)\n",
    "plt.title('Topic Coherence Measure')\n",
    "plt.xlabel('Num of Topics')\n",
    "plt.show()"
   ]
  },
  {
   "cell_type": "code",
   "execution_count": 153,
   "metadata": {},
   "outputs": [
    {
     "name": "stdout",
     "output_type": "stream",
     "text": [
      "      topic_1    topic_2  topic_3    topic_4   topic_5   topic_6    topic_7\n",
      "0        time       quay     pool       food     water  bathroom    service\n",
      "1        york       pool      gym        mrt       day       bed        bed\n",
      "2       check  singapore  service       stay     floor      area       stay\n",
      "3         day       walk    place    station       bed    shower  reception\n",
      "4        stay       city     time  singapore      time     value        day\n",
      "5        desk       area     walk       road  bathroom     money       time\n",
      "6     service       stay     stay    service   service    toilet     people\n",
      "7       floor        bus   minute      place    coffee     price      smell\n",
      "8  experience       view     area       walk      food       bit      thing\n",
      "9     manager     clarke   people     family      pool     floor      phone\n",
      "\n",
      "['Responsiveness', 'Location', 'Additional Facilities', 'Food Quality', 'Overall Room Quality', 'Bathroom', 'Service Quality']\n"
     ]
    }
   ],
   "source": [
    "RawTopicTokenList = model.print_topics()\n",
    "TopicWordList = parse_topic_token(RawTopicTokenList)\n",
    "TopicWordList_df = pd.DataFrame(TopicWordList).T # now columns are topics\n",
    "TopicWordList_df.columns = [f'topic_{i}' for i in range(1,8)]\n",
    "print(TopicWordList_df)\n",
    "# By looking at the Intertopic Distance Map, we decided on the following topic names\n",
    "TopicNames = ['Responsiveness','Location','Additional Facilities','Food Quality','Overall Room Quality','Bathroom','Service Quality']\n",
    "print()\n",
    "print(TopicNames)"
   ]
  },
  {
   "cell_type": "markdown",
   "metadata": {
    "id": "8YTZOcct4oWR"
   },
   "source": [
    "## 3) Sentiment Analysis\n",
    "\n",
    "- The sentiment of the service features are estimated based on the sentiments of sentence containing service feature words.\n",
    "- We use VADER sentiment analysis to estimate sentiment intensity (score) of the each sentence\n",
    "- Score range of VADER : -1 (extremely negative) ~ +1 (extremely positive)"
   ]
  },
  {
   "cell_type": "code",
   "execution_count": 69,
   "metadata": {
    "colab": {
     "base_uri": "https://localhost:8080/"
    },
    "id": "TYJXnaPj4oWR",
    "outputId": "4a0964e1-0c80-4252-87db-ffaedb3f9a80"
   },
   "outputs": [
    {
     "name": "stdout",
     "output_type": "stream",
     "text": [
      "Collecting vaderSentiment\n",
      "  Downloading vaderSentiment-3.3.2-py2.py3-none-any.whl (125 kB)\n",
      "     ------------------------------------ 126.0/126.0 kB 820.6 kB/s eta 0:00:00\n",
      "Requirement already satisfied: requests in c:\\users\\aga\\anaconda3\\lib\\site-packages (from vaderSentiment) (2.25.1)\n",
      "Requirement already satisfied: chardet<5,>=3.0.2 in c:\\users\\aga\\anaconda3\\lib\\site-packages (from requests->vaderSentiment) (4.0.0)\n",
      "Requirement already satisfied: certifi>=2017.4.17 in c:\\users\\aga\\anaconda3\\lib\\site-packages (from requests->vaderSentiment) (2022.9.14)\n",
      "Requirement already satisfied: idna<3,>=2.5 in c:\\users\\aga\\anaconda3\\lib\\site-packages (from requests->vaderSentiment) (2.10)\n",
      "Requirement already satisfied: urllib3<1.27,>=1.21.1 in c:\\users\\aga\\anaconda3\\lib\\site-packages (from requests->vaderSentiment) (1.26.11)\n",
      "Installing collected packages: vaderSentiment\n",
      "Successfully installed vaderSentiment-3.3.2\n"
     ]
    }
   ],
   "source": [
    "!pip install vaderSentiment"
   ]
  },
  {
   "cell_type": "code",
   "execution_count": 154,
   "metadata": {
    "colab": {
     "base_uri": "https://localhost:8080/"
    },
    "id": "QnssoRtO4oWR",
    "outputId": "ef6b0faa-1989-4cad-ee43-7e805978e2cd"
   },
   "outputs": [
    {
     "name": "stdout",
     "output_type": "stream",
     "text": [
      "Sentence  : [Sentiment score] \n",
      "Location was great, nearby landmark : 0.6597\n",
      "Awesome view, Wow : 0.836\n",
      "City veiw was not good : -0.3412\n",
      "Terrible room condition : -0.4767\n",
      "great quality internet : 0.6249\n",
      "the room is not bad and not good : 0.1139\n"
     ]
    }
   ],
   "source": [
    "# Example\n",
    "from vaderSentiment.vaderSentiment import SentimentIntensityAnalyzer\n",
    "\n",
    "analyser = SentimentIntensityAnalyzer()\n",
    "\n",
    "example1 = \"Location was great, nearby landmark\"\n",
    "example2 = \"Awesome view, Wow\"\n",
    "example3 = \"City veiw was not good\"\n",
    "example4 = \"Terrible room condition\"\n",
    "example5 = \"great quality internet\"\n",
    "\n",
    "print(\"Sentence  : [Sentiment score] \")\n",
    "print(\"{0} : {1}\".format(example1, analyser.polarity_scores(example1)['compound']))\n",
    "print(\"{0} : {1}\".format(example2, analyser.polarity_scores(example2)['compound']))\n",
    "print(\"{0} : {1}\".format(example3, analyser.polarity_scores(example3)['compound']))\n",
    "print(\"{0} : {1}\".format(example4, analyser.polarity_scores(example4)['compound']))\n",
    "print(\"{0} : {1}\".format(example5, analyser.polarity_scores(example5)['compound']))\n",
    "print(\"{0} : {1}\".format(example6, analyser.polarity_scores(example6)['compound']))"
   ]
  },
  {
   "cell_type": "code",
   "execution_count": null,
   "metadata": {
    "id": "ujHaQjBE4oWR",
    "scrolled": true
   },
   "outputs": [],
   "source": [
    "#Sentiment analysis\n",
    "from vaderSentiment.vaderSentiment import SentimentIntensityAnalyzer\n",
    "analyser = SentimentIntensityAnalyzer()\n",
    "\n",
    "def show_sentence_sentiment (TopicWordList_topic, TokenDataset, ReviewList):\n",
    "    for i,review in enumerate(TokenDataset):\n",
    "        SentenceTokenizedList = nltk.sent_tokenize(ReviewList[i])\n",
    "        for j,sent in enumerate(review):\n",
    "            for word in sent:\n",
    "                if word in TopicWordList_topic:\n",
    "                    print(\"word: \",word)\n",
    "                    print(\"tokenlist: \",sent)\n",
    "                    print(\"Sent: \",SentenceTokenizedList[j])\n",
    "                    print(\"Sentiment score: {}\\n\".format(analyser.polarity_scores(SentenceTokenizedList[j])['compound']))\n",
    "\n",
    "# Only for topic 1\n",
    "#show_sentence_sentiment(TopicWordList[0], TokenDataset,  ReviewList)"
   ]
  },
  {
   "cell_type": "markdown",
   "metadata": {
    "id": "KHh1I7qwshce"
   },
   "source": [
    "### Your Work (3)\n",
    "Modifying the above code (**'show_sentence_sentiment'** function), Create Review*SentimentLabel matrix (# of reviews * # of topics)\n",
    "- Review*SentimentLabel matrix\n",
    "    - shape : [review * service_feature(topic)]\n",
    "    - value : Sentiment label corresponding to sentiment intensity (score)\n",
    "    - Note : Convert sentiment intensity to sentiment label (see tutorial ppt file)\n",
    "\n",
    "- Output Variables name : ReviewSentimentMatrix"
   ]
  },
  {
   "cell_type": "code",
   "execution_count": 188,
   "metadata": {
    "id": "nfJoVAPXuYtn"
   },
   "outputs": [],
   "source": [
    "################ Write Your code #####################\n",
    "def convert_to_label(sentiment_intensity):\n",
    "    if 0.525 <= sentiment_intensity <= 1:\n",
    "        return 4\n",
    "    elif 0.05 <= sentiment_intensity < 0.525:\n",
    "        return 3\n",
    "    elif -0.05 <= sentiment_intensity < 0.05:\n",
    "        return 0\n",
    "    elif -0.525 <= sentiment_intensity < -0.05:\n",
    "        return 2\n",
    "    else:\n",
    "        return 1\n",
    "\n",
    "def show_sentence_sentiment_modified (TopicWordList_topics, TokenDataset, ReviewList):\n",
    "    ReviewSentimentMatrix = []\n",
    "\n",
    "    for i,review in enumerate(TokenDataset):\n",
    "        SentenceTokenizedList = nltk.sent_tokenize(ReviewList[i])\n",
    "        topic_sentiments = []\n",
    "        for topic in TopicWordList_topics:\n",
    "            sentiment_sum = 0\n",
    "            for j,sent in enumerate(review):\n",
    "                for word in sent:\n",
    "                    if word in topic:\n",
    "                        sentiment_intensity = analyser.polarity_scores(SentenceTokenizedList[j])['compound']\n",
    "                        sentiment_sum += sentiment_intensity\n",
    "                        break\n",
    "            average_sentiment = sentiment_sum / len(review)\n",
    "            label = convert_to_label(average_sentiment)\n",
    "            topic_sentiments.append(label)\n",
    "        \n",
    "        ReviewSentimentMatrix.append(topic_sentiments)\n",
    "    return ReviewSentimentMatrix\n",
    "\n",
    "#######################################################\n",
    "ReviewSentimentMatrix = show_sentence_sentiment_modified(TopicWordList, TokenDataset,  ReviewList)"
   ]
  },
  {
   "cell_type": "markdown",
   "metadata": {
    "id": "jdF0pl0N4oWR"
   },
   "source": [
    "## 4) Prediction Modeling on Customer Satisfaction\n",
    "\n",
    "- Input data (X, independence variables) : Review*sentiment_score matrix (Just use the data(ReviewSentimentMatrix) that you created in your work (3))\n",
    "   - shape : [review * service_feature(topic)]\n",
    "   - value : sentiment label\n",
    "- Output data (y, dependence variable) : star rating\n",
    "    - Using **StarRatingList** variable (already defined the above) and **preprocess** it!\n",
    "    - label  \n",
    "      - 0 : negative label (1,2,3 ratings)\n",
    "      - 1 : positive label (4,5 ratings)\n",
    "    - Output variable name : StarRatingLabels\n",
    "- Note\n",
    "    - We perform classification (categorical) task, not regression (continuous) task\n",
    "    - You have to remove the reviews that sentiment scores of all features are zero value. (These reviews are meaningless for analysis)"
   ]
  },
  {
   "cell_type": "code",
   "execution_count": 125,
   "metadata": {
    "colab": {
     "base_uri": "https://localhost:8080/"
    },
    "id": "W7TbHoZV4oWR",
    "outputId": "cd79f4f2-f9a4-4544-9ca9-94734dbf8ebf"
   },
   "outputs": [
    {
     "name": "stdout",
     "output_type": "stream",
     "text": [
      "Shape of input data :(32044, 9)\n",
      "Shape of ouput data :(32044,)\n",
      "Input data : \n",
      "[[3. 0. 0. ... 3. 2. 0.]\n",
      " [3. 0. 0. ... 0. 4. 0.]\n",
      " [4. 0. 0. ... 0. 0. 0.]\n",
      " ...\n",
      " [0. 0. 0. ... 0. 0. 0.]\n",
      " [2. 0. 0. ... 0. 0. 0.]\n",
      " [3. 0. 0. ... 0. 0. 0.]]\n",
      "Ouput data : [0 1 0 ... 1 0 1]\n"
     ]
    }
   ],
   "source": [
    "#example\n",
    "#load the example input and output data. (This code and data are just for showing the example.)\n",
    "\n",
    "import pickle\n",
    "import numpy as np\n",
    "'''Loading input, output for ML'''\n",
    "InputData_X = pickle.load(open(\"Example_Input_Data\", \"rb\"))\n",
    "OutputData_Y = pickle.load(open(\"Example_Output_Data\", \"rb\"))\n",
    "\n",
    "\n",
    "print(\"Shape of input data :{}\".format(InputData_X.shape))\n",
    "print(\"Shape of ouput data :{}\".format(OutputData_Y.shape))\n",
    "\n",
    "print(\"Input data : \\n{}\".format(InputData_X))\n",
    "print(\"Ouput data : {}\".format(OutputData_Y))"
   ]
  },
  {
   "cell_type": "code",
   "execution_count": 126,
   "metadata": {
    "colab": {
     "base_uri": "https://localhost:8080/"
    },
    "id": "9PvnETl84oWR",
    "outputId": "9ee151ce-57f2-4418-cfd9-d1765cf0ca2c"
   },
   "outputs": [
    {
     "name": "stdout",
     "output_type": "stream",
     "text": [
      "Training Accuracy : 0.63\n",
      "\n",
      "Topic  (idx) : Coefficient\n",
      "Location (1) : 0.184\n",
      "View (2) : 0.069\n",
      "Breakfast (3) : 0.096\n",
      "Sleep Quality (4) : -0.007\n",
      "Bathroom (5) : -0.096\n",
      "Service (6) : 0.265\n",
      "Check (7) : -0.006\n",
      "Value (8) : 0.07\n",
      "Internet (9) : 0.032\n"
     ]
    }
   ],
   "source": [
    "from sklearn.linear_model import LogisticRegression\n",
    "from sklearn.metrics import accuracy_score\n",
    "\n",
    "# call the model\n",
    "logit=LogisticRegression()\n",
    "\n",
    "# train the model\n",
    "logit=logit.fit(InputData_X,OutputData_Y)\n",
    "\n",
    "print(\"Training Accuracy : {}\\n\".format(round(logit.score(InputData_X,OutputData_Y),3)))\n",
    "\n",
    "#print(\"coefficient : {}\".format(logit.coef_))\n",
    "\n",
    "TopicNameList = [\"Location\", \"View\", \"Breakfast\", \"Sleep Quality\", \"Bathroom\", \"Service\", \"Check\", \"Value\", \"Internet\"]\n",
    "print(\"Topic  (idx) : Coefficient\")\n",
    "for idx, coef_topic in enumerate(logit.coef_[0]):\n",
    "    print(\"{} ({}) : {}\".format(TopicNameList[idx],idx+1,round(coef_topic,3)))"
   ]
  },
  {
   "cell_type": "code",
   "execution_count": 127,
   "metadata": {
    "id": "NbGZwBzv4oWS"
   },
   "outputs": [],
   "source": [
    "# performance : AverageSentimentScores\n",
    "Performance = InputData_X.mean(axis=0)\n",
    "MeanPerformance = Performance.mean()\n",
    "\n",
    "#importance\n",
    "Importance = logit.coef_[0]\n",
    "MeanImportance = Importance.mean()"
   ]
  },
  {
   "cell_type": "code",
   "execution_count": 128,
   "metadata": {
    "colab": {
     "base_uri": "https://localhost:8080/",
     "height": 518
    },
    "id": "XR8Dzm_74oWS",
    "outputId": "6cfb6f2f-e72c-441c-dba4-f524dd4dbd89"
   },
   "outputs": [
    {
     "data": {
      "image/png": "[encoded data removed]",
      "text/plain": [
       "<Figure size 800x800 with 1 Axes>"
      ]
     },
     "metadata": {},
     "output_type": "display_data"
    }
   ],
   "source": [
    "import matplotlib.pyplot as plt\n",
    "\n",
    "plt.figure(figsize=(8,8))\n",
    "plt.scatter(Performance, Importance, color = 'g')\n",
    "for idx, topic_name in enumerate(TopicNameList):\n",
    "  plt.text(Performance[idx]+0.005, Importance[idx]+0.005, topic_name)\n",
    "\n",
    "plt.axhline(MeanImportance, color = 'b', linestyle = '--')\n",
    "plt.axvline(MeanPerformance, color = 'b', linestyle = '--')\n",
    "plt.ylabel(\"Importance\")\n",
    "plt.xlabel(\"Performance\")\n",
    "plt.title(\"Importance-Performance Analysis (IPA)\", fontsize = 20)\n",
    "plt.text(0.50, 0.26, \"Q2\", fontweight= \"bold\", fontsize = 15)\n",
    "plt.text(2.20, 0.26, \"Q1\", fontweight= \"bold\", fontsize = 15)\n",
    "plt.text(0.50, -0.10, \"Q3\", fontweight= \"bold\", fontsize = 15)\n",
    "plt.text(2.20, -0.10, \"Q4\", fontweight= \"bold\", fontsize = 15)\n",
    "plt.show()"
   ]
  },
  {
   "cell_type": "markdown",
   "metadata": {
    "id": "cx5iQPEivBSZ"
   },
   "source": [
    "### Your work (4)\n",
    "Modifying the above code, train the model using your own review*sentiment score matrix and conduct Importance-performance analysis (IPA)\n",
    "- If you want, you can preprocess the dataset to get high accuracy. \n",
    "- And, you can use other machine learning models, but it is necessary to interpret the result and conduct IPA through the model."
   ]
  },
  {
   "cell_type": "code",
   "execution_count": 189,
   "metadata": {
    "id": "RiapWMkAcgrn"
   },
   "outputs": [
    {
     "name": "stdout",
     "output_type": "stream",
     "text": [
      "Training Accuracy : 0.662\n",
      "\n",
      "Topic  (idx) : Coefficient\n",
      "Responsiveness (1) : 0.131\n",
      "Location (2) : 0.18\n",
      "Additional Facilities (3) : 0.053\n",
      "Food Quality (4) : 0.222\n",
      "Overall Room Quality (5) : 0.077\n",
      "Bathroom (6) : 0.067\n",
      "Service Quality (7) : 0.026\n"
     ]
    }
   ],
   "source": [
    "################ Write Your code #####################\n",
    "StarRatingLabel = np.array(StarRatingList) > 3\n",
    "InputData_X = np.array(ReviewSentimentMatrix)\n",
    "OutputData_Y = StarRatingLabel\n",
    "\n",
    "# call the model\n",
    "logit=LogisticRegression()\n",
    "\n",
    "# train the model\n",
    "logit=logit.fit(InputData_X,OutputData_Y)\n",
    "\n",
    "print(\"Training Accuracy : {}\\n\".format(round(logit.score(InputData_X,OutputData_Y),3)))\n",
    "\n",
    "#print(\"coefficient : {}\".format(logit.coef_))\n",
    "\n",
    "TopicNameList = TopicNames\n",
    "print(\"Topic  (idx) : Coefficient\")\n",
    "for idx, coef_topic in enumerate(logit.coef_[0]):\n",
    "    print(\"{} ({}) : {}\".format(TopicNameList[idx],idx+1,round(coef_topic,3)))\n",
    "\n",
    "#######################################################"
   ]
  },
  {
   "cell_type": "code",
   "execution_count": 190,
   "metadata": {
    "id": "Ff-0sxSZceDY"
   },
   "outputs": [],
   "source": [
    "# performance : AverageSentimentScores\n",
    "Performance = InputData_X.mean(axis=0)\n",
    "MeanPerformance = Performance.mean()\n",
    "#importance\n",
    "Importance = logit.coef_[0]\n",
    "MeanImportance = Importance.mean()"
   ]
  },
  {
   "cell_type": "code",
   "execution_count": 195,
   "metadata": {
    "scrolled": false
   },
   "outputs": [
    {
     "data": {
      "image/png": "[encoded data removed]",
      "text/plain": [
       "<Figure size 800x800 with 1 Axes>"
      ]
     },
     "metadata": {},
     "output_type": "display_data"
    }
   ],
   "source": [
    "import matplotlib.pyplot as plt\n",
    "\n",
    "plt.figure(figsize=(8,8))\n",
    "plt.scatter(Performance, Importance, color = 'g')\n",
    "for idx, topic_name in enumerate(TopicNameList):\n",
    "  plt.text(Performance[idx]+0.005, Importance[idx]+0.005, topic_name)\n",
    "\n",
    "plt.axhline(MeanImportance, color = 'b', linestyle = '--')\n",
    "plt.axvline(MeanPerformance, color = 'b', linestyle = '--')\n",
    "plt.ylabel(\"Importance\")\n",
    "plt.xlabel(\"Performance\")\n",
    "plt.title(\"Importance-Performance Analysis (IPA)\", fontsize = 20)\n",
    "plt.text(1.2, 0.2, \"Q2\", fontweight= \"bold\", fontsize = 15)\n",
    "plt.text(1.65, 0.2, \"Q1\", fontweight= \"bold\", fontsize = 15)\n",
    "plt.text(1.2, 0.03, \"Q3\", fontweight= \"bold\", fontsize = 15)\n",
    "plt.text(1.65, 0.03, \"Q4\", fontweight= \"bold\", fontsize = 15)\n",
    "plt.show()"
   ]
  },
  {
   "cell_type": "code",
   "execution_count": null,
   "metadata": {},
   "outputs": [],
   "source": []
  }
 ],
 "metadata": {
  "colab": {
   "collapsed_sections": [],
   "provenance": [],
   "toc_visible": true
  },
  "interpreter": {
   "hash": "40d3a090f54c6569ab1632332b64b2c03c39dcf918b08424e98f38b5ae0af88f"
  },
  "kernelspec": {
   "display_name": "Python 3 (ipykernel)",
   "language": "python",
   "name": "python3"
  },
  "language_info": {
   "codemirror_mode": {
    "name": "ipython",
    "version": 3
   },
   "file_extension": ".py",
   "mimetype": "text/x-python",
   "name": "python",
   "nbconvert_exporter": "python",
   "pygments_lexer": "ipython3",
   "version": "3.9.12"
  },
  "varInspector": {
   "cols": {
    "lenName": 16,
    "lenType": 16,
    "lenVar": 40
   },
   "kernels_config": {
    "python": {
     "delete_cmd_postfix": "",
     "delete_cmd_prefix": "del ",
     "library": "var_list.py",
     "varRefreshCmd": "print(var_dic_list())"
    },
    "r": {
     "delete_cmd_postfix": ") ",
     "delete_cmd_prefix": "rm(",
     "library": "var_list.r",
     "varRefreshCmd": "cat(var_dic_list()) "
    }
   },
   "types_to_exclude": [
    "module",
    "function",
    "builtin_function_or_method",
    "instance",
    "_Feature"
   ],
   "window_display": false
  }
 },
 "nbformat": 4,
 "nbformat_minor": 1
}
